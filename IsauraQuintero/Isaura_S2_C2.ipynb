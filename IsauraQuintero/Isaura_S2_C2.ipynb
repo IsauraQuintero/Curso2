{
  "nbformat": 4,
  "nbformat_minor": 0,
  "metadata": {
    "colab": {
      "name": "Isaura S2_C2.ipynb",
      "provenance": [],
      "collapsed_sections": [],
      "toc_visible": true
    },
    "kernelspec": {
      "name": "python3",
      "display_name": "Python 3"
    }
  },
  "cells": [
    {
      "cell_type": "markdown",
      "metadata": {
        "id": "QztjsKHQd4ZK"
      },
      "source": [
        "<p><img alt=\"Colaboratory logo\" height=\"140px\" src=\"https://upload.wikimedia.org/wikipedia/commons/archive/f/fb/20161010213812%21Escudo-UdeA.svg\" align=\"left\" hspace=\"10px\" vspace=\"0px\"></p>\n",
        "\n",
        "<h1> Diplomado de Análisis de datos y Machine Learning en Python</h1>\n",
        "\n",
        "\n",
        "El presente diplomado hace parte del centro de Big Data de la facultad de ciencias exactas y naturales (FCEN) de la Universidad de Antioquia."
      ]
    },
    {
      "cell_type": "code",
      "metadata": {
        "id": "hsikPiH8EEzf",
        "colab": {
          "base_uri": "https://localhost:8080/"
        },
        "outputId": "71916e6f-fc09-47ee-f4af-3c0cf65a518d"
      },
      "source": [
        "!pip install --upgrade tensorflow"
      ],
      "execution_count": 73,
      "outputs": [
        {
          "output_type": "stream",
          "name": "stdout",
          "text": [
            "Looking in indexes: https://pypi.org/simple, https://us-python.pkg.dev/colab-wheels/public/simple/\n",
            "Requirement already satisfied: tensorflow in /usr/local/lib/python3.7/dist-packages (2.8.2+zzzcolab20220719082949)\n",
            "Collecting tensorflow\n",
            "  Downloading tensorflow-2.9.1-cp37-cp37m-manylinux_2_17_x86_64.manylinux2014_x86_64.whl (511.7 MB)\n",
            "\u001b[K     |████████████████████████████████| 511.7 MB 6.0 kB/s \n",
            "\u001b[?25hRequirement already satisfied: keras-preprocessing>=1.1.1 in /usr/local/lib/python3.7/dist-packages (from tensorflow) (1.1.2)\n",
            "Requirement already satisfied: numpy>=1.20 in /usr/local/lib/python3.7/dist-packages (from tensorflow) (1.21.6)\n",
            "Requirement already satisfied: grpcio<2.0,>=1.24.3 in /usr/local/lib/python3.7/dist-packages (from tensorflow) (1.47.0)\n",
            "Requirement already satisfied: libclang>=13.0.0 in /usr/local/lib/python3.7/dist-packages (from tensorflow) (14.0.6)\n",
            "Collecting tensorflow-estimator<2.10.0,>=2.9.0rc0\n",
            "  Downloading tensorflow_estimator-2.9.0-py2.py3-none-any.whl (438 kB)\n",
            "\u001b[K     |████████████████████████████████| 438 kB 85.5 MB/s \n",
            "\u001b[?25hRequirement already satisfied: typing-extensions>=3.6.6 in /usr/local/lib/python3.7/dist-packages (from tensorflow) (4.1.1)\n",
            "Requirement already satisfied: absl-py>=1.0.0 in /usr/local/lib/python3.7/dist-packages (from tensorflow) (1.2.0)\n",
            "Requirement already satisfied: protobuf<3.20,>=3.9.2 in /usr/local/lib/python3.7/dist-packages (from tensorflow) (3.17.3)\n",
            "Collecting gast<=0.4.0,>=0.2.1\n",
            "  Downloading gast-0.4.0-py3-none-any.whl (9.8 kB)\n",
            "Requirement already satisfied: packaging in /usr/local/lib/python3.7/dist-packages (from tensorflow) (21.3)\n",
            "Collecting keras<2.10.0,>=2.9.0rc0\n",
            "  Downloading keras-2.9.0-py2.py3-none-any.whl (1.6 MB)\n",
            "\u001b[K     |████████████████████████████████| 1.6 MB 42.5 MB/s \n",
            "\u001b[?25hCollecting tensorboard<2.10,>=2.9\n",
            "  Downloading tensorboard-2.9.1-py3-none-any.whl (5.8 MB)\n",
            "\u001b[K     |████████████████████████████████| 5.8 MB 36.9 MB/s \n",
            "\u001b[?25hRequirement already satisfied: google-pasta>=0.1.1 in /usr/local/lib/python3.7/dist-packages (from tensorflow) (0.2.0)\n",
            "Requirement already satisfied: six>=1.12.0 in /usr/local/lib/python3.7/dist-packages (from tensorflow) (1.15.0)\n",
            "Requirement already satisfied: h5py>=2.9.0 in /usr/local/lib/python3.7/dist-packages (from tensorflow) (3.1.0)\n",
            "Requirement already satisfied: wrapt>=1.11.0 in /usr/local/lib/python3.7/dist-packages (from tensorflow) (1.14.1)\n",
            "Requirement already satisfied: termcolor>=1.1.0 in /usr/local/lib/python3.7/dist-packages (from tensorflow) (1.1.0)\n",
            "Requirement already satisfied: opt-einsum>=2.3.2 in /usr/local/lib/python3.7/dist-packages (from tensorflow) (3.3.0)\n",
            "Collecting flatbuffers<2,>=1.12\n",
            "  Downloading flatbuffers-1.12-py2.py3-none-any.whl (15 kB)\n",
            "Requirement already satisfied: setuptools in /usr/local/lib/python3.7/dist-packages (from tensorflow) (57.4.0)\n",
            "Requirement already satisfied: tensorflow-io-gcs-filesystem>=0.23.1 in /usr/local/lib/python3.7/dist-packages (from tensorflow) (0.26.0)\n",
            "Requirement already satisfied: astunparse>=1.6.0 in /usr/local/lib/python3.7/dist-packages (from tensorflow) (1.6.3)\n",
            "Requirement already satisfied: wheel<1.0,>=0.23.0 in /usr/local/lib/python3.7/dist-packages (from astunparse>=1.6.0->tensorflow) (0.37.1)\n",
            "Requirement already satisfied: cached-property in /usr/local/lib/python3.7/dist-packages (from h5py>=2.9.0->tensorflow) (1.5.2)\n",
            "Requirement already satisfied: werkzeug>=1.0.1 in /usr/local/lib/python3.7/dist-packages (from tensorboard<2.10,>=2.9->tensorflow) (1.0.1)\n",
            "Requirement already satisfied: requests<3,>=2.21.0 in /usr/local/lib/python3.7/dist-packages (from tensorboard<2.10,>=2.9->tensorflow) (2.23.0)\n",
            "Requirement already satisfied: tensorboard-data-server<0.7.0,>=0.6.0 in /usr/local/lib/python3.7/dist-packages (from tensorboard<2.10,>=2.9->tensorflow) (0.6.1)\n",
            "Requirement already satisfied: google-auth<3,>=1.6.3 in /usr/local/lib/python3.7/dist-packages (from tensorboard<2.10,>=2.9->tensorflow) (1.35.0)\n",
            "Requirement already satisfied: tensorboard-plugin-wit>=1.6.0 in /usr/local/lib/python3.7/dist-packages (from tensorboard<2.10,>=2.9->tensorflow) (1.8.1)\n",
            "Requirement already satisfied: markdown>=2.6.8 in /usr/local/lib/python3.7/dist-packages (from tensorboard<2.10,>=2.9->tensorflow) (3.4.1)\n",
            "Requirement already satisfied: google-auth-oauthlib<0.5,>=0.4.1 in /usr/local/lib/python3.7/dist-packages (from tensorboard<2.10,>=2.9->tensorflow) (0.4.6)\n",
            "Requirement already satisfied: rsa<5,>=3.1.4 in /usr/local/lib/python3.7/dist-packages (from google-auth<3,>=1.6.3->tensorboard<2.10,>=2.9->tensorflow) (4.9)\n",
            "Requirement already satisfied: pyasn1-modules>=0.2.1 in /usr/local/lib/python3.7/dist-packages (from google-auth<3,>=1.6.3->tensorboard<2.10,>=2.9->tensorflow) (0.2.8)\n",
            "Requirement already satisfied: cachetools<5.0,>=2.0.0 in /usr/local/lib/python3.7/dist-packages (from google-auth<3,>=1.6.3->tensorboard<2.10,>=2.9->tensorflow) (4.2.4)\n",
            "Requirement already satisfied: requests-oauthlib>=0.7.0 in /usr/local/lib/python3.7/dist-packages (from google-auth-oauthlib<0.5,>=0.4.1->tensorboard<2.10,>=2.9->tensorflow) (1.3.1)\n",
            "Requirement already satisfied: importlib-metadata>=4.4 in /usr/local/lib/python3.7/dist-packages (from markdown>=2.6.8->tensorboard<2.10,>=2.9->tensorflow) (4.12.0)\n",
            "Requirement already satisfied: zipp>=0.5 in /usr/local/lib/python3.7/dist-packages (from importlib-metadata>=4.4->markdown>=2.6.8->tensorboard<2.10,>=2.9->tensorflow) (3.8.1)\n",
            "Requirement already satisfied: pyasn1<0.5.0,>=0.4.6 in /usr/local/lib/python3.7/dist-packages (from pyasn1-modules>=0.2.1->google-auth<3,>=1.6.3->tensorboard<2.10,>=2.9->tensorflow) (0.4.8)\n",
            "Requirement already satisfied: idna<3,>=2.5 in /usr/local/lib/python3.7/dist-packages (from requests<3,>=2.21.0->tensorboard<2.10,>=2.9->tensorflow) (2.10)\n",
            "Requirement already satisfied: certifi>=2017.4.17 in /usr/local/lib/python3.7/dist-packages (from requests<3,>=2.21.0->tensorboard<2.10,>=2.9->tensorflow) (2022.6.15)\n",
            "Requirement already satisfied: urllib3!=1.25.0,!=1.25.1,<1.26,>=1.21.1 in /usr/local/lib/python3.7/dist-packages (from requests<3,>=2.21.0->tensorboard<2.10,>=2.9->tensorflow) (1.24.3)\n",
            "Requirement already satisfied: chardet<4,>=3.0.2 in /usr/local/lib/python3.7/dist-packages (from requests<3,>=2.21.0->tensorboard<2.10,>=2.9->tensorflow) (3.0.4)\n",
            "Requirement already satisfied: oauthlib>=3.0.0 in /usr/local/lib/python3.7/dist-packages (from requests-oauthlib>=0.7.0->google-auth-oauthlib<0.5,>=0.4.1->tensorboard<2.10,>=2.9->tensorflow) (3.2.0)\n",
            "Requirement already satisfied: pyparsing!=3.0.5,>=2.0.2 in /usr/local/lib/python3.7/dist-packages (from packaging->tensorflow) (3.0.9)\n",
            "Installing collected packages: tensorflow-estimator, tensorboard, keras, gast, flatbuffers, tensorflow\n",
            "  Attempting uninstall: tensorflow-estimator\n",
            "    Found existing installation: tensorflow-estimator 2.8.0\n",
            "    Uninstalling tensorflow-estimator-2.8.0:\n",
            "      Successfully uninstalled tensorflow-estimator-2.8.0\n",
            "  Attempting uninstall: tensorboard\n",
            "    Found existing installation: tensorboard 2.8.0\n",
            "    Uninstalling tensorboard-2.8.0:\n",
            "      Successfully uninstalled tensorboard-2.8.0\n",
            "  Attempting uninstall: keras\n",
            "    Found existing installation: keras 2.8.0\n",
            "    Uninstalling keras-2.8.0:\n",
            "      Successfully uninstalled keras-2.8.0\n",
            "  Attempting uninstall: gast\n",
            "    Found existing installation: gast 0.5.3\n",
            "    Uninstalling gast-0.5.3:\n",
            "      Successfully uninstalled gast-0.5.3\n",
            "  Attempting uninstall: flatbuffers\n",
            "    Found existing installation: flatbuffers 2.0\n",
            "    Uninstalling flatbuffers-2.0:\n",
            "      Successfully uninstalled flatbuffers-2.0\n",
            "  Attempting uninstall: tensorflow\n",
            "    Found existing installation: tensorflow 2.8.2+zzzcolab20220719082949\n",
            "    Uninstalling tensorflow-2.8.2+zzzcolab20220719082949:\n",
            "      Successfully uninstalled tensorflow-2.8.2+zzzcolab20220719082949\n",
            "Successfully installed flatbuffers-1.12 gast-0.4.0 keras-2.9.0 tensorboard-2.9.1 tensorflow-2.9.1 tensorflow-estimator-2.9.0\n"
          ]
        }
      ]
    },
    {
      "cell_type": "code",
      "metadata": {
        "id": "os1XeyqvENXJ",
        "colab": {
          "base_uri": "https://localhost:8080/"
        },
        "outputId": "a0a36a88-33d0-463f-affd-a9b65233aa0b"
      },
      "source": [
        "!pip install --upgrade tensorflow-gpu"
      ],
      "execution_count": 74,
      "outputs": [
        {
          "output_type": "stream",
          "name": "stdout",
          "text": [
            "Looking in indexes: https://pypi.org/simple, https://us-python.pkg.dev/colab-wheels/public/simple/\n",
            "Collecting tensorflow-gpu\n",
            "  Downloading tensorflow_gpu-2.9.1-cp37-cp37m-manylinux_2_17_x86_64.manylinux2014_x86_64.whl (511.7 MB)\n",
            "\u001b[K     |████████████████████████████████| 511.7 MB 5.8 kB/s \n",
            "\u001b[?25hRequirement already satisfied: absl-py>=1.0.0 in /usr/local/lib/python3.7/dist-packages (from tensorflow-gpu) (1.2.0)\n",
            "Requirement already satisfied: astunparse>=1.6.0 in /usr/local/lib/python3.7/dist-packages (from tensorflow-gpu) (1.6.3)\n",
            "Requirement already satisfied: google-pasta>=0.1.1 in /usr/local/lib/python3.7/dist-packages (from tensorflow-gpu) (0.2.0)\n",
            "Requirement already satisfied: keras<2.10.0,>=2.9.0rc0 in /usr/local/lib/python3.7/dist-packages (from tensorflow-gpu) (2.9.0)\n",
            "Requirement already satisfied: keras-preprocessing>=1.1.1 in /usr/local/lib/python3.7/dist-packages (from tensorflow-gpu) (1.1.2)\n",
            "Requirement already satisfied: typing-extensions>=3.6.6 in /usr/local/lib/python3.7/dist-packages (from tensorflow-gpu) (4.1.1)\n",
            "Requirement already satisfied: opt-einsum>=2.3.2 in /usr/local/lib/python3.7/dist-packages (from tensorflow-gpu) (3.3.0)\n",
            "Requirement already satisfied: setuptools in /usr/local/lib/python3.7/dist-packages (from tensorflow-gpu) (57.4.0)\n",
            "Requirement already satisfied: h5py>=2.9.0 in /usr/local/lib/python3.7/dist-packages (from tensorflow-gpu) (3.1.0)\n",
            "Requirement already satisfied: tensorflow-estimator<2.10.0,>=2.9.0rc0 in /usr/local/lib/python3.7/dist-packages (from tensorflow-gpu) (2.9.0)\n",
            "Requirement already satisfied: gast<=0.4.0,>=0.2.1 in /usr/local/lib/python3.7/dist-packages (from tensorflow-gpu) (0.4.0)\n",
            "Requirement already satisfied: tensorboard<2.10,>=2.9 in /usr/local/lib/python3.7/dist-packages (from tensorflow-gpu) (2.9.1)\n",
            "Requirement already satisfied: protobuf<3.20,>=3.9.2 in /usr/local/lib/python3.7/dist-packages (from tensorflow-gpu) (3.17.3)\n",
            "Requirement already satisfied: flatbuffers<2,>=1.12 in /usr/local/lib/python3.7/dist-packages (from tensorflow-gpu) (1.12)\n",
            "Requirement already satisfied: numpy>=1.20 in /usr/local/lib/python3.7/dist-packages (from tensorflow-gpu) (1.21.6)\n",
            "Requirement already satisfied: wrapt>=1.11.0 in /usr/local/lib/python3.7/dist-packages (from tensorflow-gpu) (1.14.1)\n",
            "Requirement already satisfied: grpcio<2.0,>=1.24.3 in /usr/local/lib/python3.7/dist-packages (from tensorflow-gpu) (1.47.0)\n",
            "Requirement already satisfied: six>=1.12.0 in /usr/local/lib/python3.7/dist-packages (from tensorflow-gpu) (1.15.0)\n",
            "Requirement already satisfied: tensorflow-io-gcs-filesystem>=0.23.1 in /usr/local/lib/python3.7/dist-packages (from tensorflow-gpu) (0.26.0)\n",
            "Requirement already satisfied: packaging in /usr/local/lib/python3.7/dist-packages (from tensorflow-gpu) (21.3)\n",
            "Requirement already satisfied: termcolor>=1.1.0 in /usr/local/lib/python3.7/dist-packages (from tensorflow-gpu) (1.1.0)\n",
            "Requirement already satisfied: libclang>=13.0.0 in /usr/local/lib/python3.7/dist-packages (from tensorflow-gpu) (14.0.6)\n",
            "Requirement already satisfied: wheel<1.0,>=0.23.0 in /usr/local/lib/python3.7/dist-packages (from astunparse>=1.6.0->tensorflow-gpu) (0.37.1)\n",
            "Requirement already satisfied: cached-property in /usr/local/lib/python3.7/dist-packages (from h5py>=2.9.0->tensorflow-gpu) (1.5.2)\n",
            "Requirement already satisfied: google-auth-oauthlib<0.5,>=0.4.1 in /usr/local/lib/python3.7/dist-packages (from tensorboard<2.10,>=2.9->tensorflow-gpu) (0.4.6)\n",
            "Requirement already satisfied: google-auth<3,>=1.6.3 in /usr/local/lib/python3.7/dist-packages (from tensorboard<2.10,>=2.9->tensorflow-gpu) (1.35.0)\n",
            "Requirement already satisfied: requests<3,>=2.21.0 in /usr/local/lib/python3.7/dist-packages (from tensorboard<2.10,>=2.9->tensorflow-gpu) (2.23.0)\n",
            "Requirement already satisfied: werkzeug>=1.0.1 in /usr/local/lib/python3.7/dist-packages (from tensorboard<2.10,>=2.9->tensorflow-gpu) (1.0.1)\n",
            "Requirement already satisfied: tensorboard-data-server<0.7.0,>=0.6.0 in /usr/local/lib/python3.7/dist-packages (from tensorboard<2.10,>=2.9->tensorflow-gpu) (0.6.1)\n",
            "Requirement already satisfied: markdown>=2.6.8 in /usr/local/lib/python3.7/dist-packages (from tensorboard<2.10,>=2.9->tensorflow-gpu) (3.4.1)\n",
            "Requirement already satisfied: tensorboard-plugin-wit>=1.6.0 in /usr/local/lib/python3.7/dist-packages (from tensorboard<2.10,>=2.9->tensorflow-gpu) (1.8.1)\n",
            "Requirement already satisfied: cachetools<5.0,>=2.0.0 in /usr/local/lib/python3.7/dist-packages (from google-auth<3,>=1.6.3->tensorboard<2.10,>=2.9->tensorflow-gpu) (4.2.4)\n",
            "Requirement already satisfied: rsa<5,>=3.1.4 in /usr/local/lib/python3.7/dist-packages (from google-auth<3,>=1.6.3->tensorboard<2.10,>=2.9->tensorflow-gpu) (4.9)\n",
            "Requirement already satisfied: pyasn1-modules>=0.2.1 in /usr/local/lib/python3.7/dist-packages (from google-auth<3,>=1.6.3->tensorboard<2.10,>=2.9->tensorflow-gpu) (0.2.8)\n",
            "Requirement already satisfied: requests-oauthlib>=0.7.0 in /usr/local/lib/python3.7/dist-packages (from google-auth-oauthlib<0.5,>=0.4.1->tensorboard<2.10,>=2.9->tensorflow-gpu) (1.3.1)\n",
            "Requirement already satisfied: importlib-metadata>=4.4 in /usr/local/lib/python3.7/dist-packages (from markdown>=2.6.8->tensorboard<2.10,>=2.9->tensorflow-gpu) (4.12.0)\n",
            "Requirement already satisfied: zipp>=0.5 in /usr/local/lib/python3.7/dist-packages (from importlib-metadata>=4.4->markdown>=2.6.8->tensorboard<2.10,>=2.9->tensorflow-gpu) (3.8.1)\n",
            "Requirement already satisfied: pyasn1<0.5.0,>=0.4.6 in /usr/local/lib/python3.7/dist-packages (from pyasn1-modules>=0.2.1->google-auth<3,>=1.6.3->tensorboard<2.10,>=2.9->tensorflow-gpu) (0.4.8)\n",
            "Requirement already satisfied: idna<3,>=2.5 in /usr/local/lib/python3.7/dist-packages (from requests<3,>=2.21.0->tensorboard<2.10,>=2.9->tensorflow-gpu) (2.10)\n",
            "Requirement already satisfied: urllib3!=1.25.0,!=1.25.1,<1.26,>=1.21.1 in /usr/local/lib/python3.7/dist-packages (from requests<3,>=2.21.0->tensorboard<2.10,>=2.9->tensorflow-gpu) (1.24.3)\n",
            "Requirement already satisfied: certifi>=2017.4.17 in /usr/local/lib/python3.7/dist-packages (from requests<3,>=2.21.0->tensorboard<2.10,>=2.9->tensorflow-gpu) (2022.6.15)\n",
            "Requirement already satisfied: chardet<4,>=3.0.2 in /usr/local/lib/python3.7/dist-packages (from requests<3,>=2.21.0->tensorboard<2.10,>=2.9->tensorflow-gpu) (3.0.4)\n",
            "Requirement already satisfied: oauthlib>=3.0.0 in /usr/local/lib/python3.7/dist-packages (from requests-oauthlib>=0.7.0->google-auth-oauthlib<0.5,>=0.4.1->tensorboard<2.10,>=2.9->tensorflow-gpu) (3.2.0)\n",
            "Requirement already satisfied: pyparsing!=3.0.5,>=2.0.2 in /usr/local/lib/python3.7/dist-packages (from packaging->tensorflow-gpu) (3.0.9)\n",
            "Installing collected packages: tensorflow-gpu\n",
            "Successfully installed tensorflow-gpu-2.9.1\n"
          ]
        }
      ]
    },
    {
      "cell_type": "markdown",
      "metadata": {
        "id": "GhcG71upd76n"
      },
      "source": [
        "# Regresión Lineal"
      ]
    },
    {
      "cell_type": "markdown",
      "metadata": {
        "id": "QmD95PWkiBpi"
      },
      "source": [
        "En una regresión lineal, se intenta ajustar una variable dependiente $y$ en función de una variable independiente $x$ de la siguiente manera:\n",
        "\n",
        "$$y=m x+b$$\n",
        "\n",
        "Donde los parámetros $m$ y $b$ del ajuste se obtienen a partir de los datos. El parámetro $m$ se conoce comunmente como la pendiente y determina la ponderación que tiene la variable independiente $x$. Por otro lado, el parámetro $b$ se conoce como el intercepto y es el valor que toma la variable independiente $y$ cuando $x$ es igual a cero.\n",
        "\n",
        "Existen dos tipos de relaciones lineales, las determinísticas y las estadísticas. En las determinísticas, las variables independientes determinan absolutamente y sin error las dependientes. Por ejemplo, si se conoce el radio de un círculo se puede determinar su circunferencia hasta cierto nivel de incertidumbre.\n",
        "\n",
        "$$C=2\\pi r$$\n",
        "\n",
        "Sin embargo, para el caso estadístico, la dependencia lineal no es tan exacta y se debe tener en cuenta un error residual entre las observaciones y los valores predichos. Un ejemplo de esto es el peso de una persona en función de su altura. Intuitivamente esperamos que entre más alta sea una persona, mayor será su peso. Aun así, esta relación no se cumple perfectamente, puede haber varias personas con igual altura pero diferente peso."
      ]
    },
    {
      "cell_type": "code",
      "metadata": {
        "id": "UDLL_QDAdm9o"
      },
      "source": [
        "import numpy as np\n",
        "import matplotlib.pyplot as plt\n",
        "%matplotlib inline"
      ],
      "execution_count": 75,
      "outputs": []
    },
    {
      "cell_type": "code",
      "metadata": {
        "id": "Q3YZAtyryO5M",
        "colab": {
          "base_uri": "https://localhost:8080/",
          "height": 286
        },
        "outputId": "a83b8ef0-fee7-448f-8d74-47ccd5ae52f1"
      },
      "source": [
        "x=10*np.random.rand(100)\n",
        "e=10*(np.random.rand(100)-0.5)\n",
        "y=3*x+5+e\n",
        "plt.scatter(x,y)\n",
        "plt.plot(np.arange(0,11),3*np.arange(0,11)+5,c='k')"
      ],
      "execution_count": 76,
      "outputs": [
        {
          "output_type": "execute_result",
          "data": {
            "text/plain": [
              "[<matplotlib.lines.Line2D at 0x7f58e5bfcfd0>]"
            ]
          },
          "metadata": {},
          "execution_count": 76
        },
        {
          "output_type": "display_data",
          "data": {
            "text/plain": [
              "<Figure size 432x288 with 1 Axes>"
            ],
            "image/png": "[encoded data removed]"
          },
          "metadata": {
            "needs_background": "light"
          }
        }
      ]
    },
    {
      "cell_type": "markdown",
      "metadata": {
        "id": "EPU5-3Hjzq41"
      },
      "source": [
        "La línea negra muestra la linea de tendencia del ajuste. Podemos ver que esta línea no atravieza perfectamente cada dato pero si representa de manera aproximadamente la tendencia que siguen. Cada dato tiene un error entre lo observado y lo predicho, este error se grafica en rojo más abajo:"
      ]
    },
    {
      "cell_type": "code",
      "metadata": {
        "id": "e3_oXcF9zqJH",
        "colab": {
          "base_uri": "https://localhost:8080/",
          "height": 286
        },
        "outputId": "4d100013-4383-457b-fcfb-67ef2f4b453b"
      },
      "source": [
        "plt.errorbar(x,y,yerr=np.c_[e,np.zeros_like(e)].T,fmt='none',c='r')\n",
        "plt.scatter(x,y)\n",
        "plt.plot(np.arange(0,11),3*np.arange(0,11)+5,c='k')"
      ],
      "execution_count": 77,
      "outputs": [
        {
          "output_type": "execute_result",
          "data": {
            "text/plain": [
              "[<matplotlib.lines.Line2D at 0x7f58e5f53cd0>]"
            ]
          },
          "metadata": {},
          "execution_count": 77
        },
        {
          "output_type": "display_data",
          "data": {
            "text/plain": [
              "<Figure size 432x288 with 1 Axes>"
            ],
            "image/png": "[encoded data removed]"
          },
          "metadata": {
            "needs_background": "light"
          }
        }
      ]
    },
    {
      "cell_type": "markdown",
      "metadata": {
        "id": "BsUzx5PbyXF7"
      },
      "source": [
        "## Mínimos Cuadrados"
      ]
    },
    {
      "cell_type": "markdown",
      "metadata": {
        "id": "VwIT3VBR2CNG"
      },
      "source": [
        "En los años 1800, Gauss y Legendre encontraron una forma de realizar este ajuste, minimizando las suma de los errores al cuadrado, conocido como el Error Cuadrático Medio (MSE por sus siglas en inglés). \n",
        "\n",
        "$$MSE=\\frac{1}{N}\\sum_{i=1}^{N} (\\hat{y_i}-y_i)^2$$\n",
        "\n",
        "Dónde $\\hat{y_i}$ es el valor predicho por la regresión. Los valores de los parámetros que minimizan el error cuadrático están dados por:\n",
        "\n",
        "$$m=\\frac{\\bar{xy}-\\bar{x}\\bar{y}}{\\bar{x^2}-\\bar{x}^2}$$\n",
        "\n",
        "$$b=\\bar{y}-m\\bar{x}$$\n",
        "\n",
        "Dónde una barra determina un promedio de la cantidad correspondiente."
      ]
    },
    {
      "cell_type": "code",
      "metadata": {
        "id": "aneOjNqRyRh7",
        "colab": {
          "base_uri": "https://localhost:8080/"
        },
        "outputId": "7011c964-5f6d-4a7d-ab22-2f1b8f50b06a"
      },
      "source": [
        "N=len(x)\n",
        "m=(np.sum(x*y)-np.sum(x)*np.sum(y)/N)/(np.sum(x*x)-np.sum(x)**2/N)\n",
        "b=(np.sum(y)-m*np.sum(x))/N\n",
        "print('b',b)\n",
        "print('m',m)"
      ],
      "execution_count": 78,
      "outputs": [
        {
          "output_type": "stream",
          "name": "stdout",
          "text": [
            "b 5.458769661535384\n",
            "m 2.8275632044088717\n"
          ]
        }
      ]
    },
    {
      "cell_type": "markdown",
      "metadata": {
        "id": "eczPQkMa2ugm"
      },
      "source": [
        "Este ajuste por mínimos cuadrados puede extenderse a un caso multidimensional en el cual tenemos más de una variable independiente. En este caso, cada variable independiente ($x_i$) tiene una ponderación diferente ($a_i$):\n",
        "\n",
        "$$y=a_0+a_1 x_1+a_2 x_2+...+a_m x_m=\\sum_{j=0}^m a_m x_m$$\n",
        "\n",
        "Teniendo en cuenta que $x_0=1$. En este caso, podemos encontrar las ponderaciones usando la ecuación normal:\n",
        "\n",
        "$$\\vec{a}=(a_0,a_1,...,a_m)=(X^T X)^{-1}X^T y$$"
      ]
    },
    {
      "cell_type": "code",
      "metadata": {
        "id": "neXjn5amyY0C",
        "colab": {
          "base_uri": "https://localhost:8080/"
        },
        "outputId": "927883af-b154-4aa5-effa-0d1911b91ee8"
      },
      "source": [
        "X=np.c_[np.ones_like(x),x]\n",
        "np.matmul(np.linalg.inv(np.matmul(X.T,X)),np.matmul(X.T,y))"
      ],
      "execution_count": 79,
      "outputs": [
        {
          "output_type": "execute_result",
          "data": {
            "text/plain": [
              "array([5.45876966, 2.8275632 ])"
            ]
          },
          "metadata": {},
          "execution_count": 79
        }
      ]
    },
    {
      "cell_type": "markdown",
      "metadata": {
        "id": "gPxORBGn5pYl"
      },
      "source": [
        "Sin embargo, si se tienen demasiadas variables independientes (características) la ecuación normal puede ser muy lenta computacionalmente debido a la inversa matricial que hay que calcular. Para ello se usa el gradiente de descenso, como veremos más adelante."
      ]
    },
    {
      "cell_type": "markdown",
      "metadata": {
        "id": "4LyLvLId61Vy"
      },
      "source": [
        "# Regresión Logística"
      ]
    },
    {
      "cell_type": "code",
      "metadata": {
        "id": "TAJ8KkOh7_mN",
        "colab": {
          "base_uri": "https://localhost:8080/",
          "height": 286
        },
        "outputId": "9af10298-29b3-4551-a23f-f2de1fbcb793"
      },
      "source": [
        "def logit(x):\n",
        "  return 1/(1+np.exp(-x))\n",
        "plt.plot(np.arange(-10,11),logit(np.arange(-10,11)))"
      ],
      "execution_count": 80,
      "outputs": [
        {
          "output_type": "execute_result",
          "data": {
            "text/plain": [
              "[<matplotlib.lines.Line2D at 0x7f58e3caea90>]"
            ]
          },
          "metadata": {},
          "execution_count": 80
        },
        {
          "output_type": "display_data",
          "data": {
            "text/plain": [
              "<Figure size 432x288 with 1 Axes>"
            ],
            "image/png": "[encoded data removed]"
          },
          "metadata": {
            "needs_background": "light"
          }
        }
      ]
    },
    {
      "cell_type": "code",
      "metadata": {
        "id": "pptBTcDQ63L2",
        "colab": {
          "base_uri": "https://localhost:8080/",
          "height": 286
        },
        "outputId": "af456bf9-4e89-461a-ae43-5f04e2c2239f"
      },
      "source": [
        "X=np.random.rand(100,2)\n",
        "X=np.c_[np.ones(100),X]\n",
        "e=np.random.rand(100)\n",
        "Y=np.array([X[i,1]+2*X[i,2]-2+e[i]>=0 for i in range(100)])\n",
        "plt.scatter(X[Y,1],X[Y,2])\n",
        "plt.scatter(X[~Y,1],X[~Y,2])"
      ],
      "execution_count": 81,
      "outputs": [
        {
          "output_type": "execute_result",
          "data": {
            "text/plain": [
              "<matplotlib.collections.PathCollection at 0x7f58e3cdf350>"
            ]
          },
          "metadata": {},
          "execution_count": 81
        },
        {
          "output_type": "display_data",
          "data": {
            "text/plain": [
              "<Figure size 432x288 with 1 Axes>"
            ],
            "image/png": "[encoded data removed]"
          },
          "metadata": {
            "needs_background": "light"
          }
        }
      ]
    },
    {
      "cell_type": "code",
      "metadata": {
        "id": "kFh0CfUI7UUe",
        "colab": {
          "base_uri": "https://localhost:8080/"
        },
        "outputId": "b07814bb-c119-4a66-898e-06ff963c7a89"
      },
      "source": [
        "alfa=0.0001\n",
        "A=np.array([0.0,0.0,0.0]).reshape((-1,1))\n",
        "Y_n=Y.reshape((-1,1))\n",
        "for _ in range(1000000):\n",
        "  Y_hat=logit(np.matmul(X,A).reshape((-1,1)))\n",
        "  grad=np.matmul(X.T,Y_hat-Y_n)/N\n",
        "  A-=alfa*grad\n",
        "A"
      ],
      "execution_count": 82,
      "outputs": [
        {
          "output_type": "execute_result",
          "data": {
            "text/plain": [
              "array([[-2.37748724],\n",
              "       [ 0.33914982],\n",
              "       [ 5.03617755]])"
            ]
          },
          "metadata": {},
          "execution_count": 82
        }
      ]
    },
    {
      "cell_type": "code",
      "metadata": {
        "id": "-lN31OxG8dY7",
        "colab": {
          "base_uri": "https://localhost:8080/",
          "height": 286
        },
        "outputId": "2dceb36b-beaf-4aed-d646-c622d221afeb"
      },
      "source": [
        "x1=np.linspace(0,1,10)\n",
        "plt.scatter(X[Y,1],X[Y,2])\n",
        "plt.scatter(X[~Y,1],X[~Y,2])\n",
        "x2=-A[0]/A[2]-A[1]*x1/A[2]\n",
        "plt.plot(x1,x2,'r')"
      ],
      "execution_count": 83,
      "outputs": [
        {
          "output_type": "execute_result",
          "data": {
            "text/plain": [
              "[<matplotlib.lines.Line2D at 0x7f58e3c2ab90>]"
            ]
          },
          "metadata": {},
          "execution_count": 83
        },
        {
          "output_type": "display_data",
          "data": {
            "text/plain": [
              "<Figure size 432x288 with 1 Axes>"
            ],
            "image/png": "[encoded data removed]"
          },
          "metadata": {
            "needs_background": "light"
          }
        }
      ]
    },
    {
      "cell_type": "markdown",
      "metadata": {
        "id": "ZPjQNDkcXZbD"
      },
      "source": [
        "#### Problema\n",
        "Implementar el modelo de regresión logística en el Dataset ***titanic.csv*** para predecir que personas hubieran sobrevivido (Usar Sklearn).\n",
        " \n"
      ]
    },
    {
      "cell_type": "markdown",
      "metadata": {
        "id": "obD6oFzmZi6T"
      },
      "source": [
        "#### Solucion\n"
      ]
    },
    {
      "cell_type": "markdown",
      "metadata": {
        "id": "PGzRSZ06myIC"
      },
      "source": [
        "Importemos algunas de las librerias que nos seran de utilidad"
      ]
    },
    {
      "cell_type": "code",
      "metadata": {
        "id": "1xUhccIhmyIO"
      },
      "source": [
        "import numpy as np\n",
        "import pandas as pd\n",
        "import matplotlib.pyplot as plt\n",
        "import seaborn as sns; sns.set()"
      ],
      "execution_count": 84,
      "outputs": []
    },
    {
      "cell_type": "code",
      "metadata": {
        "id": "M9udTfM3bWv0"
      },
      "source": [
        "data = pd.read_csv('https://raw.githubusercontent.com/diplomado-bigdata-machinelearning-udea/Curso2/master/Datasets/titanic.csv')"
      ],
      "execution_count": 85,
      "outputs": []
    },
    {
      "cell_type": "markdown",
      "metadata": {
        "id": "NADmdTZ9neXs"
      },
      "source": [
        "Inspeccionamos un poco el dataset"
      ]
    },
    {
      "cell_type": "code",
      "metadata": {
        "id": "AVHYkYCenXV7",
        "colab": {
          "base_uri": "https://localhost:8080/"
        },
        "outputId": "22fae888-73fe-4561-8e04-94f80d56092c"
      },
      "source": [
        "data.shape"
      ],
      "execution_count": 86,
      "outputs": [
        {
          "output_type": "execute_result",
          "data": {
            "text/plain": [
              "(891, 12)"
            ]
          },
          "metadata": {},
          "execution_count": 86
        }
      ]
    },
    {
      "cell_type": "code",
      "metadata": {
        "id": "rqRTrooVngcV",
        "colab": {
          "base_uri": "https://localhost:8080/"
        },
        "outputId": "80ca5f3c-9ea1-4fd2-ade3-fae4ceb8a7ec"
      },
      "source": [
        "data.isnull().any()"
      ],
      "execution_count": 87,
      "outputs": [
        {
          "output_type": "execute_result",
          "data": {
            "text/plain": [
              "PassengerId    False\n",
              "Survived       False\n",
              "Pclass         False\n",
              "Name           False\n",
              "Sex            False\n",
              "Age             True\n",
              "SibSp          False\n",
              "Parch          False\n",
              "Ticket         False\n",
              "Fare           False\n",
              "Cabin           True\n",
              "Embarked        True\n",
              "dtype: bool"
            ]
          },
          "metadata": {},
          "execution_count": 87
        }
      ]
    },
    {
      "cell_type": "code",
      "metadata": {
        "id": "hTpAnelpnjEN",
        "colab": {
          "base_uri": "https://localhost:8080/",
          "height": 206
        },
        "outputId": "87a7c350-8584-4c90-b1a7-ef74b0515b2b"
      },
      "source": [
        "data.sample(5)"
      ],
      "execution_count": 88,
      "outputs": [
        {
          "output_type": "execute_result",
          "data": {
            "text/plain": [
              "     PassengerId  Survived  Pclass                           Name   Sex   Age  \\\n",
              "883          884         0       2  Banfield, Mr. Frederick James  male  28.0   \n",
              "249          250         0       2  Carter, Rev. Ernest Courtenay  male  54.0   \n",
              "168          169         0       1            Baumann, Mr. John D  male   NaN   \n",
              "509          510         1       3                 Lang, Mr. Fang  male  26.0   \n",
              "360          361         0       3             Skoog, Mr. Wilhelm  male  40.0   \n",
              "\n",
              "     SibSp  Parch            Ticket     Fare Cabin Embarked  \n",
              "883      0      0  C.A./SOTON 34068  10.5000   NaN        S  \n",
              "249      1      0            244252  26.0000   NaN        S  \n",
              "168      0      0          PC 17318  25.9250   NaN        S  \n",
              "509      0      0              1601  56.4958   NaN        S  \n",
              "360      1      4            347088  27.9000   NaN        S  "
            ],
            "text/html": [
              "\n",
              "  <div id=\"df-eddbf2fe-c30b-4b25-9744-90c3f722abec\">\n",
              "    <div class=\"colab-df-container\">\n",
              "      <div>\n",
              "<style scoped>\n",
              "    .dataframe tbody tr th:only-of-type {\n",
              "        vertical-align: middle;\n",
              "    }\n",
              "\n",
              "    .dataframe tbody tr th {\n",
              "        vertical-align: top;\n",
              "    }\n",
              "\n",
              "    .dataframe thead th {\n",
              "        text-align: right;\n",
              "    }\n",
              "</style>\n",
              "<table border=\"1\" class=\"dataframe\">\n",
              "  <thead>\n",
              "    <tr style=\"text-align: right;\">\n",
              "      <th></th>\n",
              "      <th>PassengerId</th>\n",
              "      <th>Survived</th>\n",
              "      <th>Pclass</th>\n",
              "      <th>Name</th>\n",
              "      <th>Sex</th>\n",
              "      <th>Age</th>\n",
              "      <th>SibSp</th>\n",
              "      <th>Parch</th>\n",
              "      <th>Ticket</th>\n",
              "      <th>Fare</th>\n",
              "      <th>Cabin</th>\n",
              "      <th>Embarked</th>\n",
              "    </tr>\n",
              "  </thead>\n",
              "  <tbody>\n",
              "    <tr>\n",
              "      <th>883</th>\n",
              "      <td>884</td>\n",
              "      <td>0</td>\n",
              "      <td>2</td>\n",
              "      <td>Banfield, Mr. Frederick James</td>\n",
              "      <td>male</td>\n",
              "      <td>28.0</td>\n",
              "      <td>0</td>\n",
              "      <td>0</td>\n",
              "      <td>C.A./SOTON 34068</td>\n",
              "      <td>10.5000</td>\n",
              "      <td>NaN</td>\n",
              "      <td>S</td>\n",
              "    </tr>\n",
              "    <tr>\n",
              "      <th>249</th>\n",
              "      <td>250</td>\n",
              "      <td>0</td>\n",
              "      <td>2</td>\n",
              "      <td>Carter, Rev. Ernest Courtenay</td>\n",
              "      <td>male</td>\n",
              "      <td>54.0</td>\n",
              "      <td>1</td>\n",
              "      <td>0</td>\n",
              "      <td>244252</td>\n",
              "      <td>26.0000</td>\n",
              "      <td>NaN</td>\n",
              "      <td>S</td>\n",
              "    </tr>\n",
              "    <tr>\n",
              "      <th>168</th>\n",
              "      <td>169</td>\n",
              "      <td>0</td>\n",
              "      <td>1</td>\n",
              "      <td>Baumann, Mr. John D</td>\n",
              "      <td>male</td>\n",
              "      <td>NaN</td>\n",
              "      <td>0</td>\n",
              "      <td>0</td>\n",
              "      <td>PC 17318</td>\n",
              "      <td>25.9250</td>\n",
              "      <td>NaN</td>\n",
              "      <td>S</td>\n",
              "    </tr>\n",
              "    <tr>\n",
              "      <th>509</th>\n",
              "      <td>510</td>\n",
              "      <td>1</td>\n",
              "      <td>3</td>\n",
              "      <td>Lang, Mr. Fang</td>\n",
              "      <td>male</td>\n",
              "      <td>26.0</td>\n",
              "      <td>0</td>\n",
              "      <td>0</td>\n",
              "      <td>1601</td>\n",
              "      <td>56.4958</td>\n",
              "      <td>NaN</td>\n",
              "      <td>S</td>\n",
              "    </tr>\n",
              "    <tr>\n",
              "      <th>360</th>\n",
              "      <td>361</td>\n",
              "      <td>0</td>\n",
              "      <td>3</td>\n",
              "      <td>Skoog, Mr. Wilhelm</td>\n",
              "      <td>male</td>\n",
              "      <td>40.0</td>\n",
              "      <td>1</td>\n",
              "      <td>4</td>\n",
              "      <td>347088</td>\n",
              "      <td>27.9000</td>\n",
              "      <td>NaN</td>\n",
              "      <td>S</td>\n",
              "    </tr>\n",
              "  </tbody>\n",
              "</table>\n",
              "</div>\n",
              "      <button class=\"colab-df-convert\" onclick=\"convertToInteractive('df-eddbf2fe-c30b-4b25-9744-90c3f722abec')\"\n",
              "              title=\"Convert this dataframe to an interactive table.\"\n",
              "              style=\"display:none;\">\n",
              "        \n",
              "  <svg xmlns=\"http://www.w3.org/2000/svg\" height=\"24px\"viewBox=\"0 0 24 24\"\n",
              "       width=\"24px\">\n",
              "    <path d=\"M0 0h24v24H0V0z\" fill=\"none\"/>\n",
              "    <path d=\"M18.56 5.44l.94 2.06.94-2.06 2.06-.94-2.06-.94-.94-2.06-.94 2.06-2.06.94zm-11 1L8.5 8.5l.94-2.06 2.06-.94-2.06-.94L8.5 2.5l-.94 2.06-2.06.94zm10 10l.94 2.06.94-2.06 2.06-.94-2.06-.94-.94-2.06-.94 2.06-2.06.94z\"/><path d=\"M17.41 7.96l-1.37-1.37c-.4-.4-.92-.59-1.43-.59-.52 0-1.04.2-1.43.59L10.3 9.45l-7.72 7.72c-.78.78-.78 2.05 0 2.83L4 21.41c.39.39.9.59 1.41.59.51 0 1.02-.2 1.41-.59l7.78-7.78 2.81-2.81c.8-.78.8-2.07 0-2.86zM5.41 20L4 18.59l7.72-7.72 1.47 1.35L5.41 20z\"/>\n",
              "  </svg>\n",
              "      </button>\n",
              "      \n",
              "  <style>\n",
              "    .colab-df-container {\n",
              "      display:flex;\n",
              "      flex-wrap:wrap;\n",
              "      gap: 12px;\n",
              "    }\n",
              "\n",
              "    .colab-df-convert {\n",
              "      background-color: #E8F0FE;\n",
              "      border: none;\n",
              "      border-radius: 50%;\n",
              "      cursor: pointer;\n",
              "      display: none;\n",
              "      fill: #1967D2;\n",
              "      height: 32px;\n",
              "      padding: 0 0 0 0;\n",
              "      width: 32px;\n",
              "    }\n",
              "\n",
              "    .colab-df-convert:hover {\n",
              "      background-color: #E2EBFA;\n",
              "      box-shadow: 0px 1px 2px rgba(60, 64, 67, 0.3), 0px 1px 3px 1px rgba(60, 64, 67, 0.15);\n",
              "      fill: #174EA6;\n",
              "    }\n",
              "\n",
              "    [theme=dark] .colab-df-convert {\n",
              "      background-color: #3B4455;\n",
              "      fill: #D2E3FC;\n",
              "    }\n",
              "\n",
              "    [theme=dark] .colab-df-convert:hover {\n",
              "      background-color: #434B5C;\n",
              "      box-shadow: 0px 1px 3px 1px rgba(0, 0, 0, 0.15);\n",
              "      filter: drop-shadow(0px 1px 2px rgba(0, 0, 0, 0.3));\n",
              "      fill: #FFFFFF;\n",
              "    }\n",
              "  </style>\n",
              "\n",
              "      <script>\n",
              "        const buttonEl =\n",
              "          document.querySelector('#df-eddbf2fe-c30b-4b25-9744-90c3f722abec button.colab-df-convert');\n",
              "        buttonEl.style.display =\n",
              "          google.colab.kernel.accessAllowed ? 'block' : 'none';\n",
              "\n",
              "        async function convertToInteractive(key) {\n",
              "          const element = document.querySelector('#df-eddbf2fe-c30b-4b25-9744-90c3f722abec');\n",
              "          const dataTable =\n",
              "            await google.colab.kernel.invokeFunction('convertToInteractive',\n",
              "                                                     [key], {});\n",
              "          if (!dataTable) return;\n",
              "\n",
              "          const docLinkHtml = 'Like what you see? Visit the ' +\n",
              "            '<a target=\"_blank\" href=https://colab.research.google.com/notebooks/data_table.ipynb>data table notebook</a>'\n",
              "            + ' to learn more about interactive tables.';\n",
              "          element.innerHTML = '';\n",
              "          dataTable['output_type'] = 'display_data';\n",
              "          await google.colab.output.renderOutput(dataTable, element);\n",
              "          const docLink = document.createElement('div');\n",
              "          docLink.innerHTML = docLinkHtml;\n",
              "          element.appendChild(docLink);\n",
              "        }\n",
              "      </script>\n",
              "    </div>\n",
              "  </div>\n",
              "  "
            ]
          },
          "metadata": {},
          "execution_count": 88
        }
      ]
    },
    {
      "cell_type": "markdown",
      "metadata": {
        "id": "B8Rs8f4l3XQb"
      },
      "source": [
        "* PassengerIdUnique ID of the passenger\n",
        "* SurvivedSurvived (1) or died (0)\n",
        "* PclassPassenger's class (1st, 2nd, or 3rd)\n",
        "* NamePassenger's name\n",
        "* SexPassenger's sex\n",
        "* AgePassenger's age\n",
        "* SibSpNumber of siblings/spouses aboard the Titanic\n",
        "* ParchNumber of parents/children aboard the Titanic\n",
        "* TicketTicket number\n",
        "* FareFare paid for ticket\n",
        "* CabinCabin number\n",
        "* EmbarkedWhere the passenger got on the ship (C - Cherbourg, S - Southampton, Q = Queenstown)"
      ]
    },
    {
      "cell_type": "markdown",
      "metadata": {
        "id": "3gvjN7cP4GFl"
      },
      "source": [
        "Removamos algunas de las características que en principio no parecen ser importantes."
      ]
    },
    {
      "cell_type": "code",
      "metadata": {
        "id": "FhuQy0_HnpBZ"
      },
      "source": [
        "data.drop(['PassengerId','Name','Ticket','Cabin','Embarked'], axis=1, inplace=True)"
      ],
      "execution_count": 89,
      "outputs": []
    },
    {
      "cell_type": "code",
      "metadata": {
        "id": "mXLwaJwA4t7K",
        "colab": {
          "base_uri": "https://localhost:8080/",
          "height": 206
        },
        "outputId": "7c1af32b-008d-4b95-f8bc-ac3983928d03"
      },
      "source": [
        "data.sample(5)"
      ],
      "execution_count": 90,
      "outputs": [
        {
          "output_type": "execute_result",
          "data": {
            "text/plain": [
              "     Survived  Pclass     Sex   Age  SibSp  Parch     Fare\n",
              "680         0       3  female   NaN      0      0   8.1375\n",
              "211         1       2  female  35.0      0      0  21.0000\n",
              "889         1       1    male  26.0      0      0  30.0000\n",
              "287         0       3    male  22.0      0      0   7.8958\n",
              "688         0       3    male  18.0      0      0   7.7958"
            ],
            "text/html": [
              "\n",
              "  <div id=\"df-53093b4d-90df-479e-b75b-0c77f7b426ae\">\n",
              "    <div class=\"colab-df-container\">\n",
              "      <div>\n",
              "<style scoped>\n",
              "    .dataframe tbody tr th:only-of-type {\n",
              "        vertical-align: middle;\n",
              "    }\n",
              "\n",
              "    .dataframe tbody tr th {\n",
              "        vertical-align: top;\n",
              "    }\n",
              "\n",
              "    .dataframe thead th {\n",
              "        text-align: right;\n",
              "    }\n",
              "</style>\n",
              "<table border=\"1\" class=\"dataframe\">\n",
              "  <thead>\n",
              "    <tr style=\"text-align: right;\">\n",
              "      <th></th>\n",
              "      <th>Survived</th>\n",
              "      <th>Pclass</th>\n",
              "      <th>Sex</th>\n",
              "      <th>Age</th>\n",
              "      <th>SibSp</th>\n",
              "      <th>Parch</th>\n",
              "      <th>Fare</th>\n",
              "    </tr>\n",
              "  </thead>\n",
              "  <tbody>\n",
              "    <tr>\n",
              "      <th>680</th>\n",
              "      <td>0</td>\n",
              "      <td>3</td>\n",
              "      <td>female</td>\n",
              "      <td>NaN</td>\n",
              "      <td>0</td>\n",
              "      <td>0</td>\n",
              "      <td>8.1375</td>\n",
              "    </tr>\n",
              "    <tr>\n",
              "      <th>211</th>\n",
              "      <td>1</td>\n",
              "      <td>2</td>\n",
              "      <td>female</td>\n",
              "      <td>35.0</td>\n",
              "      <td>0</td>\n",
              "      <td>0</td>\n",
              "      <td>21.0000</td>\n",
              "    </tr>\n",
              "    <tr>\n",
              "      <th>889</th>\n",
              "      <td>1</td>\n",
              "      <td>1</td>\n",
              "      <td>male</td>\n",
              "      <td>26.0</td>\n",
              "      <td>0</td>\n",
              "      <td>0</td>\n",
              "      <td>30.0000</td>\n",
              "    </tr>\n",
              "    <tr>\n",
              "      <th>287</th>\n",
              "      <td>0</td>\n",
              "      <td>3</td>\n",
              "      <td>male</td>\n",
              "      <td>22.0</td>\n",
              "      <td>0</td>\n",
              "      <td>0</td>\n",
              "      <td>7.8958</td>\n",
              "    </tr>\n",
              "    <tr>\n",
              "      <th>688</th>\n",
              "      <td>0</td>\n",
              "      <td>3</td>\n",
              "      <td>male</td>\n",
              "      <td>18.0</td>\n",
              "      <td>0</td>\n",
              "      <td>0</td>\n",
              "      <td>7.7958</td>\n",
              "    </tr>\n",
              "  </tbody>\n",
              "</table>\n",
              "</div>\n",
              "      <button class=\"colab-df-convert\" onclick=\"convertToInteractive('df-53093b4d-90df-479e-b75b-0c77f7b426ae')\"\n",
              "              title=\"Convert this dataframe to an interactive table.\"\n",
              "              style=\"display:none;\">\n",
              "        \n",
              "  <svg xmlns=\"http://www.w3.org/2000/svg\" height=\"24px\"viewBox=\"0 0 24 24\"\n",
              "       width=\"24px\">\n",
              "    <path d=\"M0 0h24v24H0V0z\" fill=\"none\"/>\n",
              "    <path d=\"M18.56 5.44l.94 2.06.94-2.06 2.06-.94-2.06-.94-.94-2.06-.94 2.06-2.06.94zm-11 1L8.5 8.5l.94-2.06 2.06-.94-2.06-.94L8.5 2.5l-.94 2.06-2.06.94zm10 10l.94 2.06.94-2.06 2.06-.94-2.06-.94-.94-2.06-.94 2.06-2.06.94z\"/><path d=\"M17.41 7.96l-1.37-1.37c-.4-.4-.92-.59-1.43-.59-.52 0-1.04.2-1.43.59L10.3 9.45l-7.72 7.72c-.78.78-.78 2.05 0 2.83L4 21.41c.39.39.9.59 1.41.59.51 0 1.02-.2 1.41-.59l7.78-7.78 2.81-2.81c.8-.78.8-2.07 0-2.86zM5.41 20L4 18.59l7.72-7.72 1.47 1.35L5.41 20z\"/>\n",
              "  </svg>\n",
              "      </button>\n",
              "      \n",
              "  <style>\n",
              "    .colab-df-container {\n",
              "      display:flex;\n",
              "      flex-wrap:wrap;\n",
              "      gap: 12px;\n",
              "    }\n",
              "\n",
              "    .colab-df-convert {\n",
              "      background-color: #E8F0FE;\n",
              "      border: none;\n",
              "      border-radius: 50%;\n",
              "      cursor: pointer;\n",
              "      display: none;\n",
              "      fill: #1967D2;\n",
              "      height: 32px;\n",
              "      padding: 0 0 0 0;\n",
              "      width: 32px;\n",
              "    }\n",
              "\n",
              "    .colab-df-convert:hover {\n",
              "      background-color: #E2EBFA;\n",
              "      box-shadow: 0px 1px 2px rgba(60, 64, 67, 0.3), 0px 1px 3px 1px rgba(60, 64, 67, 0.15);\n",
              "      fill: #174EA6;\n",
              "    }\n",
              "\n",
              "    [theme=dark] .colab-df-convert {\n",
              "      background-color: #3B4455;\n",
              "      fill: #D2E3FC;\n",
              "    }\n",
              "\n",
              "    [theme=dark] .colab-df-convert:hover {\n",
              "      background-color: #434B5C;\n",
              "      box-shadow: 0px 1px 3px 1px rgba(0, 0, 0, 0.15);\n",
              "      filter: drop-shadow(0px 1px 2px rgba(0, 0, 0, 0.3));\n",
              "      fill: #FFFFFF;\n",
              "    }\n",
              "  </style>\n",
              "\n",
              "      <script>\n",
              "        const buttonEl =\n",
              "          document.querySelector('#df-53093b4d-90df-479e-b75b-0c77f7b426ae button.colab-df-convert');\n",
              "        buttonEl.style.display =\n",
              "          google.colab.kernel.accessAllowed ? 'block' : 'none';\n",
              "\n",
              "        async function convertToInteractive(key) {\n",
              "          const element = document.querySelector('#df-53093b4d-90df-479e-b75b-0c77f7b426ae');\n",
              "          const dataTable =\n",
              "            await google.colab.kernel.invokeFunction('convertToInteractive',\n",
              "                                                     [key], {});\n",
              "          if (!dataTable) return;\n",
              "\n",
              "          const docLinkHtml = 'Like what you see? Visit the ' +\n",
              "            '<a target=\"_blank\" href=https://colab.research.google.com/notebooks/data_table.ipynb>data table notebook</a>'\n",
              "            + ' to learn more about interactive tables.';\n",
              "          element.innerHTML = '';\n",
              "          dataTable['output_type'] = 'display_data';\n",
              "          await google.colab.output.renderOutput(dataTable, element);\n",
              "          const docLink = document.createElement('div');\n",
              "          docLink.innerHTML = docLinkHtml;\n",
              "          element.appendChild(docLink);\n",
              "        }\n",
              "      </script>\n",
              "    </div>\n",
              "  </div>\n",
              "  "
            ]
          },
          "metadata": {},
          "execution_count": 90
        }
      ]
    },
    {
      "cell_type": "markdown",
      "metadata": {
        "id": "ouqHMg496B57"
      },
      "source": [
        "Llenemos los valores faltantes en la columna ‘Age’ usando el promedio"
      ]
    },
    {
      "cell_type": "code",
      "metadata": {
        "id": "fitOMsqe40We"
      },
      "source": [
        "from sklearn.impute import SimpleImputer"
      ],
      "execution_count": 91,
      "outputs": []
    },
    {
      "cell_type": "code",
      "metadata": {
        "id": "Ty2I84ow6RQV"
      },
      "source": [
        "imp = SimpleImputer(missing_values=np.nan, strategy='mean')"
      ],
      "execution_count": 92,
      "outputs": []
    },
    {
      "cell_type": "code",
      "metadata": {
        "id": "PgyjtwjX6R4U"
      },
      "source": [
        "data.loc[data['Survived']==1,['Age']]=imp.fit_transform(data.loc[data['Survived']==1,['Age']])\n",
        "data.loc[data['Survived']==0,['Age']]=imp.fit_transform(data.loc[data['Survived']==0,['Age']])"
      ],
      "execution_count": 93,
      "outputs": []
    },
    {
      "cell_type": "code",
      "metadata": {
        "id": "E5b7mlH86Z5h",
        "colab": {
          "base_uri": "https://localhost:8080/"
        },
        "outputId": "3d970632-e6cb-43cb-e879-5faec680e0cc"
      },
      "source": [
        "data.isnull().any()"
      ],
      "execution_count": 94,
      "outputs": [
        {
          "output_type": "execute_result",
          "data": {
            "text/plain": [
              "Survived    False\n",
              "Pclass      False\n",
              "Sex         False\n",
              "Age         False\n",
              "SibSp       False\n",
              "Parch       False\n",
              "Fare        False\n",
              "dtype: bool"
            ]
          },
          "metadata": {},
          "execution_count": 94
        }
      ]
    },
    {
      "cell_type": "markdown",
      "metadata": {
        "id": "rZYSrm34956A"
      },
      "source": [
        "Apliquemos one-hot-encoding a la caracteristica categorica ***sex*** y ademas creemos una nueva columna que se llamada \"Family_size\"."
      ]
    },
    {
      "cell_type": "code",
      "metadata": {
        "id": "NyE64bUE7hB8"
      },
      "source": [
        "data=pd.get_dummies(data, drop_first=True)"
      ],
      "execution_count": 95,
      "outputs": []
    },
    {
      "cell_type": "code",
      "metadata": {
        "id": "fgpN33xT_gZo",
        "colab": {
          "base_uri": "https://localhost:8080/",
          "height": 206
        },
        "outputId": "79c33bf8-8494-47e5-eda7-be343f6e8e0a"
      },
      "source": [
        "data['Family_size']=data['SibSp'] + data['Parch']\n",
        "data.drop(['SibSp', 'Parch'] ,axis=1, inplace=True)\n",
        "data.head()"
      ],
      "execution_count": 96,
      "outputs": [
        {
          "output_type": "execute_result",
          "data": {
            "text/plain": [
              "   Survived  Pclass   Age     Fare  Sex_male  Family_size\n",
              "0         0       3  22.0   7.2500         1            1\n",
              "1         1       1  38.0  71.2833         0            1\n",
              "2         1       3  26.0   7.9250         0            0\n",
              "3         1       1  35.0  53.1000         0            1\n",
              "4         0       3  35.0   8.0500         1            0"
            ],
            "text/html": [
              "\n",
              "  <div id=\"df-feee9638-05f0-4e59-9f6a-a5546a03fce4\">\n",
              "    <div class=\"colab-df-container\">\n",
              "      <div>\n",
              "<style scoped>\n",
              "    .dataframe tbody tr th:only-of-type {\n",
              "        vertical-align: middle;\n",
              "    }\n",
              "\n",
              "    .dataframe tbody tr th {\n",
              "        vertical-align: top;\n",
              "    }\n",
              "\n",
              "    .dataframe thead th {\n",
              "        text-align: right;\n",
              "    }\n",
              "</style>\n",
              "<table border=\"1\" class=\"dataframe\">\n",
              "  <thead>\n",
              "    <tr style=\"text-align: right;\">\n",
              "      <th></th>\n",
              "      <th>Survived</th>\n",
              "      <th>Pclass</th>\n",
              "      <th>Age</th>\n",
              "      <th>Fare</th>\n",
              "      <th>Sex_male</th>\n",
              "      <th>Family_size</th>\n",
              "    </tr>\n",
              "  </thead>\n",
              "  <tbody>\n",
              "    <tr>\n",
              "      <th>0</th>\n",
              "      <td>0</td>\n",
              "      <td>3</td>\n",
              "      <td>22.0</td>\n",
              "      <td>7.2500</td>\n",
              "      <td>1</td>\n",
              "      <td>1</td>\n",
              "    </tr>\n",
              "    <tr>\n",
              "      <th>1</th>\n",
              "      <td>1</td>\n",
              "      <td>1</td>\n",
              "      <td>38.0</td>\n",
              "      <td>71.2833</td>\n",
              "      <td>0</td>\n",
              "      <td>1</td>\n",
              "    </tr>\n",
              "    <tr>\n",
              "      <th>2</th>\n",
              "      <td>1</td>\n",
              "      <td>3</td>\n",
              "      <td>26.0</td>\n",
              "      <td>7.9250</td>\n",
              "      <td>0</td>\n",
              "      <td>0</td>\n",
              "    </tr>\n",
              "    <tr>\n",
              "      <th>3</th>\n",
              "      <td>1</td>\n",
              "      <td>1</td>\n",
              "      <td>35.0</td>\n",
              "      <td>53.1000</td>\n",
              "      <td>0</td>\n",
              "      <td>1</td>\n",
              "    </tr>\n",
              "    <tr>\n",
              "      <th>4</th>\n",
              "      <td>0</td>\n",
              "      <td>3</td>\n",
              "      <td>35.0</td>\n",
              "      <td>8.0500</td>\n",
              "      <td>1</td>\n",
              "      <td>0</td>\n",
              "    </tr>\n",
              "  </tbody>\n",
              "</table>\n",
              "</div>\n",
              "      <button class=\"colab-df-convert\" onclick=\"convertToInteractive('df-feee9638-05f0-4e59-9f6a-a5546a03fce4')\"\n",
              "              title=\"Convert this dataframe to an interactive table.\"\n",
              "              style=\"display:none;\">\n",
              "        \n",
              "  <svg xmlns=\"http://www.w3.org/2000/svg\" height=\"24px\"viewBox=\"0 0 24 24\"\n",
              "       width=\"24px\">\n",
              "    <path d=\"M0 0h24v24H0V0z\" fill=\"none\"/>\n",
              "    <path d=\"M18.56 5.44l.94 2.06.94-2.06 2.06-.94-2.06-.94-.94-2.06-.94 2.06-2.06.94zm-11 1L8.5 8.5l.94-2.06 2.06-.94-2.06-.94L8.5 2.5l-.94 2.06-2.06.94zm10 10l.94 2.06.94-2.06 2.06-.94-2.06-.94-.94-2.06-.94 2.06-2.06.94z\"/><path d=\"M17.41 7.96l-1.37-1.37c-.4-.4-.92-.59-1.43-.59-.52 0-1.04.2-1.43.59L10.3 9.45l-7.72 7.72c-.78.78-.78 2.05 0 2.83L4 21.41c.39.39.9.59 1.41.59.51 0 1.02-.2 1.41-.59l7.78-7.78 2.81-2.81c.8-.78.8-2.07 0-2.86zM5.41 20L4 18.59l7.72-7.72 1.47 1.35L5.41 20z\"/>\n",
              "  </svg>\n",
              "      </button>\n",
              "      \n",
              "  <style>\n",
              "    .colab-df-container {\n",
              "      display:flex;\n",
              "      flex-wrap:wrap;\n",
              "      gap: 12px;\n",
              "    }\n",
              "\n",
              "    .colab-df-convert {\n",
              "      background-color: #E8F0FE;\n",
              "      border: none;\n",
              "      border-radius: 50%;\n",
              "      cursor: pointer;\n",
              "      display: none;\n",
              "      fill: #1967D2;\n",
              "      height: 32px;\n",
              "      padding: 0 0 0 0;\n",
              "      width: 32px;\n",
              "    }\n",
              "\n",
              "    .colab-df-convert:hover {\n",
              "      background-color: #E2EBFA;\n",
              "      box-shadow: 0px 1px 2px rgba(60, 64, 67, 0.3), 0px 1px 3px 1px rgba(60, 64, 67, 0.15);\n",
              "      fill: #174EA6;\n",
              "    }\n",
              "\n",
              "    [theme=dark] .colab-df-convert {\n",
              "      background-color: #3B4455;\n",
              "      fill: #D2E3FC;\n",
              "    }\n",
              "\n",
              "    [theme=dark] .colab-df-convert:hover {\n",
              "      background-color: #434B5C;\n",
              "      box-shadow: 0px 1px 3px 1px rgba(0, 0, 0, 0.15);\n",
              "      filter: drop-shadow(0px 1px 2px rgba(0, 0, 0, 0.3));\n",
              "      fill: #FFFFFF;\n",
              "    }\n",
              "  </style>\n",
              "\n",
              "      <script>\n",
              "        const buttonEl =\n",
              "          document.querySelector('#df-feee9638-05f0-4e59-9f6a-a5546a03fce4 button.colab-df-convert');\n",
              "        buttonEl.style.display =\n",
              "          google.colab.kernel.accessAllowed ? 'block' : 'none';\n",
              "\n",
              "        async function convertToInteractive(key) {\n",
              "          const element = document.querySelector('#df-feee9638-05f0-4e59-9f6a-a5546a03fce4');\n",
              "          const dataTable =\n",
              "            await google.colab.kernel.invokeFunction('convertToInteractive',\n",
              "                                                     [key], {});\n",
              "          if (!dataTable) return;\n",
              "\n",
              "          const docLinkHtml = 'Like what you see? Visit the ' +\n",
              "            '<a target=\"_blank\" href=https://colab.research.google.com/notebooks/data_table.ipynb>data table notebook</a>'\n",
              "            + ' to learn more about interactive tables.';\n",
              "          element.innerHTML = '';\n",
              "          dataTable['output_type'] = 'display_data';\n",
              "          await google.colab.output.renderOutput(dataTable, element);\n",
              "          const docLink = document.createElement('div');\n",
              "          docLink.innerHTML = docLinkHtml;\n",
              "          element.appendChild(docLink);\n",
              "        }\n",
              "      </script>\n",
              "    </div>\n",
              "  </div>\n",
              "  "
            ]
          },
          "metadata": {},
          "execution_count": 96
        }
      ]
    },
    {
      "cell_type": "code",
      "metadata": {
        "id": "prE4-RDOAoG7"
      },
      "source": [
        "X=data.iloc[:,1:]\n",
        "y=data.iloc[:,0]"
      ],
      "execution_count": 97,
      "outputs": []
    },
    {
      "cell_type": "code",
      "metadata": {
        "id": "X-l1NcbMDTUQ",
        "colab": {
          "base_uri": "https://localhost:8080/"
        },
        "outputId": "816c88b9-84f5-4219-f9ce-fc6f4119c204"
      },
      "source": [
        "X.shape"
      ],
      "execution_count": 98,
      "outputs": [
        {
          "output_type": "execute_result",
          "data": {
            "text/plain": [
              "(891, 5)"
            ]
          },
          "metadata": {},
          "execution_count": 98
        }
      ]
    },
    {
      "cell_type": "markdown",
      "metadata": {
        "id": "HOCHScWjAoHL"
      },
      "source": [
        "Ahora implementamos el modelo de regresión logistica usando Sklearn y analicemos su desempeño usando validación cruzada(cross validation), curvas de aprendizaje(learning curves) y curvas de validación( validation curves)"
      ]
    },
    {
      "cell_type": "code",
      "metadata": {
        "id": "8DTwLyCVAoHM"
      },
      "source": [
        "from sklearn.linear_model import LogisticRegression\n",
        "from sklearn.preprocessing import StandardScaler, PolynomialFeatures\n",
        "from sklearn.pipeline import Pipeline\n",
        "from sklearn.metrics import confusion_matrix, classification_report\n",
        "from sklearn.model_selection import train_test_split\n",
        "from sklearn.model_selection import learning_curve, cross_val_score , validation_curve"
      ],
      "execution_count": 99,
      "outputs": []
    },
    {
      "cell_type": "code",
      "metadata": {
        "id": "YlcejrKPJMOP",
        "colab": {
          "base_uri": "https://localhost:8080/",
          "height": 206
        },
        "outputId": "ae6d7001-38f8-4c75-c071-3b294b23c94c"
      },
      "source": [
        "X.head()"
      ],
      "execution_count": 100,
      "outputs": [
        {
          "output_type": "execute_result",
          "data": {
            "text/plain": [
              "   Pclass   Age     Fare  Sex_male  Family_size\n",
              "0       3  22.0   7.2500         1            1\n",
              "1       1  38.0  71.2833         0            1\n",
              "2       3  26.0   7.9250         0            0\n",
              "3       1  35.0  53.1000         0            1\n",
              "4       3  35.0   8.0500         1            0"
            ],
            "text/html": [
              "\n",
              "  <div id=\"df-0adfd7c8-fe1e-4dfc-9b84-09f47b7dd98b\">\n",
              "    <div class=\"colab-df-container\">\n",
              "      <div>\n",
              "<style scoped>\n",
              "    .dataframe tbody tr th:only-of-type {\n",
              "        vertical-align: middle;\n",
              "    }\n",
              "\n",
              "    .dataframe tbody tr th {\n",
              "        vertical-align: top;\n",
              "    }\n",
              "\n",
              "    .dataframe thead th {\n",
              "        text-align: right;\n",
              "    }\n",
              "</style>\n",
              "<table border=\"1\" class=\"dataframe\">\n",
              "  <thead>\n",
              "    <tr style=\"text-align: right;\">\n",
              "      <th></th>\n",
              "      <th>Pclass</th>\n",
              "      <th>Age</th>\n",
              "      <th>Fare</th>\n",
              "      <th>Sex_male</th>\n",
              "      <th>Family_size</th>\n",
              "    </tr>\n",
              "  </thead>\n",
              "  <tbody>\n",
              "    <tr>\n",
              "      <th>0</th>\n",
              "      <td>3</td>\n",
              "      <td>22.0</td>\n",
              "      <td>7.2500</td>\n",
              "      <td>1</td>\n",
              "      <td>1</td>\n",
              "    </tr>\n",
              "    <tr>\n",
              "      <th>1</th>\n",
              "      <td>1</td>\n",
              "      <td>38.0</td>\n",
              "      <td>71.2833</td>\n",
              "      <td>0</td>\n",
              "      <td>1</td>\n",
              "    </tr>\n",
              "    <tr>\n",
              "      <th>2</th>\n",
              "      <td>3</td>\n",
              "      <td>26.0</td>\n",
              "      <td>7.9250</td>\n",
              "      <td>0</td>\n",
              "      <td>0</td>\n",
              "    </tr>\n",
              "    <tr>\n",
              "      <th>3</th>\n",
              "      <td>1</td>\n",
              "      <td>35.0</td>\n",
              "      <td>53.1000</td>\n",
              "      <td>0</td>\n",
              "      <td>1</td>\n",
              "    </tr>\n",
              "    <tr>\n",
              "      <th>4</th>\n",
              "      <td>3</td>\n",
              "      <td>35.0</td>\n",
              "      <td>8.0500</td>\n",
              "      <td>1</td>\n",
              "      <td>0</td>\n",
              "    </tr>\n",
              "  </tbody>\n",
              "</table>\n",
              "</div>\n",
              "      <button class=\"colab-df-convert\" onclick=\"convertToInteractive('df-0adfd7c8-fe1e-4dfc-9b84-09f47b7dd98b')\"\n",
              "              title=\"Convert this dataframe to an interactive table.\"\n",
              "              style=\"display:none;\">\n",
              "        \n",
              "  <svg xmlns=\"http://www.w3.org/2000/svg\" height=\"24px\"viewBox=\"0 0 24 24\"\n",
              "       width=\"24px\">\n",
              "    <path d=\"M0 0h24v24H0V0z\" fill=\"none\"/>\n",
              "    <path d=\"M18.56 5.44l.94 2.06.94-2.06 2.06-.94-2.06-.94-.94-2.06-.94 2.06-2.06.94zm-11 1L8.5 8.5l.94-2.06 2.06-.94-2.06-.94L8.5 2.5l-.94 2.06-2.06.94zm10 10l.94 2.06.94-2.06 2.06-.94-2.06-.94-.94-2.06-.94 2.06-2.06.94z\"/><path d=\"M17.41 7.96l-1.37-1.37c-.4-.4-.92-.59-1.43-.59-.52 0-1.04.2-1.43.59L10.3 9.45l-7.72 7.72c-.78.78-.78 2.05 0 2.83L4 21.41c.39.39.9.59 1.41.59.51 0 1.02-.2 1.41-.59l7.78-7.78 2.81-2.81c.8-.78.8-2.07 0-2.86zM5.41 20L4 18.59l7.72-7.72 1.47 1.35L5.41 20z\"/>\n",
              "  </svg>\n",
              "      </button>\n",
              "      \n",
              "  <style>\n",
              "    .colab-df-container {\n",
              "      display:flex;\n",
              "      flex-wrap:wrap;\n",
              "      gap: 12px;\n",
              "    }\n",
              "\n",
              "    .colab-df-convert {\n",
              "      background-color: #E8F0FE;\n",
              "      border: none;\n",
              "      border-radius: 50%;\n",
              "      cursor: pointer;\n",
              "      display: none;\n",
              "      fill: #1967D2;\n",
              "      height: 32px;\n",
              "      padding: 0 0 0 0;\n",
              "      width: 32px;\n",
              "    }\n",
              "\n",
              "    .colab-df-convert:hover {\n",
              "      background-color: #E2EBFA;\n",
              "      box-shadow: 0px 1px 2px rgba(60, 64, 67, 0.3), 0px 1px 3px 1px rgba(60, 64, 67, 0.15);\n",
              "      fill: #174EA6;\n",
              "    }\n",
              "\n",
              "    [theme=dark] .colab-df-convert {\n",
              "      background-color: #3B4455;\n",
              "      fill: #D2E3FC;\n",
              "    }\n",
              "\n",
              "    [theme=dark] .colab-df-convert:hover {\n",
              "      background-color: #434B5C;\n",
              "      box-shadow: 0px 1px 3px 1px rgba(0, 0, 0, 0.15);\n",
              "      filter: drop-shadow(0px 1px 2px rgba(0, 0, 0, 0.3));\n",
              "      fill: #FFFFFF;\n",
              "    }\n",
              "  </style>\n",
              "\n",
              "      <script>\n",
              "        const buttonEl =\n",
              "          document.querySelector('#df-0adfd7c8-fe1e-4dfc-9b84-09f47b7dd98b button.colab-df-convert');\n",
              "        buttonEl.style.display =\n",
              "          google.colab.kernel.accessAllowed ? 'block' : 'none';\n",
              "\n",
              "        async function convertToInteractive(key) {\n",
              "          const element = document.querySelector('#df-0adfd7c8-fe1e-4dfc-9b84-09f47b7dd98b');\n",
              "          const dataTable =\n",
              "            await google.colab.kernel.invokeFunction('convertToInteractive',\n",
              "                                                     [key], {});\n",
              "          if (!dataTable) return;\n",
              "\n",
              "          const docLinkHtml = 'Like what you see? Visit the ' +\n",
              "            '<a target=\"_blank\" href=https://colab.research.google.com/notebooks/data_table.ipynb>data table notebook</a>'\n",
              "            + ' to learn more about interactive tables.';\n",
              "          element.innerHTML = '';\n",
              "          dataTable['output_type'] = 'display_data';\n",
              "          await google.colab.output.renderOutput(dataTable, element);\n",
              "          const docLink = document.createElement('div');\n",
              "          docLink.innerHTML = docLinkHtml;\n",
              "          element.appendChild(docLink);\n",
              "        }\n",
              "      </script>\n",
              "    </div>\n",
              "  </div>\n",
              "  "
            ]
          },
          "metadata": {},
          "execution_count": 100
        }
      ]
    },
    {
      "cell_type": "markdown",
      "metadata": {
        "id": "JXLNdcJXAoHO"
      },
      "source": [
        "Los datos se han normalizado usando `StandardScaler` y se ha hecho una simple interacción entre características usando `PolynomialFeatures`"
      ]
    },
    {
      "cell_type": "code",
      "metadata": {
        "id": "zRr-IZcTAoHP"
      },
      "source": [
        "model = Pipeline((\n",
        "      ('scale', StandardScaler()),  ('poly', PolynomialFeatures(degree=2)), ('logreg', LogisticRegression(C=50, solver='liblinear'))\n",
        "))"
      ],
      "execution_count": 101,
      "outputs": []
    },
    {
      "cell_type": "markdown",
      "metadata": {
        "id": "W-aMjn2ONeJi"
      },
      "source": [
        "validación cruzada(cross validation)"
      ]
    },
    {
      "cell_type": "code",
      "metadata": {
        "id": "vAiTcWlqNd48",
        "colab": {
          "base_uri": "https://localhost:8080/"
        },
        "outputId": "a5a85322-95d2-4ad8-d979-ab77661acf09"
      },
      "source": [
        "scores = cross_val_score(model, X, y, cv=7)\n",
        "print('CV accuracy: %.3f +/- %.3f' % (np.mean(scores), np.std(scores)))"
      ],
      "execution_count": 102,
      "outputs": [
        {
          "output_type": "stream",
          "name": "stdout",
          "text": [
            "CV accuracy: 0.818 +/- 0.026\n"
          ]
        }
      ]
    },
    {
      "cell_type": "markdown",
      "metadata": {
        "id": "q77mkOpgPZhS"
      },
      "source": [
        "curvas de validación( validation curves)\n"
      ]
    },
    {
      "cell_type": "code",
      "metadata": {
        "id": "KuoSjkW9EcPj"
      },
      "source": [
        "params= np.hstack([np.arange(0.01,1.0,0.03), np.linspace(1.1,100,20)])\n",
        "train_score, test_score = validation_curve(\n",
        "  model,\n",
        "  X, \n",
        "  y,\n",
        "  param_name='logreg__C',\n",
        "  param_range=params,\n",
        "  scoring='accuracy'\n",
        ")\n"
      ],
      "execution_count": 103,
      "outputs": []
    },
    {
      "cell_type": "code",
      "metadata": {
        "id": "Myow42TsJxr-",
        "colab": {
          "base_uri": "https://localhost:8080/",
          "height": 470
        },
        "outputId": "a642b3c9-ad91-4c6a-ac5c-c976c8b9faea"
      },
      "source": [
        "plt.figure(figsize=(7,7))\n",
        "plt.plot(params, np.mean(train_score,1), color='red')\n",
        "plt.plot(params, np.mean(test_score,1), color='blue')\n",
        "plt.xlabel('C')\n",
        "plt.ylabel('Acurracy')\n",
        "plt.ylim(0.8,0.84)"
      ],
      "execution_count": 104,
      "outputs": [
        {
          "output_type": "execute_result",
          "data": {
            "text/plain": [
              "(0.8, 0.84)"
            ]
          },
          "metadata": {},
          "execution_count": 104
        },
        {
          "output_type": "display_data",
          "data": {
            "text/plain": [
              "<Figure size 504x504 with 1 Axes>"
            ],
            "image/png": "[encoded data removed]"
          },
          "metadata": {}
        }
      ]
    },
    {
      "cell_type": "markdown",
      "metadata": {
        "id": "Z3MJreLFPyfW"
      },
      "source": [
        "curvas de aprendizaje(learning curves)"
      ]
    },
    {
      "cell_type": "code",
      "metadata": {
        "id": "uFJ0b5_UJ7A_"
      },
      "source": [
        "N, train_score, test_score=learning_curve(model,X,y, train_sizes=np.linspace(0.1,1,25), cv=7, scoring='accuracy', n_jobs=-1)"
      ],
      "execution_count": 105,
      "outputs": []
    },
    {
      "cell_type": "code",
      "metadata": {
        "id": "__kDXqp6J-pj",
        "colab": {
          "base_uri": "https://localhost:8080/",
          "height": 357
        },
        "outputId": "95a8edff-deaa-473d-d1c6-c7b810b85c3f"
      },
      "source": [
        "plt.figure(figsize=(7,5))\n",
        "plt.plot(N,np.mean(train_score,1), color='red')\n",
        "plt.plot(N,np.mean(test_score,1), color='blue')\n",
        "plt.xlabel('Training set size')\n",
        "plt.ylabel('Acurracy')"
      ],
      "execution_count": 106,
      "outputs": [
        {
          "output_type": "execute_result",
          "data": {
            "text/plain": [
              "Text(0, 0.5, 'Acurracy')"
            ]
          },
          "metadata": {},
          "execution_count": 106
        },
        {
          "output_type": "display_data",
          "data": {
            "text/plain": [
              "<Figure size 504x360 with 1 Axes>"
            ],
            "image/png": "[encoded data removed]"
          },
          "metadata": {}
        }
      ]
    },
    {
      "cell_type": "markdown",
      "metadata": {
        "id": "fzE_g7mnjJlE"
      },
      "source": [
        ""
      ]
    },
    {
      "cell_type": "markdown",
      "metadata": {
        "id": "rVuXbxeNkWYB"
      },
      "source": [
        "# El gradiente de descenso\n",
        "\n",
        "Como vimos en el curso pasado, existe una técnica de optimización para las funciones de perdida (o costo) que es central en el desarrollo de modelos de machine learnig, en especial para el deep learning.\n",
        "\n",
        "A ésta técnica se le llama gradiente de descenso ya que se utilizan los gradientes de la función de costo para encontrar la dirección de descenso de la perdida y así actualizar los pesos del modelo de tal forma que el costo llegue a un mínimo (local).\n",
        "\n",
        "Supongamos que tenemos un modelo lineal $\\hat{y} = \\sum_i w_i x_i$ cuya función de costo será la función de diferencias cuadradas (método de mínimos cuadrados) $\\frac{1}{2n}\\sum_i (y_i-\\hat{y_i})^2$.\n",
        "\n",
        "Debemos derivar **respecto a los pesos** la función de coste, y así, iteración tras iteración mejorar nuestro modelo.\n",
        "\n",
        "Veamos cómo sería la función de perdida de nuestro ejemplo en terminos de los pesos:\n",
        "\n",
        "$$\\frac{1}{2n}\\sum_i (y_i-\\hat{y_i})^2$$\n",
        "\n",
        "$$\\frac{1}{2n}\\sum_i (y_i-\\sum_j w_j x_j)^2$$\n",
        "\n",
        "Hemos cambiado el subindice $i$ por $j$ en éste caso para indicar que una sola predicción $\\hat{y_i}$ corresponde a la suma de varios pesos, y cada $i$ será una muestra del conjunto de datos.\n",
        "\n",
        "Al deribar respecto a cada $w_j$ tendríamos:\n",
        "\n",
        "$$\\frac{1}{n}\\sum_i (y_i-\\sum_j w_j x_j)x_j $$\n",
        "\n",
        "Sería ésta la función que nos permitirá hacer la optimización del modelo.\n",
        "\n",
        "<img height=\"300px\" src=\"https://www.oreilly.com/library/view/hands-on-machine-learning/9781491962282/assets/mlst_0402.png\" alt=\"Drawing\" style=\"width: 200px;\"/>\n",
        "\n",
        "En general si tenemos una función de perdida $C(w)$ el gradiente de descenso nos dice que debemos actualizarla en cada iteración como:\n",
        "\n",
        "$$C(w)- \\alpha \\nabla_w\n",
        "C(w)$$\n",
        "\n",
        "Donde $\\alpha$ se el hiperparámetro que controla la velocidad de aprendizaje (learning rate) y $\\nabla$ es el operador de derivadas parciales en los pesos.\n"
      ]
    },
    {
      "cell_type": "markdown",
      "metadata": {
        "id": "cwJgMikdkkNl"
      },
      "source": [
        "Hemos dicho anteriormente que con éste método encontraremos un mínimo local, ésto ya que en general las funciones de perdida en el DL dependen de cientos de parámetros y será difícil que sean convezas. \n",
        "\n",
        "![](https://www.researchgate.net/profile/Jennifer_Rexford/publication/226717592/figure/fig4/AS:302225588015118@1449067603956/Convex-and-nonconvex-functions-A-function-g-is-a-convex-function-if-domain-of-g-is-a.png)\n",
        "\n",
        "En el caso de una función de perdida como la OLS, al ser convexa estamos seguros de alcanzar un mínimo global, en casos más complejos debemos utilizar trucos como el SDG del que hablamos en el nivel uno del curso para intentar evitar quedarnos en un mínimo local.\n",
        "\n",
        "De cualquier manera es necesario que nuestra función de costo no sea concava para poder garantizar un mínimo."
      ]
    },
    {
      "cell_type": "markdown",
      "metadata": {
        "id": "sLuflYnDk2X_"
      },
      "source": [
        ""
      ]
    },
    {
      "cell_type": "markdown",
      "metadata": {
        "id": "yY9Dmpguk4DI"
      },
      "source": [
        "#Problema: \n",
        "Usar Sklearn para implementar el modelo de regresión lineal (usar la ecuacion normal y Gradiente Estocástico) en el Dataset ***FuelConsumption.csv*** para predecir la emisión de CO2 de algunos autos basado en algunas de sus características.\n",
        "\n",
        "Recuerde que en sklearn puede implementar el gradiente de descenso importando:\n",
        "\n",
        "`from sklearn.linear_model import SGDRegressor`"
      ]
    },
    {
      "cell_type": "markdown",
      "metadata": {
        "id": "G0wfL04jLzWT"
      },
      "source": [
        "# Solucion"
      ]
    },
    {
      "cell_type": "markdown",
      "metadata": {
        "id": "qcqLt9K_dAY3"
      },
      "source": [
        "Importemos algunas de las librerias que nos seran de utilidad"
      ]
    },
    {
      "cell_type": "code",
      "metadata": {
        "id": "7cbE7do8cnrM"
      },
      "source": [
        "import numpy as np\n",
        "import pandas as pd\n",
        "import matplotlib.pyplot as plt\n",
        "import seaborn as sns; sns.set()"
      ],
      "execution_count": 107,
      "outputs": []
    },
    {
      "cell_type": "markdown",
      "metadata": {
        "id": "eyxTIbm0dFCQ"
      },
      "source": [
        "Ahora importemos el Dataset usando pandas"
      ]
    },
    {
      "cell_type": "code",
      "metadata": {
        "id": "WciHTaRTMU06"
      },
      "source": [
        "data = pd.read_csv('https://raw.githubusercontent.com/diplomado-bigdata-machinelearning-udea/Curso2/master/Datasets/FuelConsumption.csv')"
      ],
      "execution_count": 108,
      "outputs": []
    },
    {
      "cell_type": "markdown",
      "metadata": {
        "id": "xYFi_tjFq2tN"
      },
      "source": [
        "Inspeccionamos un poco el dataset"
      ]
    },
    {
      "cell_type": "code",
      "metadata": {
        "id": "xVx_voXEsqIe",
        "colab": {
          "base_uri": "https://localhost:8080/"
        },
        "outputId": "840d8f2e-4247-460e-923a-0f6225e7f69a"
      },
      "source": [
        "data.shape"
      ],
      "execution_count": 109,
      "outputs": [
        {
          "output_type": "execute_result",
          "data": {
            "text/plain": [
              "(1067, 13)"
            ]
          },
          "metadata": {},
          "execution_count": 109
        }
      ]
    },
    {
      "cell_type": "code",
      "metadata": {
        "id": "EguQCmprvGmN",
        "colab": {
          "base_uri": "https://localhost:8080/"
        },
        "outputId": "c350408a-5158-4168-bcff-648c316c214a"
      },
      "source": [
        "data.isnull().any()"
      ],
      "execution_count": 110,
      "outputs": [
        {
          "output_type": "execute_result",
          "data": {
            "text/plain": [
              "MODELYEAR                   False\n",
              "MAKE                        False\n",
              "MODEL                       False\n",
              "VEHICLECLASS                False\n",
              "ENGINESIZE                  False\n",
              "CYLINDERS                   False\n",
              "TRANSMISSION                False\n",
              "FUELTYPE                    False\n",
              "FUELCONSUMPTION_CITY        False\n",
              "FUELCONSUMPTION_HWY         False\n",
              "FUELCONSUMPTION_COMB        False\n",
              "FUELCONSUMPTION_COMB_MPG    False\n",
              "CO2EMISSIONS                False\n",
              "dtype: bool"
            ]
          },
          "metadata": {},
          "execution_count": 110
        }
      ]
    },
    {
      "cell_type": "code",
      "metadata": {
        "id": "zM5oJ3kEczKC",
        "colab": {
          "base_uri": "https://localhost:8080/",
          "height": 305
        },
        "outputId": "01b3b43d-9ea6-4582-d486-997cf819a227"
      },
      "source": [
        "data.sample(5)"
      ],
      "execution_count": 111,
      "outputs": [
        {
          "output_type": "execute_result",
          "data": {
            "text/plain": [
              "      MODELYEAR        MAKE        MODEL VEHICLECLASS  ENGINESIZE  CYLINDERS  \\\n",
              "1044       2014  VOLKSWAGEN       PASSAT     MID-SIZE         1.8          4   \n",
              "550        2014      JAGUAR           XF     MID-SIZE         2.0          4   \n",
              "466        2014         GMC  TERRAIN AWD  SUV - SMALL         2.4          4   \n",
              "1045       2014  VOLKSWAGEN       PASSAT     MID-SIZE         2.5          5   \n",
              "1063       2014       VOLVO     XC60 AWD  SUV - SMALL         3.2          6   \n",
              "\n",
              "     TRANSMISSION FUELTYPE  FUELCONSUMPTION_CITY  FUELCONSUMPTION_HWY  \\\n",
              "1044           M5        X                  10.0                  6.9   \n",
              "550           AS8        Z                  12.3                  8.2   \n",
              "466            A6        X                  11.5                  8.2   \n",
              "1045           A6        X                  11.0                  8.0   \n",
              "1063          AS6        X                  13.2                  9.5   \n",
              "\n",
              "      FUELCONSUMPTION_COMB  FUELCONSUMPTION_COMB_MPG  CO2EMISSIONS  \n",
              "1044                   8.6                        33           198  \n",
              "550                   10.5                        27           242  \n",
              "466                   10.0                        28           230  \n",
              "1045                   9.7                        29           223  \n",
              "1063                  11.5                        25           264  "
            ],
            "text/html": [
              "\n",
              "  <div id=\"df-f5d6dc24-964f-442a-b6f7-0dd9eb150343\">\n",
              "    <div class=\"colab-df-container\">\n",
              "      <div>\n",
              "<style scoped>\n",
              "    .dataframe tbody tr th:only-of-type {\n",
              "        vertical-align: middle;\n",
              "    }\n",
              "\n",
              "    .dataframe tbody tr th {\n",
              "        vertical-align: top;\n",
              "    }\n",
              "\n",
              "    .dataframe thead th {\n",
              "        text-align: right;\n",
              "    }\n",
              "</style>\n",
              "<table border=\"1\" class=\"dataframe\">\n",
              "  <thead>\n",
              "    <tr style=\"text-align: right;\">\n",
              "      <th></th>\n",
              "      <th>MODELYEAR</th>\n",
              "      <th>MAKE</th>\n",
              "      <th>MODEL</th>\n",
              "      <th>VEHICLECLASS</th>\n",
              "      <th>ENGINESIZE</th>\n",
              "      <th>CYLINDERS</th>\n",
              "      <th>TRANSMISSION</th>\n",
              "      <th>FUELTYPE</th>\n",
              "      <th>FUELCONSUMPTION_CITY</th>\n",
              "      <th>FUELCONSUMPTION_HWY</th>\n",
              "      <th>FUELCONSUMPTION_COMB</th>\n",
              "      <th>FUELCONSUMPTION_COMB_MPG</th>\n",
              "      <th>CO2EMISSIONS</th>\n",
              "    </tr>\n",
              "  </thead>\n",
              "  <tbody>\n",
              "    <tr>\n",
              "      <th>1044</th>\n",
              "      <td>2014</td>\n",
              "      <td>VOLKSWAGEN</td>\n",
              "      <td>PASSAT</td>\n",
              "      <td>MID-SIZE</td>\n",
              "      <td>1.8</td>\n",
              "      <td>4</td>\n",
              "      <td>M5</td>\n",
              "      <td>X</td>\n",
              "      <td>10.0</td>\n",
              "      <td>6.9</td>\n",
              "      <td>8.6</td>\n",
              "      <td>33</td>\n",
              "      <td>198</td>\n",
              "    </tr>\n",
              "    <tr>\n",
              "      <th>550</th>\n",
              "      <td>2014</td>\n",
              "      <td>JAGUAR</td>\n",
              "      <td>XF</td>\n",
              "      <td>MID-SIZE</td>\n",
              "      <td>2.0</td>\n",
              "      <td>4</td>\n",
              "      <td>AS8</td>\n",
              "      <td>Z</td>\n",
              "      <td>12.3</td>\n",
              "      <td>8.2</td>\n",
              "      <td>10.5</td>\n",
              "      <td>27</td>\n",
              "      <td>242</td>\n",
              "    </tr>\n",
              "    <tr>\n",
              "      <th>466</th>\n",
              "      <td>2014</td>\n",
              "      <td>GMC</td>\n",
              "      <td>TERRAIN AWD</td>\n",
              "      <td>SUV - SMALL</td>\n",
              "      <td>2.4</td>\n",
              "      <td>4</td>\n",
              "      <td>A6</td>\n",
              "      <td>X</td>\n",
              "      <td>11.5</td>\n",
              "      <td>8.2</td>\n",
              "      <td>10.0</td>\n",
              "      <td>28</td>\n",
              "      <td>230</td>\n",
              "    </tr>\n",
              "    <tr>\n",
              "      <th>1045</th>\n",
              "      <td>2014</td>\n",
              "      <td>VOLKSWAGEN</td>\n",
              "      <td>PASSAT</td>\n",
              "      <td>MID-SIZE</td>\n",
              "      <td>2.5</td>\n",
              "      <td>5</td>\n",
              "      <td>A6</td>\n",
              "      <td>X</td>\n",
              "      <td>11.0</td>\n",
              "      <td>8.0</td>\n",
              "      <td>9.7</td>\n",
              "      <td>29</td>\n",
              "      <td>223</td>\n",
              "    </tr>\n",
              "    <tr>\n",
              "      <th>1063</th>\n",
              "      <td>2014</td>\n",
              "      <td>VOLVO</td>\n",
              "      <td>XC60 AWD</td>\n",
              "      <td>SUV - SMALL</td>\n",
              "      <td>3.2</td>\n",
              "      <td>6</td>\n",
              "      <td>AS6</td>\n",
              "      <td>X</td>\n",
              "      <td>13.2</td>\n",
              "      <td>9.5</td>\n",
              "      <td>11.5</td>\n",
              "      <td>25</td>\n",
              "      <td>264</td>\n",
              "    </tr>\n",
              "  </tbody>\n",
              "</table>\n",
              "</div>\n",
              "      <button class=\"colab-df-convert\" onclick=\"convertToInteractive('df-f5d6dc24-964f-442a-b6f7-0dd9eb150343')\"\n",
              "              title=\"Convert this dataframe to an interactive table.\"\n",
              "              style=\"display:none;\">\n",
              "        \n",
              "  <svg xmlns=\"http://www.w3.org/2000/svg\" height=\"24px\"viewBox=\"0 0 24 24\"\n",
              "       width=\"24px\">\n",
              "    <path d=\"M0 0h24v24H0V0z\" fill=\"none\"/>\n",
              "    <path d=\"M18.56 5.44l.94 2.06.94-2.06 2.06-.94-2.06-.94-.94-2.06-.94 2.06-2.06.94zm-11 1L8.5 8.5l.94-2.06 2.06-.94-2.06-.94L8.5 2.5l-.94 2.06-2.06.94zm10 10l.94 2.06.94-2.06 2.06-.94-2.06-.94-.94-2.06-.94 2.06-2.06.94z\"/><path d=\"M17.41 7.96l-1.37-1.37c-.4-.4-.92-.59-1.43-.59-.52 0-1.04.2-1.43.59L10.3 9.45l-7.72 7.72c-.78.78-.78 2.05 0 2.83L4 21.41c.39.39.9.59 1.41.59.51 0 1.02-.2 1.41-.59l7.78-7.78 2.81-2.81c.8-.78.8-2.07 0-2.86zM5.41 20L4 18.59l7.72-7.72 1.47 1.35L5.41 20z\"/>\n",
              "  </svg>\n",
              "      </button>\n",
              "      \n",
              "  <style>\n",
              "    .colab-df-container {\n",
              "      display:flex;\n",
              "      flex-wrap:wrap;\n",
              "      gap: 12px;\n",
              "    }\n",
              "\n",
              "    .colab-df-convert {\n",
              "      background-color: #E8F0FE;\n",
              "      border: none;\n",
              "      border-radius: 50%;\n",
              "      cursor: pointer;\n",
              "      display: none;\n",
              "      fill: #1967D2;\n",
              "      height: 32px;\n",
              "      padding: 0 0 0 0;\n",
              "      width: 32px;\n",
              "    }\n",
              "\n",
              "    .colab-df-convert:hover {\n",
              "      background-color: #E2EBFA;\n",
              "      box-shadow: 0px 1px 2px rgba(60, 64, 67, 0.3), 0px 1px 3px 1px rgba(60, 64, 67, 0.15);\n",
              "      fill: #174EA6;\n",
              "    }\n",
              "\n",
              "    [theme=dark] .colab-df-convert {\n",
              "      background-color: #3B4455;\n",
              "      fill: #D2E3FC;\n",
              "    }\n",
              "\n",
              "    [theme=dark] .colab-df-convert:hover {\n",
              "      background-color: #434B5C;\n",
              "      box-shadow: 0px 1px 3px 1px rgba(0, 0, 0, 0.15);\n",
              "      filter: drop-shadow(0px 1px 2px rgba(0, 0, 0, 0.3));\n",
              "      fill: #FFFFFF;\n",
              "    }\n",
              "  </style>\n",
              "\n",
              "      <script>\n",
              "        const buttonEl =\n",
              "          document.querySelector('#df-f5d6dc24-964f-442a-b6f7-0dd9eb150343 button.colab-df-convert');\n",
              "        buttonEl.style.display =\n",
              "          google.colab.kernel.accessAllowed ? 'block' : 'none';\n",
              "\n",
              "        async function convertToInteractive(key) {\n",
              "          const element = document.querySelector('#df-f5d6dc24-964f-442a-b6f7-0dd9eb150343');\n",
              "          const dataTable =\n",
              "            await google.colab.kernel.invokeFunction('convertToInteractive',\n",
              "                                                     [key], {});\n",
              "          if (!dataTable) return;\n",
              "\n",
              "          const docLinkHtml = 'Like what you see? Visit the ' +\n",
              "            '<a target=\"_blank\" href=https://colab.research.google.com/notebooks/data_table.ipynb>data table notebook</a>'\n",
              "            + ' to learn more about interactive tables.';\n",
              "          element.innerHTML = '';\n",
              "          dataTable['output_type'] = 'display_data';\n",
              "          await google.colab.output.renderOutput(dataTable, element);\n",
              "          const docLink = document.createElement('div');\n",
              "          docLink.innerHTML = docLinkHtml;\n",
              "          element.appendChild(docLink);\n",
              "        }\n",
              "      </script>\n",
              "    </div>\n",
              "  </div>\n",
              "  "
            ]
          },
          "metadata": {},
          "execution_count": 111
        }
      ]
    },
    {
      "cell_type": "markdown",
      "metadata": {
        "id": "a-gRcaYmtpnx"
      },
      "source": [
        "Ahora seleccionemos algunas de las características que consideraremos para entrenar nuestro modelo de regresión lineal "
      ]
    },
    {
      "cell_type": "code",
      "metadata": {
        "id": "8WUNcKFsrzq2"
      },
      "source": [
        "X=data.loc[:,['ENGINESIZE','FUELTYPE','FUELCONSUMPTION_CITY']]\n",
        "y = data['CO2EMISSIONS']"
      ],
      "execution_count": 112,
      "outputs": []
    },
    {
      "cell_type": "markdown",
      "metadata": {
        "id": "T2cmNFDZ0Nz1"
      },
      "source": [
        "Apliquemos one-hot-encoding a la caracteristica categorica ***FUELTYPE***"
      ]
    },
    {
      "cell_type": "code",
      "metadata": {
        "id": "Js_RM3zF0gR_"
      },
      "source": [
        "X=pd.get_dummies(X, drop_first=True)"
      ],
      "execution_count": 113,
      "outputs": []
    },
    {
      "cell_type": "code",
      "metadata": {
        "id": "hnQDjNKzvS5f",
        "colab": {
          "base_uri": "https://localhost:8080/",
          "height": 206
        },
        "outputId": "96f69442-0932-48f0-e854-b1c67fc79d8e"
      },
      "source": [
        "X.head()"
      ],
      "execution_count": 114,
      "outputs": [
        {
          "output_type": "execute_result",
          "data": {
            "text/plain": [
              "   ENGINESIZE  FUELCONSUMPTION_CITY  FUELTYPE_E  FUELTYPE_X  FUELTYPE_Z\n",
              "0         2.0                   9.9           0           0           1\n",
              "1         2.4                  11.2           0           0           1\n",
              "2         1.5                   6.0           0           0           1\n",
              "3         3.5                  12.7           0           0           1\n",
              "4         3.5                  12.1           0           0           1"
            ],
            "text/html": [
              "\n",
              "  <div id=\"df-4adc7620-1df8-4938-b49b-b4e26f534455\">\n",
              "    <div class=\"colab-df-container\">\n",
              "      <div>\n",
              "<style scoped>\n",
              "    .dataframe tbody tr th:only-of-type {\n",
              "        vertical-align: middle;\n",
              "    }\n",
              "\n",
              "    .dataframe tbody tr th {\n",
              "        vertical-align: top;\n",
              "    }\n",
              "\n",
              "    .dataframe thead th {\n",
              "        text-align: right;\n",
              "    }\n",
              "</style>\n",
              "<table border=\"1\" class=\"dataframe\">\n",
              "  <thead>\n",
              "    <tr style=\"text-align: right;\">\n",
              "      <th></th>\n",
              "      <th>ENGINESIZE</th>\n",
              "      <th>FUELCONSUMPTION_CITY</th>\n",
              "      <th>FUELTYPE_E</th>\n",
              "      <th>FUELTYPE_X</th>\n",
              "      <th>FUELTYPE_Z</th>\n",
              "    </tr>\n",
              "  </thead>\n",
              "  <tbody>\n",
              "    <tr>\n",
              "      <th>0</th>\n",
              "      <td>2.0</td>\n",
              "      <td>9.9</td>\n",
              "      <td>0</td>\n",
              "      <td>0</td>\n",
              "      <td>1</td>\n",
              "    </tr>\n",
              "    <tr>\n",
              "      <th>1</th>\n",
              "      <td>2.4</td>\n",
              "      <td>11.2</td>\n",
              "      <td>0</td>\n",
              "      <td>0</td>\n",
              "      <td>1</td>\n",
              "    </tr>\n",
              "    <tr>\n",
              "      <th>2</th>\n",
              "      <td>1.5</td>\n",
              "      <td>6.0</td>\n",
              "      <td>0</td>\n",
              "      <td>0</td>\n",
              "      <td>1</td>\n",
              "    </tr>\n",
              "    <tr>\n",
              "      <th>3</th>\n",
              "      <td>3.5</td>\n",
              "      <td>12.7</td>\n",
              "      <td>0</td>\n",
              "      <td>0</td>\n",
              "      <td>1</td>\n",
              "    </tr>\n",
              "    <tr>\n",
              "      <th>4</th>\n",
              "      <td>3.5</td>\n",
              "      <td>12.1</td>\n",
              "      <td>0</td>\n",
              "      <td>0</td>\n",
              "      <td>1</td>\n",
              "    </tr>\n",
              "  </tbody>\n",
              "</table>\n",
              "</div>\n",
              "      <button class=\"colab-df-convert\" onclick=\"convertToInteractive('df-4adc7620-1df8-4938-b49b-b4e26f534455')\"\n",
              "              title=\"Convert this dataframe to an interactive table.\"\n",
              "              style=\"display:none;\">\n",
              "        \n",
              "  <svg xmlns=\"http://www.w3.org/2000/svg\" height=\"24px\"viewBox=\"0 0 24 24\"\n",
              "       width=\"24px\">\n",
              "    <path d=\"M0 0h24v24H0V0z\" fill=\"none\"/>\n",
              "    <path d=\"M18.56 5.44l.94 2.06.94-2.06 2.06-.94-2.06-.94-.94-2.06-.94 2.06-2.06.94zm-11 1L8.5 8.5l.94-2.06 2.06-.94-2.06-.94L8.5 2.5l-.94 2.06-2.06.94zm10 10l.94 2.06.94-2.06 2.06-.94-2.06-.94-.94-2.06-.94 2.06-2.06.94z\"/><path d=\"M17.41 7.96l-1.37-1.37c-.4-.4-.92-.59-1.43-.59-.52 0-1.04.2-1.43.59L10.3 9.45l-7.72 7.72c-.78.78-.78 2.05 0 2.83L4 21.41c.39.39.9.59 1.41.59.51 0 1.02-.2 1.41-.59l7.78-7.78 2.81-2.81c.8-.78.8-2.07 0-2.86zM5.41 20L4 18.59l7.72-7.72 1.47 1.35L5.41 20z\"/>\n",
              "  </svg>\n",
              "      </button>\n",
              "      \n",
              "  <style>\n",
              "    .colab-df-container {\n",
              "      display:flex;\n",
              "      flex-wrap:wrap;\n",
              "      gap: 12px;\n",
              "    }\n",
              "\n",
              "    .colab-df-convert {\n",
              "      background-color: #E8F0FE;\n",
              "      border: none;\n",
              "      border-radius: 50%;\n",
              "      cursor: pointer;\n",
              "      display: none;\n",
              "      fill: #1967D2;\n",
              "      height: 32px;\n",
              "      padding: 0 0 0 0;\n",
              "      width: 32px;\n",
              "    }\n",
              "\n",
              "    .colab-df-convert:hover {\n",
              "      background-color: #E2EBFA;\n",
              "      box-shadow: 0px 1px 2px rgba(60, 64, 67, 0.3), 0px 1px 3px 1px rgba(60, 64, 67, 0.15);\n",
              "      fill: #174EA6;\n",
              "    }\n",
              "\n",
              "    [theme=dark] .colab-df-convert {\n",
              "      background-color: #3B4455;\n",
              "      fill: #D2E3FC;\n",
              "    }\n",
              "\n",
              "    [theme=dark] .colab-df-convert:hover {\n",
              "      background-color: #434B5C;\n",
              "      box-shadow: 0px 1px 3px 1px rgba(0, 0, 0, 0.15);\n",
              "      filter: drop-shadow(0px 1px 2px rgba(0, 0, 0, 0.3));\n",
              "      fill: #FFFFFF;\n",
              "    }\n",
              "  </style>\n",
              "\n",
              "      <script>\n",
              "        const buttonEl =\n",
              "          document.querySelector('#df-4adc7620-1df8-4938-b49b-b4e26f534455 button.colab-df-convert');\n",
              "        buttonEl.style.display =\n",
              "          google.colab.kernel.accessAllowed ? 'block' : 'none';\n",
              "\n",
              "        async function convertToInteractive(key) {\n",
              "          const element = document.querySelector('#df-4adc7620-1df8-4938-b49b-b4e26f534455');\n",
              "          const dataTable =\n",
              "            await google.colab.kernel.invokeFunction('convertToInteractive',\n",
              "                                                     [key], {});\n",
              "          if (!dataTable) return;\n",
              "\n",
              "          const docLinkHtml = 'Like what you see? Visit the ' +\n",
              "            '<a target=\"_blank\" href=https://colab.research.google.com/notebooks/data_table.ipynb>data table notebook</a>'\n",
              "            + ' to learn more about interactive tables.';\n",
              "          element.innerHTML = '';\n",
              "          dataTable['output_type'] = 'display_data';\n",
              "          await google.colab.output.renderOutput(dataTable, element);\n",
              "          const docLink = document.createElement('div');\n",
              "          docLink.innerHTML = docLinkHtml;\n",
              "          element.appendChild(docLink);\n",
              "        }\n",
              "      </script>\n",
              "    </div>\n",
              "  </div>\n",
              "  "
            ]
          },
          "metadata": {},
          "execution_count": 114
        }
      ]
    },
    {
      "cell_type": "markdown",
      "metadata": {
        "id": "mZ4xjTtd0_yg"
      },
      "source": [
        "Dividamos el Dataset en una parte de entrenamiento y en otra de testeo usando Sklearn"
      ]
    },
    {
      "cell_type": "code",
      "metadata": {
        "id": "WWCvP6wa47xz"
      },
      "source": [
        "from sklearn.model_selection import train_test_split"
      ],
      "execution_count": 115,
      "outputs": []
    },
    {
      "cell_type": "code",
      "metadata": {
        "id": "8XeZenai4-JS"
      },
      "source": [
        "X_train, X_test, y_train, y_test = train_test_split(X, y,test_size = 0.2, random_state=0)"
      ],
      "execution_count": 116,
      "outputs": []
    },
    {
      "cell_type": "code",
      "metadata": {
        "id": "l_T6_L8o49--",
        "colab": {
          "base_uri": "https://localhost:8080/"
        },
        "outputId": "6c1f32f9-cc1f-4575-87ed-482c39e6da59"
      },
      "source": [
        "X_train.shape"
      ],
      "execution_count": 117,
      "outputs": [
        {
          "output_type": "execute_result",
          "data": {
            "text/plain": [
              "(853, 5)"
            ]
          },
          "metadata": {},
          "execution_count": 117
        }
      ]
    },
    {
      "cell_type": "markdown",
      "metadata": {
        "id": "GWf688dt48VO"
      },
      "source": [
        "Ahora implementamos el modelo de regresión lineal usando Sklearn "
      ]
    },
    {
      "cell_type": "code",
      "metadata": {
        "id": "fELyJ3dQyDFJ"
      },
      "source": [
        "from sklearn.linear_model import LinearRegression\n",
        "from sklearn.pipeline import Pipeline\n",
        "from sklearn.metrics import r2_score\n",
        "from sklearn.preprocessing import PolynomialFeatures, StandardScaler"
      ],
      "execution_count": 118,
      "outputs": []
    },
    {
      "cell_type": "markdown",
      "metadata": {
        "id": "_GcWxypXBSq2"
      },
      "source": [
        "Los datos se han normalizado usando StandardScaler y se ha hecho una simple interacción entre características"
      ]
    },
    {
      "cell_type": "code",
      "metadata": {
        "id": "T4T8wnTa-4-6"
      },
      "source": [
        "model = Pipeline((\n",
        "      ('scale', StandardScaler()),  ('poly', PolynomialFeatures(degree=2)), ('linear_regression', LinearRegression() )\n",
        "))"
      ],
      "execution_count": 119,
      "outputs": []
    },
    {
      "cell_type": "code",
      "metadata": {
        "id": "n4PQ7ZbP08zD",
        "colab": {
          "base_uri": "https://localhost:8080/"
        },
        "outputId": "d1fda947-39af-4a37-ede4-9fa14bf6d392"
      },
      "source": [
        "model.fit(X_train,y_train)"
      ],
      "execution_count": 120,
      "outputs": [
        {
          "output_type": "execute_result",
          "data": {
            "text/plain": [
              "Pipeline(steps=[('scale', StandardScaler()), ('poly', PolynomialFeatures()),\n",
              "                ('linear_regression', LinearRegression())])"
            ]
          },
          "metadata": {},
          "execution_count": 120
        }
      ]
    },
    {
      "cell_type": "markdown",
      "metadata": {
        "id": "cnRKkBWE6BB9"
      },
      "source": [
        "Ahora usemos nuestro modelo ya entrenado sobre los datos de testo y veamos como es su desempeño usando la metrica `r2_score`"
      ]
    },
    {
      "cell_type": "code",
      "metadata": {
        "id": "wmdyYpH15qCA",
        "colab": {
          "base_uri": "https://localhost:8080/"
        },
        "outputId": "21939f05-d04c-421c-8470-56c98b4cb3cf"
      },
      "source": [
        "y_fit=model.predict(X_test)\n",
        "r2_score(y_test,y_fit)"
      ],
      "execution_count": 121,
      "outputs": [
        {
          "output_type": "execute_result",
          "data": {
            "text/plain": [
              "0.9905292971987586"
            ]
          },
          "metadata": {},
          "execution_count": 121
        }
      ]
    },
    {
      "cell_type": "markdown",
      "metadata": {
        "id": "oOr4NN36CKf5"
      },
      "source": [
        "Usemos el Descenso del Gradiente Estocástico (SGD) sobre los datos anteriores y veamos que resultado se obtiene"
      ]
    },
    {
      "cell_type": "code",
      "metadata": {
        "id": "xeHAMb9e6Ux4"
      },
      "source": [
        "from sklearn.linear_model import SGDRegressor\n",
        "from sklearn.model_selection import validation_curve"
      ],
      "execution_count": 122,
      "outputs": []
    },
    {
      "cell_type": "code",
      "metadata": {
        "id": "afuFzRq4CbhK"
      },
      "source": [
        "model = Pipeline((\n",
        "      ('scale', StandardScaler()),  ('poly', PolynomialFeatures(degree=2)), ('SGD', SGDRegressor(max_iter=1000, penalty=None))\n",
        " ))"
      ],
      "execution_count": 123,
      "outputs": []
    },
    {
      "cell_type": "markdown",
      "metadata": {
        "id": "DwlibumIJ6Yb"
      },
      "source": [
        "Veamos como es el desempeño de nuestro modelo por epocas"
      ]
    },
    {
      "cell_type": "code",
      "metadata": {
        "id": "QmFIFQjaHj6D"
      },
      "source": [
        "params=np.arange(1,100)\n",
        "#train_score, val_score=validation_curve(model, X_train, y_train, 'SGD__max_iter', params, cv=3, n_jobs=-1)\n",
        "#train_score, val_score=validation_curve(model, X_train, y_train, 'SGD__max_iter', params, cv=5, n_jobs=-1)\n",
        "train_score, val_score = validation_curve(\n",
        "  model,\n",
        "  X_train, \n",
        "  y_train,\n",
        "  param_name='SGD__max_iter',\n",
        "  param_range=params,\n",
        "  cv=5, \n",
        "  n_jobs=-1\n",
        ")"
      ],
      "execution_count": 124,
      "outputs": []
    },
    {
      "cell_type": "code",
      "metadata": {
        "id": "JtwRH8TEJayx",
        "colab": {
          "base_uri": "https://localhost:8080/",
          "height": 394
        },
        "outputId": "bd04ef9c-fe0f-4a08-e7c0-1b336c24c3da"
      },
      "source": [
        "plt.figure(figsize=(8,6))\n",
        "plt.plot(params, np.mean(train_score,1), color='red',label='train_score')\n",
        "plt.plot(params, np.mean(val_score,1), color='blue', label='val_score')\n",
        "plt.legend( fontsize=20)\n",
        "plt.xlabel('epochs')\n",
        "plt.ylabel('r2_score');"
      ],
      "execution_count": 125,
      "outputs": [
        {
          "output_type": "display_data",
          "data": {
            "text/plain": [
              "<Figure size 576x432 with 1 Axes>"
            ],
            "image/png": "[encoded data removed]"
          },
          "metadata": {}
        }
      ]
    },
    {
      "cell_type": "markdown",
      "metadata": {
        "id": "Uub8MV3TKM--"
      },
      "source": [
        "Procedamos a entrenar nuestro modelo"
      ]
    },
    {
      "cell_type": "code",
      "metadata": {
        "id": "EODw1y0oCffx",
        "colab": {
          "base_uri": "https://localhost:8080/"
        },
        "outputId": "7b6de91a-f814-4750-d1dd-19099a9879c9"
      },
      "source": [
        "model.fit(X_train,y_train)"
      ],
      "execution_count": 126,
      "outputs": [
        {
          "output_type": "execute_result",
          "data": {
            "text/plain": [
              "Pipeline(steps=[('scale', StandardScaler()), ('poly', PolynomialFeatures()),\n",
              "                ('SGD', SGDRegressor(penalty=None))])"
            ]
          },
          "metadata": {},
          "execution_count": 126
        }
      ]
    },
    {
      "cell_type": "code",
      "metadata": {
        "id": "pW7ExBZ3Coyl",
        "colab": {
          "base_uri": "https://localhost:8080/"
        },
        "outputId": "e9d51730-4ad8-4b9f-b3c8-2b570f6c0640"
      },
      "source": [
        "y_fit=model.predict(X_test)\n",
        "r2_score(y_test,y_fit)"
      ],
      "execution_count": 127,
      "outputs": [
        {
          "output_type": "execute_result",
          "data": {
            "text/plain": [
              "0.9900408659941239"
            ]
          },
          "metadata": {},
          "execution_count": 127
        }
      ]
    },
    {
      "cell_type": "markdown",
      "metadata": {
        "id": "qZRynzHFlxXb"
      },
      "source": [
        "Programemos nuestro propio descenso de gradiente para una función de coste cualquiera usando el método de diferéncias mínimas para aproximar las derivadas."
      ]
    },
    {
      "cell_type": "code",
      "metadata": {
        "id": "nWKiy_cwl3k8",
        "colab": {
          "base_uri": "https://localhost:8080/"
        },
        "outputId": "fc4f0c5f-3674-495b-ea55-d043620a64d6"
      },
      "source": [
        "#generemos la función de coste cualquiera\n",
        "import numpy as np\n",
        "costo = lambda w: np.sin(1/2 * w[0]**2 - 1/4 * w[1]**2 + 3) * np.cos(2*w[0] - np.e**w[1]) #w[0] será el bias\n",
        "\n",
        "costo([1,2])"
      ],
      "execution_count": 128,
      "outputs": [
        {
          "output_type": "execute_result",
          "data": {
            "text/plain": [
              "0.374762046993176"
            ]
          },
          "metadata": {},
          "execution_count": 128
        }
      ]
    },
    {
      "cell_type": "code",
      "metadata": {
        "id": "9IAthRWCmCnG",
        "colab": {
          "base_uri": "https://localhost:8080/",
          "height": 272
        },
        "outputId": "726cd77b-1341-4b0f-faa7-d45dbfb65850"
      },
      "source": [
        "import matplotlib.pyplot as plt\n",
        "\n",
        "# veamos su forma:\n",
        "N = 100\n",
        "x = np.linspace(-2,2,N)\n",
        "y = np.linspace(-2,2,N)\n",
        "z = np.zeros((N,N))\n",
        "\n",
        "for i,xi in enumerate(x):\n",
        "  for j,yj in enumerate(y):\n",
        "    z[i,j] = costo([xi,yj])\n",
        "  \n",
        "plt.contourf(x,y,z,100)\n",
        "plt.colorbar()\n",
        "plt.show()\n"
      ],
      "execution_count": 129,
      "outputs": [
        {
          "output_type": "display_data",
          "data": {
            "text/plain": [
              "<Figure size 432x288 with 2 Axes>"
            ],
            "image/png": "[encoded data removed]"
          },
          "metadata": {}
        }
      ]
    },
    {
      "cell_type": "code",
      "metadata": {
        "id": "fegaW5FsmMf6",
        "colab": {
          "base_uri": "https://localhost:8080/",
          "height": 290
        },
        "outputId": "73a20047-bf49-455a-d0e5-4a88d1430953"
      },
      "source": [
        "plt.contourf(x,y,z,100)\n",
        "plt.colorbar()\n",
        "np.random.seed(6)\n",
        "\n",
        "Ws = np.random.rand(2) * 2 - 1\n",
        "Ws = [0,0.2]\n",
        "Wc = np.copy(Ws)\n",
        "h = 0.01\n",
        "alpha = 0.005\n",
        "grad = np.zeros(2)\n",
        "\n",
        "plt.plot(Ws[0],Ws[1],'o',c='green')\n",
        "\n",
        "\n",
        "for _ in range(100000): #numero de iteraciones que harémos\n",
        "  for it, w in enumerate(Ws):\n",
        "    Wc = np.copy(Ws)\n",
        "    Wc[it] = Wc[it] + h\n",
        "    derivada = (costo(Wc) -costo (Ws))/h #derivada parcial por diferencias mínimas\n",
        "    grad[it] = derivada\n",
        "    \n",
        "  Ws = Ws - alpha * grad\n",
        "  \n",
        "  if _%100 == 0:\n",
        "    plt.plot(Ws[0],Ws[1], 'k.')\n",
        "    \n",
        "plt.plot(Ws[0],Ws[1],'o',c='red')"
      ],
      "execution_count": 130,
      "outputs": [
        {
          "output_type": "execute_result",
          "data": {
            "text/plain": [
              "[<matplotlib.lines.Line2D at 0x7f58e2faf710>]"
            ]
          },
          "metadata": {},
          "execution_count": 130
        },
        {
          "output_type": "display_data",
          "data": {
            "text/plain": [
              "<Figure size 432x288 with 2 Axes>"
            ],
            "image/png": "[encoded data removed]"
          },
          "metadata": {}
        }
      ]
    },
    {
      "cell_type": "markdown",
      "metadata": {
        "id": "VZ5NKl4ZmS1P"
      },
      "source": [
        "Vemos cómo la lógica detrás del algorítmo de descenso de gradiente no es muy compleja. Sin embargo recordemos que el hiperparámetro $\\alpha$ debe ser elegido por nosotros, un valor muy pequeño hará que se tomen muchas iteraciones o que incluso quede atrapado en un mínimo local fácilmente, un valor muy grande puede hacer que nuestro modelo no converja a un mínimo o que incluso cresca indefinidamente."
      ]
    },
    {
      "cell_type": "markdown",
      "metadata": {
        "id": "5zCOCB-ayf2s"
      },
      "source": [
        "# Propagación hacia atrás (Back propagation)\n",
        "\n",
        "Aunque la propagacación hacia atrás se haga de manera automática en la mayoría de los paquetes computacionales es bueno que nos demos una idea de cómo funciona y su importancia dentro del DL."
      ]
    },
    {
      "cell_type": "markdown",
      "metadata": {
        "id": "Sb3TMUa4yjxx"
      },
      "source": [
        "Éste método fue introducido a mediados de los años 70, pero no fue hasta el año 86, cuando un [artículo](http://www.nature.com/nature/journal/v323/n6088/pdf/323533a0.pdf) publicado en la revista Nature por David Rumelhart, Geoffrey Hinton, and Ronald Williams; mostrando cómo su implementación en diferentes redes neuronales aumentava su velocidad de entrenamiento respecto a las técnicas usadas en la época, haciendo que problemas intratables hasta el momento se pudieran resolver con relativa fácilidad. Ésto hizo que la propagación hacia atrás se popularizara y que hasta ahora sea la técnica más usada en el entrenamiento de redes neuronales."
      ]
    },
    {
      "cell_type": "markdown",
      "metadata": {
        "id": "nEE2gVNbyr8q"
      },
      "source": [
        "La dificultad de hacer la actualización de los pesos de una red profunda radica en el hecho de que cada peso influye en todos los pesos de la capa subsiguiente (y por tanto en todos los demás de forma indirécta), ésto nos lleva a que sea una tarea computacionalmente costosa hacer una actualización de los pesos hacia delante pues una pequeña modificación hacia adelante puede tener consecuencias gigantes en las capas sucesivas.\n",
        "\n",
        "La propagación hacia atrás nos propone usar un método como el gradiente de descenso (iniciando con el error en la capa de salida) e ir propagando los errores hacia atrás como si cada capa fuera la salida de la anterior. Con ello podemos actualizar poco a poco y teniendo en cuenta los errores acumulados por la red. De forma efectiva estámos actualizando los pesos con toda la información disponible sin el riesgo de un efecto descontrolado en los pesos (como sucede en la propagación hacia adelante)."
      ]
    },
    {
      "cell_type": "markdown",
      "metadata": {
        "id": "NOON44Akyyw-"
      },
      "source": [
        "Son 4 las ecuaciones fundamentales del método:\n",
        "\n",
        "Denotaremos como $L$ la última capa, $l$ las capas ocultas, $j$ una neurona de la capa $l$, $\\sigma$ las funciones de activación de las capas ocultas y $a_j$ es la salida $j$ de la red ($a$ sería el vector de todas las salidas predichas por la red) y $z_j^l$ es la entrada pesada a la función de activación de la capa $l$ en la neurona $j$.\n",
        "\n",
        "\n",
        "\n",
        "\n",
        "*   Una ecuación para el error de la capa de salida:\n",
        "$$\\delta_j ^L = \\frac{\\partial C}{\\partial a_j}\\sigma(z_j^L)$$\n",
        "*   Una ecuación para el error de una capa ocualta dada por el error de la capa siguiente (error propagado hacia atráss):\n",
        "$$\\delta^l = ((w^{l+1})^T \\delta^{l+1})\\sigma(z^l)$$\n",
        "*   Una ecuación para la derivada de la función de costo para cualquier bias en la red:\n",
        "$$\\frac{\\partial C}{\\partial b_j^l}= \\delta_j^l$$\n",
        "*    Una ecuación para la derivada parial de la función de costo respecto a cualquier peso de la red:\n",
        "$$\\frac{\\partial C}{\\partial{w_{jk}^l}}=a_k^{l-1}\\delta_j^l$$\n",
        "\n",
        "\n",
        "Con las dos primeras ecuaciones nos es posible calcular el error en cualquier neurona, partiendo desde la capa de salida con la primer ecuación y llendo hacia atrás (propagando el error) cuantas veces sea necesario con la segunda ecuación.\n",
        "\n",
        "Con ello y las dos últimas es posible calcular las derivadas del costo en cualquier punto de la red y aplicando el gradiente de descenso tendríamos nuestra actualización de pesos de una forma más rápida y eficiente que con el uso de inversiones matriciales.\n"
      ]
    },
    {
      "cell_type": "markdown",
      "metadata": {
        "id": "ErTbw_G8y5x1"
      },
      "source": [
        "Con las ecuaciones a mano es fácil imaginar el algoritmo necesario para realiazar la propagación hacia atrás:\n",
        "*  Cree la activación para la capa de entrada $a_1$.\n",
        "*  Propague hacia adelanta para cada $l= 2,3,...,L$ calculando $z^l = w^la^{l-1}+b^l$ y $\\sigma(z^l)$\n",
        "*   Calcule el error de la capa de salida $\\delta^L$\n",
        "*   Propague hacia atrás para cada $l=l-1, l-2...2$ calculando el correspondiente $\\delta^l$\n",
        "*  Calcule los gradientes correspondientes a cada peso y cada bias y aplique el método de descenso de gradiente para actualizar cada peso.\n",
        "\n",
        "Si bien ésta es algorítmo detrás del método no es necesario aprender los detalles o las ecuaciones, pues éste ya viene integrado en las bibliotecas que usamos para realizar machine learning como Scikitlearn o Keras, sin embargo si es importante comprender su uso y porqué es tan importante y usado por los científicos de datos."
      ]
    },
    {
      "cell_type": "markdown",
      "metadata": {
        "id": "hK2GJfqtLlLL"
      },
      "source": [
        "# Perceptrón\n",
        "\n",
        "  \n",
        "A finales de los años 50's fue diseñado por Frank Rosenblant el perceptrón, inspirandose en los trabajos de McCulloh y Pitts, es considerada la arquitectura mas simple en Deep Learning. Básicamente es un modelo de clasificacion lineal, donde usa como función de activación la función de heaviside, la cual recordemos tiene la siguiente forma:\n",
        "\n",
        " $heaviside(x)=\\begin{cases} \n",
        "      0 & x < 0 \\\\\n",
        "      1 & x\\geq 0 \n",
        "   \\end{cases} $\n",
        "\n",
        "\n",
        "donde el perceptrón es considerado un algoritmo supervisado, cuyos pesos son los $w_{i}$ y el termino $b$ (bias) que podemos ver en las imagenes. Cuando hablamos de clasificación lineal, hacemos referencia a que nuestro perceptrón solo será de utilidad en datasets que sean linealmente separables, es decir, donde podamos encontrar un hiperplano que me permita dividir en dos clases el conjunto de datos, a partir de crear fronteras de división lineal.\n",
        "\n",
        "<div style=\"text-align: center;\">\n",
        "    <img src=\"https://i.imgur.com/vNWd4os.png\" height=\"300px\"/>\n",
        "    <img src=\"https://i.imgur.com/KO0L4tk.png\" />\n",
        "</div>\n",
        "\n",
        "\n",
        "Cuando ingresamos nuestros datos, este realiza una suma pesada definda como:\n",
        "\n",
        "$z=\\sum_{i=1}^{m}x_{i}w_{i}+b$\n",
        "\n",
        "Es decir, cada entrada es multiplicada por un peso(el cual normalmente se inicia de forma aleatoria) y los resultados son sumados junto al b, siendo $b$ la ordenada al origen (bias). El perceptrón perdió credibilidad por un tiempo pues, si bien podía predecir algunas compuerta lógicas, no era el caso con la  **XOR**.\n",
        "\n",
        "<p><img alt=\"Colaboratory logo\" height=\"200px\" src=\"https://pythonmachinelearning.pro/wp-content/uploads/2017/09/Logic-Gates.png\" align=\"center\" hspace=\"10px\" vspace=\"0px\"></p>\n",
        "\n",
        "<div style=\"text-align: center;\">\n",
        "    <img src=\"https://miro.medium.com/max/299/0*9QQhdtqhL6H2yMJ4.gif\" height=\"200px\"/>\n",
        "    <img src=\"https://miro.medium.com/max/301/0*Ul09ZJh9XpWoE3dQ.gif\" height=\"200px\"/>\n",
        "    <img src=\"https://miro.medium.com/max/299/0*W2evx8WUDNHOFeoA.gif\" height=\"200px\"/>\n",
        "</div> \n",
        "\n",
        "Como se puede ver en el caso de **AND** y **OR** podemos trazar una linea que me permita obtener una clasificación correcta, cosa que no pasa con la **XOR**.\n",
        "\n",
        "Recordemos que la tabla de la verdad de la \n",
        "\n",
        "$A$ | $B$ | $A\\bar{B}$ |$\\bar{A}B$ | XOR\n",
        "--|--|--|--|--\n",
        "0|0|0|0|0\n",
        "1|1|0|0|0\n",
        "1|0|1|0|1\n",
        "0|1|0|1|1\n",
        "\n",
        "Veamos un ejemplo con el siguiente dataset el cual no es linealmente separable:"
      ]
    },
    {
      "cell_type": "code",
      "metadata": {
        "id": "M-bc6GzuLu6E"
      },
      "source": [
        "from sklearn.linear_model import Perceptron\n",
        "from sklearn.model_selection import train_test_split\n",
        "import matplotlib.pyplot as plt\n",
        "import numpy as np"
      ],
      "execution_count": 131,
      "outputs": []
    },
    {
      "cell_type": "code",
      "metadata": {
        "id": "7q_0eWvSLyLe",
        "colab": {
          "base_uri": "https://localhost:8080/",
          "height": 286
        },
        "outputId": "213d0575-72f2-4193-e6f8-8b01694bef10"
      },
      "source": [
        "from sklearn.datasets import make_moons\n",
        "X,y = make_moons(n_samples=300, noise=0.1,random_state=25)\n",
        "X_train,X_test,y_train,y_test=train_test_split(X,y)\n",
        "plt.scatter(X_train[:, 0], X_train[:, 1],c=y_train, s=50, cmap='rainbow')"
      ],
      "execution_count": 132,
      "outputs": [
        {
          "output_type": "execute_result",
          "data": {
            "text/plain": [
              "<matplotlib.collections.PathCollection at 0x7f58e3859e50>"
            ]
          },
          "metadata": {},
          "execution_count": 132
        },
        {
          "output_type": "display_data",
          "data": {
            "text/plain": [
              "<Figure size 432x288 with 1 Axes>"
            ],
            "image/png": "[encoded data removed]"
          },
          "metadata": {}
        }
      ]
    },
    {
      "cell_type": "code",
      "metadata": {
        "id": "6E1D6LhqL37Q",
        "colab": {
          "base_uri": "https://localhost:8080/",
          "height": 286
        },
        "outputId": "4644ce6a-bb61-46c5-b374-eba53532784b"
      },
      "source": [
        "model = Perceptron(tol=1e-3, random_state=25)\n",
        "model.fit(X_train,y_train)\n",
        "y_hat=model.predict(X_test)\n",
        "plt.scatter(X_test[:,0],X_test[:,1],c=y_hat,cmap='rainbow',alpha=1)\n",
        "plt.scatter(X[:,0],X[:,1],c=y,cmap='plasma',alpha=0.2)"
      ],
      "execution_count": 133,
      "outputs": [
        {
          "output_type": "execute_result",
          "data": {
            "text/plain": [
              "<matplotlib.collections.PathCollection at 0x7f58e2606650>"
            ]
          },
          "metadata": {},
          "execution_count": 133
        },
        {
          "output_type": "display_data",
          "data": {
            "text/plain": [
              "<Figure size 432x288 with 1 Axes>"
            ],
            "image/png": "[encoded data removed]"
          },
          "metadata": {}
        }
      ]
    },
    {
      "cell_type": "markdown",
      "metadata": {
        "id": "ilACmeABMAYo"
      },
      "source": [
        "En el gráfico anterior se puede ver que no podemos realizar de forma correcta la división de los datos, pues no se tiene una relación lineal.Veamos como esto funciona en un conjunto de datos linealmente separables "
      ]
    },
    {
      "cell_type": "code",
      "metadata": {
        "id": "fvyvC7n5ME4a"
      },
      "source": [
        "from sklearn.datasets import make_blobs"
      ],
      "execution_count": 134,
      "outputs": []
    },
    {
      "cell_type": "code",
      "metadata": {
        "id": "ZE9e9VhQMFbO",
        "colab": {
          "base_uri": "https://localhost:8080/",
          "height": 286
        },
        "outputId": "3e5ec810-919c-4583-a5fe-1a7a091f67a2"
      },
      "source": [
        "X,y=make_blobs(n_samples=300, n_features=2, centers=2, cluster_std=0.9,random_state=3)\n",
        "X_train,X_test,y_train,y_test=train_test_split(X,y)\n",
        "plt.scatter(X_train[:, 0], X_train[:, 1],c=y_train, s=50, cmap='viridis')"
      ],
      "execution_count": 135,
      "outputs": [
        {
          "output_type": "execute_result",
          "data": {
            "text/plain": [
              "<matplotlib.collections.PathCollection at 0x7f58e25bc0d0>"
            ]
          },
          "metadata": {},
          "execution_count": 135
        },
        {
          "output_type": "display_data",
          "data": {
            "text/plain": [
              "<Figure size 432x288 with 1 Axes>"
            ],
            "image/png": "[encoded data removed]"
          },
          "metadata": {}
        }
      ]
    },
    {
      "cell_type": "code",
      "metadata": {
        "id": "m6U3vY7OMIEt",
        "colab": {
          "base_uri": "https://localhost:8080/",
          "height": 286
        },
        "outputId": "ae5a6c64-1932-4f3c-fb7b-e0cc159195fc"
      },
      "source": [
        "model = Perceptron(tol=1e-3, random_state=0)\n",
        "model.fit(X_train,y_train)\n",
        "y_hat=model.predict(X_test)\n",
        "plt.scatter(X_test[:,0],X_test[:,1],c=y_hat,cmap='viridis')\n",
        "plt.scatter(X[:,0],X[:,1],c=y,cmap='plasma',alpha=0.2)"
      ],
      "execution_count": 136,
      "outputs": [
        {
          "output_type": "execute_result",
          "data": {
            "text/plain": [
              "<matplotlib.collections.PathCollection at 0x7f58e24e95d0>"
            ]
          },
          "metadata": {},
          "execution_count": 136
        },
        {
          "output_type": "display_data",
          "data": {
            "text/plain": [
              "<Figure size 432x288 with 1 Axes>"
            ],
            "image/png": "[encoded data removed]"
          },
          "metadata": {}
        }
      ]
    },
    {
      "cell_type": "markdown",
      "metadata": {
        "id": "GGkayUwLMT9z"
      },
      "source": [
        "## Perceptrón multicapa (Red Neuronal Artificial)\n",
        "\n",
        "\n",
        "Ahora que sabemos como funciona un perceptrón y sus dificultades al enfrentar datos que no presentan una clasificación lineal, podemos  dar un paso mas allá hasta lo que se conoce como red neuronal artificial, que es basicamente la conexión de varios perceptrones o neuronas a través de capaz en forma de red. Donde recordemos la diferencia entre el perceptrón y una neurona, es su función de activación.\n",
        "\n",
        "<p><img alt=\"Colaboratory logo\" height=\"300px\" src=\"https://s3.amazonaws.com/stackabuse/media/intro-to-neural-networks-scikit-learn-3.png\" align=\"center\" hspace=\"10px\" vspace=\"0px\"></p>\n",
        "\n",
        "El perceptrón multicapa a diferencia del perceptrón trabaja bien en los casos donde tenemos datos separables no lineales.En las redes neuronales tenemos una capa de entrada, otra de salida y una o multiples capaz ocultas.Como se puede ver las conexiones siempre están dirigidas hacia adelante es decir, las neuronas de una capa se conectan con las neuronas de la siguiente capa, de ahí que reciban también el nombre de redes alimentadas hacia adelante o redes ”feedforward\".\n",
        "\n",
        "Los pesos dentro de nuestra red neuronal típicamente están expresados como $w_{ij}^{[l]}$, donde \"$l$\" hace referencia a nuestra capa.Para el caso de varios perceptrones nuestra suma está dada por:\n",
        "\n",
        "\\begin{equation}\n",
        "z_{k}^{[l]}=\\sum_{j=1}^{n^[l-1]}x_{j}^{[l-1]}w^{[l]}_{jk}+b_{k}\n",
        "\\end{equation}\n",
        "\n",
        "Donde tenemos que $n^{[l]}$ hace referencia al número de neuronas en la capa $l$. De forma matricial podemos expresar la anterior ecuación para la capa $l$ como:\n",
        "\n",
        "\\begin{equation}\n",
        "Z^{[l]}=X^{[l-1]}W^{[l]}+B^{[l]}\n",
        "\\end{equation}\n",
        "\n",
        "Donde $X$ es la matriz de tamaño $m\\times n^{[l-1]}$, $W^{[l]}$ de $n^{[l-1]}\\times n^{[l]}$ y $B$ de $1\\times n^{[l]}$. Donde de nuevo $n^{[l]}$ hace referencia al número de neuronas en la capa $l$. Como se puede ver, al momento de operar debe hacerse un broadcasting con $B$ de forma tal que podamos resolver nuestra ecuación matricial.\n",
        "\n",
        "Donde tenemos que $X^{[l]}$ viene dada por \n",
        "\n",
        "\\begin{equation}\n",
        "X^{[l]}=f^{[l]}(Z^{[l]})\n",
        "\\end{equation}\n",
        "\n",
        "Con $f^{[l]}$ la función de activación de la capa $l$."
      ]
    },
    {
      "cell_type": "markdown",
      "metadata": {
        "id": "CUzVK2ulMdT5"
      },
      "source": [
        "###Ejercicio\n",
        "\n",
        "Con los siguientes vector, escalar y los datos de entrada de la compuerta lógica **AND**, escribir una función que regrese las salidas correctas, usando un perceptrón. \n",
        "\n",
        "$W =\n",
        " \\begin{pmatrix}\n",
        "  1  \\\\\n",
        "  1 \\\\\n",
        " \\end{pmatrix}$\n",
        "\n",
        "$B=-1.5$"
      ]
    },
    {
      "cell_type": "code",
      "source": [
        "import numpy as np\n",
        "\n",
        "def And(X,W,B):\n",
        "  X1=np.heaviside(np.dot(X,W)+B,1)\n",
        "  return(X1)\n",
        "  \n",
        "X=np.array([[0,0],[0,1],[1,0],[1,1]])\n",
        "W=np.array([1,1])\n",
        "B=-1.5\n",
        "y=And(X,W,B)\n",
        "print(y)"
      ],
      "metadata": {
        "colab": {
          "base_uri": "https://localhost:8080/"
        },
        "id": "OgWlgcTN-BYb",
        "outputId": "b80d8671-e929-42e9-818b-2f40723f31fe"
      },
      "execution_count": 180,
      "outputs": [
        {
          "output_type": "stream",
          "name": "stdout",
          "text": [
            "[0. 0. 0. 1.]\n"
          ]
        }
      ]
    },
    {
      "cell_type": "markdown",
      "metadata": {
        "id": "nE4bxg1AMiOM"
      },
      "source": [
        "Haga click **aquí** si tiene problemas con la solución:\n",
        "\n",
        "<!-----\n",
        "import numpy as np\n",
        "\n",
        "def And(X,W,B):\n",
        "  X1=np.heaviside(np.dot(X,W)+B,1)\n",
        "  return(X1)\n",
        "  \n",
        "X=np.array([[0,0],[0,1],[1,0],[1,1]])\n",
        "W=np.array([1,1])\n",
        "B=-1.5\n",
        "y=And(X,W,B)\n",
        "print(y)\n",
        "----->"
      ]
    },
    {
      "cell_type": "markdown",
      "metadata": {
        "id": "V9uXGH6Vazft"
      },
      "source": [
        "# Funciones de activación:\n",
        "\n",
        "El proceso que describimos de los pasos de una neurona consisten en:\n",
        "\n",
        "- Entrada de los datos, o vector de características.\n",
        "\n",
        "- Ajuste lineal de los datos.\n",
        "\n",
        "- Mapeo del ajuste a una función no lineal.\n",
        "\n",
        "Gráficamente, los pasos anterior se ilustran en la siguiente figura:\n",
        "\n",
        "\n",
        "<img alt=\"Colaboratory logo\" height=\"220px\" src=\"https://github.com/ssanchezgoe/diplomado_udea/blob/master/image/nn_rep.png?raw=true\" align=\"center\">\n",
        "\n",
        "En este ejemplo, se ha definido en la neurona una función de activación sigmoide $\\sigma(z)$. En red multicapas, el \n",
        "problema se ilustra gráficamente como:\n",
        "\n",
        "<img height=330px src=\"https://github.com/ssanchezgoe/diplomado_udea/blob/master/image/msNN_v2.png?raw=true\" align=\"center\">\n",
        "\n",
        "en donde $a_i^{[l]}$ representa el resultado de aplicar la función de activación en la i-ésima neurona de la l-ésima capa. \n",
        "\n",
        "Teniendo en cuenta que una neurona consite en la composición de funciónes de un ajuste lineal y una activación, la salida de todos los ajuste de las neuronas de la capa oculta puede ser expresada en un vector de la forma:\n",
        "\n",
        "$$z^{[1]}=W^{[1]}x+b^{[1]}\\hspace{0.5cm}(1)$$\n",
        "\n",
        "y que corresponde al ajuste lineal de cada neurona de la capa (capa 1 en este caso), seguida de un activación:\n",
        "\n",
        "$$a^{[1]}=g^{[1]}(z^{[1]})\\hspace{0.5cm}(2)$$\n",
        "\n",
        "Similarmente, para una segunda capa, procesaría las activaciones $a^{[1]}$ generadas a la salida de la capa 1, nuevamente, realizando un ajuste lineal seguido de una activación. Matematicamente esto equivale a:\n",
        "\n",
        "$$z^{[2]}=W^{[2]}a^{[1]}+b^{[2]}\\hspace{0.5cm}(3)$$\n",
        "\n",
        "$$a^{[2]}=g^{[2]}(z^{[2]})\\hspace{0.5cm}(4)$$\n",
        "\n",
        "Estas cuatro ecuaciones caracterizan, escencialmente, a una red neuronal.\n",
        "\n",
        "Respecto al funcionamiento de la red y la función de activación asociada a una neurona nos surgen los siguientes interrogantes principales:\n",
        "\n",
        "1. ¿Cuál es la necesidad de introducir una función de activación por neurona?\n",
        "\n",
        "2. ¿Cuáles son las diferentes funciones de activación?\n",
        "\n",
        "3. ¿Que función de activación debemos usar en las diferentes capas?.\n",
        "\n",
        "4. ¿Cómo le indicamos a `keras` las funciones de activación por capas?."
      ]
    },
    {
      "cell_type": "markdown",
      "metadata": {
        "id": "jF4H6K9OamGv"
      },
      "source": [
        "## 1. No linealidad en las redes neuronales: necesidad de funciones de activación.\n",
        "\n",
        "Veamos que pasa si asumimos una respuesta lineal de las reuronas (dada a partir de le función de activación) de una red neuronal; matemáticamente, esto quiere decir,\n",
        "\n",
        "$$g(z)=z \\hspace{0.5cm} (5)$$\n",
        "\n",
        "Introduciendo esta ecuación en las ecuación (2) tenemos que:\n",
        "\n",
        "$$a^{[1]}=z^{[1]}\\hspace{0.5cm}(2a)$$\n",
        "\n",
        "por lo que, de las ecuacion (1), (3) y (4) tenemos que: \n",
        "\n",
        "$$a^{[2]}=z^{[2]}=W^{[2]}(W^{[1]}x+b^{[1]})+b^{[2]}\\hspace{0.5cm}(3a)$$\n",
        "\n",
        "Reagrupando, llegamos a la siguiente expresión:\n",
        "\n",
        "$$a^{[2]}=z^{[2]}=\\underbrace{W^{[2]}W^{[1]}}_{W'}x+\\underbrace{(W^{[2]}b^{[1]}+b^{[2]})}_{b'}\\hspace{0.5cm}(3b)$$\n",
        "\n",
        "Por lo tanto la expresión (3b) se reduciría, nuevamente, a un ajuste lineal:\n",
        "\n",
        "$$a^{[2]}=z^{[2]}=W'x+b'$$\n",
        "\n",
        "Por lo tanto, si tenemos una red neuronal con muchas capas, todas con una función de activación lineal, o lo que es lo mismo, sin función de activación, colapsan a una sola neurona en la que se realiza un ajuste linea en donde el modelo no \"aprende\" nada nuevo a medida que adicionamos capas.\n",
        "\n",
        "La **función de activación** es la encargada de introducir un comportamiento no lineal, con el fin de poder \"aprender\" algo de los datos de entrada. En resumen, podemos afirmar que:\n",
        "\n",
        "Las funciones de activacción se utilizan para propagra la salida de los nodos de un capa hacia la siguiente capa. Las funciones de activación son funciones que van de los escalares a los escalares, produciendo la activación de la neurona. Las funciones de activación en las capas ocultas de las redes neuronales se usan con el fin de introducir una no-liniaridad en las capacidades de modelado del la red. \n",
        "\n",
        "De esta forma, hemos dado respuesta a la pregunta 1 sobre la necesidad de introducir dichas funciones de activación. Veamos ahora cuales son dichas funciones de activación."
      ]
    },
    {
      "cell_type": "markdown",
      "metadata": {
        "id": "6AwjaN6ZamGw"
      },
      "source": [
        "## Tipos de funciones de activación:\n",
        "\n",
        "### Lineal: \n",
        "\n",
        "Una transformación lineal, la cual se muestra en la siguiente figura, consiste, básicamente, en la función identidad, en donde la variable dependiente tiene una relación directa y proporcional con la variable independiente. En términos prácticos, lo anterior significa que una función de activación lineal pasa la señal sin realizar un cambio sobre esta.\n",
        "\n",
        "<img height=300px src=\"https://github.com/ssanchezgoe/diplomado_udea/blob/master/image/linear_af.png?raw=true\">\n",
        "\n",
        "Este el típo de activación que se usa en la capa de entrada de las redes neuronales."
      ]
    },
    {
      "cell_type": "markdown",
      "metadata": {
        "id": "6MUWXGgUamGx"
      },
      "source": [
        "### Sigmoide:\n",
        "\n",
        "Como todas las transformaciones logística, las sigmoides puede reducir la cantidad de valores extremos o outliers en los datos sin eliminarlos. En la siguiente figura se ilustra dicha función sigmoide:\n",
        "\n",
        "<img height=300px src=\"https://github.com/ssanchezgoe/diplomado_udea/blob/master/image/sigmoid_af.png?raw=true\">\n",
        "\n",
        "Una función sigmoide convierde una variable independiente de rango infinito en probabilidades con un rango entre 0 y 1. La mayoria de las salidas serán cercanas a 0 o 1, que corresponden a zonas de saturación.\n",
        "\n",
        "La función de activación sigmoide devuelve una probabilidad independiente para cada clase."
      ]
    },
    {
      "cell_type": "markdown",
      "metadata": {
        "id": "GY0FiXdOamGy"
      },
      "source": [
        "### Tanh\n",
        "\n",
        "Corresponde a una función trigronométrica hiperbólica (ver siguiente figura), la cual representa la cual es igual a:\n",
        "\n",
        "$$\\text{tanh}(x) = \\frac{\\text{sinh(x)}}{\\text{cosh(x)}}=\\frac{e^{x}-e^{-x}}{e^{x}+e^{-x}}$$\n",
        "\n",
        "<img height=300px src=\"https://github.com/ssanchezgoe/diplomado_udea/blob/master/image/tanh_af.png?raw=true\">\n",
        "\n",
        "A diferencia de la función sigmoide, el rango de salida de tanh varía entre -1 y 1. La ventaja de tanh es puede tratar los números negativos de forma más eficiente que la función sigmoide."
      ]
    },
    {
      "cell_type": "markdown",
      "metadata": {
        "id": "-mh_Ezs0amGy"
      },
      "source": [
        "### ReLU: Rectified Linear Unit (Unidad Rectificadad Lineal)\n",
        "\n",
        "La unidad rectificada lineal es una trasformación más intersante que activa un nodo solo si la entrada se encuentra por encima de cierta cantidad. Si la entrada está por debajo de zero, la salida es cero, pero si la entrada alcanza un valor umbral, la salida tiene una relación lineal con la valriabe dependiente $\\text{max}(0,x)$, como se observa en la siguiente figura:\n",
        "\n",
        "<img height=350px src=\"https://github.com/ssanchezgoe/diplomado_udea/blob/master/image/relu_af.png?raw=true\">\n",
        "\n",
        "Las funciones de activaciones ReLU represetan actualmente el estado de arte en la aplicación de funciones de activación, ya que han demostrado un buen desempeño en diferentes situaciones. Dado que el gradiente de la ReLU es ceero o constante, permite evitar el problema del desvanecimiento del gradiente. Las funciones de activación ReLu han demostrado un mejor entrenamiento en la práctica que las funciones de activación sigmoidea. \n",
        "\n",
        "Las funciones de activación ReLU se usan, normalmente, en las capas ocultas.\n",
        "\n",
        "Existen varias funciones de activación más, no obstante, nos centraremos a continuación en la descrisición de una función de activación usada en la capa de salida para la clasificación multiclase mediante una red neuronal, conocida como Softmax."
      ]
    },
    {
      "cell_type": "markdown",
      "metadata": {
        "id": "nXz0g9h_amGz"
      },
      "source": [
        "## Softmax\n",
        "\n",
        "La función de activación Softmax representa una generalización de la regresión logística en el sentido que puede ser apllicada a un conjunto continues de datos (en lugar de una clasificación binaria) y puede contener múltiples fronteras de desición. Esta función maneja sistemas multinomiales para el etiquetado. Softmax es una función que normalmente se usa en la capa de salida de un clasificador.\n",
        "\n",
        "La función de activación Softmax devuelve la distribución de probablilidades de clases mutuamente excluyentes.\n",
        "\n",
        "Consideremos el siguiente ejemplo en donde se ilustra, entre otra cosas la definición de la función SoftMax:\n",
        "\n",
        "<img height=200px src=\"https://miro.medium.com/max/906/1*670CdxchunD-yAuUWdI7Bw.png\">\n",
        "\n",
        "En deep learning, el térno capa logit se usa para la última capa de neuronas de la red neuronal para el problema de clasificación que produce unos valores de predicción \"crudos\" de valores reales que varian en el intervalo $(-\\infty,\\infty)$. En concreto, las cantidades logits son los puntajes crudos de la ultima capa de la red neuronal, antes de que se les aplique la activación. \n",
        "\n",
        "Apliquemos definición de la función softmax para desarrollar una intuición de lo que esta significa:"
      ]
    },
    {
      "cell_type": "code",
      "metadata": {
        "id": "drfbER-CamG0",
        "colab": {
          "base_uri": "https://localhost:8080/"
        },
        "outputId": "d5920617-ede2-49cd-a193-d9ca532e5c01"
      },
      "source": [
        "logits = [8.0, 0.4, 3.0,1.5] # Definición de los valores logits\n",
        "\n",
        "s=sum(logits)\n",
        "\n",
        "p = list(map(lambda x: x / s, logits))\n",
        "\n",
        "p"
      ],
      "execution_count": 137,
      "outputs": [
        {
          "output_type": "execute_result",
          "data": {
            "text/plain": [
              "[0.6201550387596899,\n",
              " 0.031007751937984496,\n",
              " 0.23255813953488372,\n",
              " 0.11627906976744186]"
            ]
          },
          "metadata": {},
          "execution_count": 137
        }
      ]
    },
    {
      "cell_type": "code",
      "source": [
        "import numpy as np\n",
        "\n",
        "exps = [np.exp(i) for i in logits] # Calculo de los numeradores de la ecuación.\n",
        "\n",
        "sum_of_exps = sum(exps)# Cálculo del denominador\n",
        "\n",
        "softmax = [j/sum_of_exps for j in exps] # Cálculo del denominador\n",
        "\n",
        "softmax"
      ],
      "metadata": {
        "colab": {
          "base_uri": "https://localhost:8080/"
        },
        "id": "Qcc3Igcnn4oG",
        "outputId": "98ee9f76-570a-4d3d-89c3-6b382d48076d"
      },
      "execution_count": 138,
      "outputs": [
        {
          "output_type": "execute_result",
          "data": {
            "text/plain": [
              "[0.9913339198401037,\n",
              " 0.0004961144812022794,\n",
              " 0.0066795554102782595,\n",
              " 0.001490410268415699]"
            ]
          },
          "metadata": {},
          "execution_count": 138
        }
      ]
    },
    {
      "cell_type": "code",
      "metadata": {
        "id": "GQWGC06kamG4",
        "colab": {
          "base_uri": "https://localhost:8080/"
        },
        "outputId": "c9d1133e-cbf2-4817-ff5a-564597ecd96e"
      },
      "source": [
        "sum(softmax)"
      ],
      "execution_count": 139,
      "outputs": [
        {
          "output_type": "execute_result",
          "data": {
            "text/plain": [
              "0.9999999999999998"
            ]
          },
          "metadata": {},
          "execution_count": 139
        }
      ]
    },
    {
      "cell_type": "markdown",
      "metadata": {
        "id": "5_r1UbfeamG7"
      },
      "source": [
        "Si cada logit representa el punta en crudo asociado a una clase (grande, mediano, pequeño, por ejemplo), entoncees el valor sofmax asociado a cada clase representa la probabilidad o porcentaje de pertenencia a esa clase. "
      ]
    },
    {
      "cell_type": "markdown",
      "metadata": {
        "id": "FpdFl0p8amG8"
      },
      "source": [
        "## 4. Como usar las diferentes funciones de activación en keras:\n",
        "\n",
        "Para consultar las diferentes formas puede acceder a la documentación de kerras [aquí](https://keras.io/activations/).\n",
        "\n",
        "Existen formas formas para usar las funciones de activación en `keras`:\n",
        "\n",
        "1. A través de una capa, usando el método `Activation`. \n",
        "2. Mediante el argumento `activation` soportado por todas las capas posteriores.\n",
        "3. Mediante una función `TensorFlow/Theano/CNTK` por elementos."
      ]
    },
    {
      "cell_type": "code",
      "metadata": {
        "id": "wqX2KW5lamG9"
      },
      "source": [
        "import numpy as np\n",
        "from tensorflow import keras"
      ],
      "execution_count": 140,
      "outputs": []
    },
    {
      "cell_type": "code",
      "metadata": {
        "id": "A2WA-booamHC",
        "colab": {
          "base_uri": "https://localhost:8080/"
        },
        "outputId": "443edc58-03ee-43ea-e9ac-3e44ea094828"
      },
      "source": [
        "# 1: A través de una capa medidante el método Activación:\n",
        "modelA = keras.models.Sequential()\n",
        "modelA.add(keras.layers.Dense(32, input_shape=(16,)))\n",
        "modelA.add(keras.layers.Dense(64))\n",
        "modelA.add(keras.layers.Activation('tanh'))#  Capa activación\n",
        "modelA.summary()"
      ],
      "execution_count": 141,
      "outputs": [
        {
          "output_type": "stream",
          "name": "stdout",
          "text": [
            "Model: \"sequential\"\n",
            "_________________________________________________________________\n",
            " Layer (type)                Output Shape              Param #   \n",
            "=================================================================\n",
            " dense (Dense)               (None, 32)                544       \n",
            "                                                                 \n",
            " dense_1 (Dense)             (None, 64)                2112      \n",
            "                                                                 \n",
            " activation (Activation)     (None, 64)                0         \n",
            "                                                                 \n",
            "=================================================================\n",
            "Total params: 2,656\n",
            "Trainable params: 2,656\n",
            "Non-trainable params: 0\n",
            "_________________________________________________________________\n"
          ]
        }
      ]
    },
    {
      "cell_type": "code",
      "metadata": {
        "id": "RD6O6ZSgamHG",
        "colab": {
          "base_uri": "https://localhost:8080/"
        },
        "outputId": "453d951e-33ab-4531-89e1-45ed3351b3ff"
      },
      "source": [
        "# Mediante el argumento activation\n",
        "modelB = keras.models.Sequential()\n",
        "modelB.add(keras.layers.Dense(32, input_shape=(16,)))\n",
        "modelB.add(keras.layers.Dense(64, activation='tanh'))\n",
        "modelB.summary()"
      ],
      "execution_count": 142,
      "outputs": [
        {
          "output_type": "stream",
          "name": "stdout",
          "text": [
            "Model: \"sequential_1\"\n",
            "_________________________________________________________________\n",
            " Layer (type)                Output Shape              Param #   \n",
            "=================================================================\n",
            " dense_2 (Dense)             (None, 32)                544       \n",
            "                                                                 \n",
            " dense_3 (Dense)             (None, 64)                2112      \n",
            "                                                                 \n",
            "=================================================================\n",
            "Total params: 2,656\n",
            "Trainable params: 2,656\n",
            "Non-trainable params: 0\n",
            "_________________________________________________________________\n"
          ]
        }
      ]
    },
    {
      "cell_type": "code",
      "metadata": {
        "id": "WmcOlZrWamHM",
        "colab": {
          "base_uri": "https://localhost:8080/"
        },
        "outputId": "6ad71f46-354d-4e80-a71d-c4fdb340116c"
      },
      "source": [
        "# Mediante una función de Tensor-flow por elementos.\n",
        "from keras import backend as K\n",
        "modelC = keras.models.Sequential()\n",
        "modelC.add(keras.layers.Dense(32, input_shape=(16,)))\n",
        "modelC.add(keras.layers.Dense(64, activation=K.tanh))\n",
        "modelC.summary()"
      ],
      "execution_count": 143,
      "outputs": [
        {
          "output_type": "stream",
          "name": "stdout",
          "text": [
            "Model: \"sequential_2\"\n",
            "_________________________________________________________________\n",
            " Layer (type)                Output Shape              Param #   \n",
            "=================================================================\n",
            " dense_4 (Dense)             (None, 32)                544       \n",
            "                                                                 \n",
            " dense_5 (Dense)             (None, 64)                2112      \n",
            "                                                                 \n",
            "=================================================================\n",
            "Total params: 2,656\n",
            "Trainable params: 2,656\n",
            "Non-trainable params: 0\n",
            "_________________________________________________________________\n"
          ]
        }
      ]
    },
    {
      "cell_type": "markdown",
      "metadata": {
        "id": "OToeFvdaamHS"
      },
      "source": [
        "### Funciones de activación principales en `Keras`"
      ]
    },
    {
      "cell_type": "code",
      "metadata": {
        "id": "4Dz39t-camHS",
        "colab": {
          "base_uri": "https://localhost:8080/",
          "height": 286
        },
        "outputId": "891c27ca-8467-4c71-8a5a-563b05fa1d2a"
      },
      "source": [
        "# Relu\n",
        "import matplotlib.pyplot as plt\n",
        "\n",
        "x=np.random.uniform(low=-10.0, high=10, size=(2000,))\n",
        "y=keras.activations.relu(x, alpha=0.0, max_value=None, threshold=0)\n",
        "\n",
        "plt.plot(x,y,'.')"
      ],
      "execution_count": 144,
      "outputs": [
        {
          "output_type": "execute_result",
          "data": {
            "text/plain": [
              "[<matplotlib.lines.Line2D at 0x7f5884c70b10>]"
            ]
          },
          "metadata": {},
          "execution_count": 144
        },
        {
          "output_type": "display_data",
          "data": {
            "text/plain": [
              "<Figure size 432x288 with 1 Axes>"
            ],
            "image/png": "[encoded data removed]"
          },
          "metadata": {}
        }
      ]
    },
    {
      "cell_type": "code",
      "metadata": {
        "id": "BkBIZg35amHV",
        "colab": {
          "base_uri": "https://localhost:8080/",
          "height": 286
        },
        "outputId": "3f6e9f69-3ab2-4d66-b43d-a07666c76520"
      },
      "source": [
        "# tanh\n",
        "\n",
        "y=keras.activations.tanh(x)\n",
        "\n",
        "plt.plot(x,y,'.')"
      ],
      "execution_count": 145,
      "outputs": [
        {
          "output_type": "execute_result",
          "data": {
            "text/plain": [
              "[<matplotlib.lines.Line2D at 0x7f5884bd7a90>]"
            ]
          },
          "metadata": {},
          "execution_count": 145
        },
        {
          "output_type": "display_data",
          "data": {
            "text/plain": [
              "<Figure size 432x288 with 1 Axes>"
            ],
            "image/png": "[encoded data removed]"
          },
          "metadata": {}
        }
      ]
    },
    {
      "cell_type": "code",
      "metadata": {
        "id": "W2egi0PQamHY",
        "colab": {
          "base_uri": "https://localhost:8080/",
          "height": 286
        },
        "outputId": "621db8d3-a7cc-45f5-80d2-15029074ed07"
      },
      "source": [
        "#sigmoid\n",
        "\n",
        "y=keras.activations.sigmoid(x)\n",
        "\n",
        "plt.plot(x,y,'.')\n"
      ],
      "execution_count": 146,
      "outputs": [
        {
          "output_type": "execute_result",
          "data": {
            "text/plain": [
              "[<matplotlib.lines.Line2D at 0x7f5884b0f610>]"
            ]
          },
          "metadata": {},
          "execution_count": 146
        },
        {
          "output_type": "display_data",
          "data": {
            "text/plain": [
              "<Figure size 432x288 with 1 Axes>"
            ],
            "image/png": "[encoded data removed]"
          },
          "metadata": {}
        }
      ]
    },
    {
      "cell_type": "code",
      "metadata": {
        "id": "2F8jkHMRamHa",
        "colab": {
          "base_uri": "https://localhost:8080/",
          "height": 286
        },
        "outputId": "08542cab-96e6-426a-9106-cf0a0a6f34f6"
      },
      "source": [
        "# elu\n",
        "y=keras.activations.elu(x, alpha=1.0)\n",
        "plt.plot(x,y,'.')"
      ],
      "execution_count": 147,
      "outputs": [
        {
          "output_type": "execute_result",
          "data": {
            "text/plain": [
              "[<matplotlib.lines.Line2D at 0x7f5884ac0590>]"
            ]
          },
          "metadata": {},
          "execution_count": 147
        },
        {
          "output_type": "display_data",
          "data": {
            "text/plain": [
              "<Figure size 432x288 with 1 Axes>"
            ],
            "image/png": "[encoded data removed]"
          },
          "metadata": {}
        }
      ]
    },
    {
      "cell_type": "code",
      "metadata": {
        "id": "CukX31wAamHe",
        "colab": {
          "base_uri": "https://localhost:8080/",
          "height": 286
        },
        "outputId": "1560f169-4598-4237-ea3c-2c4a71a8f013"
      },
      "source": [
        "# Exponential\n",
        "y=keras.activations.exponential(x)\n",
        "plt.plot(x,y,'.')"
      ],
      "execution_count": 148,
      "outputs": [
        {
          "output_type": "execute_result",
          "data": {
            "text/plain": [
              "[<matplotlib.lines.Line2D at 0x7f5884aacdd0>]"
            ]
          },
          "metadata": {},
          "execution_count": 148
        },
        {
          "output_type": "display_data",
          "data": {
            "text/plain": [
              "<Figure size 432x288 with 1 Axes>"
            ],
            "image/png": "[encoded data removed]"
          },
          "metadata": {}
        }
      ]
    },
    {
      "cell_type": "code",
      "metadata": {
        "id": "6qldiTnfamHg",
        "colab": {
          "base_uri": "https://localhost:8080/",
          "height": 286
        },
        "outputId": "782f3c76-ef50-4c61-98bd-2d3019a58e74"
      },
      "source": [
        "# Selu \n",
        "y=keras.activations.selu(x)\n",
        "plt.plot(x,y,'.')"
      ],
      "execution_count": 149,
      "outputs": [
        {
          "output_type": "execute_result",
          "data": {
            "text/plain": [
              "[<matplotlib.lines.Line2D at 0x7f5884a1fb50>]"
            ]
          },
          "metadata": {},
          "execution_count": 149
        },
        {
          "output_type": "display_data",
          "data": {
            "text/plain": [
              "<Figure size 432x288 with 1 Axes>"
            ],
            "image/png": "[encoded data removed]"
          },
          "metadata": {}
        }
      ]
    },
    {
      "cell_type": "code",
      "metadata": {
        "id": "s9THrVDXamHi",
        "colab": {
          "base_uri": "https://localhost:8080/",
          "height": 286
        },
        "outputId": "d98a2e8e-bc22-4a60-8fe9-f79e18a84e34"
      },
      "source": [
        "# Linear\n",
        "y=keras.activations.linear(x)\n",
        "plt.plot(x,y,'.')"
      ],
      "execution_count": 150,
      "outputs": [
        {
          "output_type": "execute_result",
          "data": {
            "text/plain": [
              "[<matplotlib.lines.Line2D at 0x7f5884909990>]"
            ]
          },
          "metadata": {},
          "execution_count": 150
        },
        {
          "output_type": "display_data",
          "data": {
            "text/plain": [
              "<Figure size 432x288 with 1 Axes>"
            ],
            "image/png": "[encoded data removed]"
          },
          "metadata": {}
        }
      ]
    },
    {
      "cell_type": "code",
      "metadata": {
        "id": "KqeoGAw-amHl",
        "colab": {
          "base_uri": "https://localhost:8080/",
          "height": 286
        },
        "outputId": "c84f251d-378e-479f-ee0c-8686179bc3b4"
      },
      "source": [
        "y=keras.activations.softplus(x)\n",
        "plt.plot(x,y,'.')"
      ],
      "execution_count": 151,
      "outputs": [
        {
          "output_type": "execute_result",
          "data": {
            "text/plain": [
              "[<matplotlib.lines.Line2D at 0x7f5884993f10>]"
            ]
          },
          "metadata": {},
          "execution_count": 151
        },
        {
          "output_type": "display_data",
          "data": {
            "text/plain": [
              "<Figure size 432x288 with 1 Axes>"
            ],
            "image/png": "[encoded data removed]"
          },
          "metadata": {}
        }
      ]
    },
    {
      "cell_type": "code",
      "metadata": {
        "id": "ZtqTEOdEamHq",
        "colab": {
          "base_uri": "https://localhost:8080/",
          "height": 286
        },
        "outputId": "58dcbcd6-3346-4234-82bb-becf6c87b211"
      },
      "source": [
        "y=keras.activations.softsign(x)\n",
        "plt.plot(x,y,'.')"
      ],
      "execution_count": 152,
      "outputs": [
        {
          "output_type": "execute_result",
          "data": {
            "text/plain": [
              "[<matplotlib.lines.Line2D at 0x7f5884884e10>]"
            ]
          },
          "metadata": {},
          "execution_count": 152
        },
        {
          "output_type": "display_data",
          "data": {
            "text/plain": [
              "<Figure size 432x288 with 1 Axes>"
            ],
            "image/png": "[encoded data removed]"
          },
          "metadata": {}
        }
      ]
    },
    {
      "cell_type": "markdown",
      "metadata": {
        "id": "zqhmu9aDoVs6"
      },
      "source": [
        "# Problema \n",
        "\n",
        "Implementar un modelo de red neuronal usando Keras para predecir los sobrevivientes del titanic. El modelo debe tener dos capas ocultas densas con 16 neuronas cada una y funcion de activacion relu. como optimizador usar descenso del gradiente estocástico como función de pérdida usar binary_crossentropy y como métrica usar accuracy. "
      ]
    },
    {
      "cell_type": "markdown",
      "metadata": {
        "id": "YbB5-pKvMcoi"
      },
      "source": [
        "# Solucion \n",
        "\n"
      ]
    },
    {
      "cell_type": "markdown",
      "metadata": {
        "id": "AaIpHZjTNyn0"
      },
      "source": [
        "Importemos algunas de las librerias que nos seran de utilidad"
      ]
    },
    {
      "cell_type": "code",
      "metadata": {
        "id": "6ZjuI3B3NyoD"
      },
      "source": [
        "import numpy as np\n",
        "import pandas as pd\n",
        "import matplotlib.pyplot as plt\n",
        "import seaborn as sns; sns.set()"
      ],
      "execution_count": 153,
      "outputs": []
    },
    {
      "cell_type": "code",
      "metadata": {
        "id": "efGz10euNyoH"
      },
      "source": [
        "data = pd.read_csv('https://raw.githubusercontent.com/diplomado-bigdata-machinelearning-udea/Curso2/master/Datasets/titanic.csv')"
      ],
      "execution_count": 154,
      "outputs": []
    },
    {
      "cell_type": "markdown",
      "metadata": {
        "id": "mrS0wQH0NyoK"
      },
      "source": [
        "Inspeccionamos un poco el dataset"
      ]
    },
    {
      "cell_type": "code",
      "metadata": {
        "id": "0YNntF3NNyoL",
        "colab": {
          "base_uri": "https://localhost:8080/"
        },
        "outputId": "c30bdc09-2535-4f74-9776-309ba3dedf4d"
      },
      "source": [
        "data.shape"
      ],
      "execution_count": 155,
      "outputs": [
        {
          "output_type": "execute_result",
          "data": {
            "text/plain": [
              "(891, 12)"
            ]
          },
          "metadata": {},
          "execution_count": 155
        }
      ]
    },
    {
      "cell_type": "code",
      "metadata": {
        "id": "EkfBf9TgNyoV",
        "colab": {
          "base_uri": "https://localhost:8080/"
        },
        "outputId": "98046273-ed40-4ba2-ee54-1d7885c1f1a2"
      },
      "source": [
        "data.isnull().any()"
      ],
      "execution_count": 156,
      "outputs": [
        {
          "output_type": "execute_result",
          "data": {
            "text/plain": [
              "PassengerId    False\n",
              "Survived       False\n",
              "Pclass         False\n",
              "Name           False\n",
              "Sex            False\n",
              "Age             True\n",
              "SibSp          False\n",
              "Parch          False\n",
              "Ticket         False\n",
              "Fare           False\n",
              "Cabin           True\n",
              "Embarked        True\n",
              "dtype: bool"
            ]
          },
          "metadata": {},
          "execution_count": 156
        }
      ]
    },
    {
      "cell_type": "code",
      "metadata": {
        "id": "qvT1AhKcNyoY",
        "colab": {
          "base_uri": "https://localhost:8080/",
          "height": 206
        },
        "outputId": "e4ccc69f-8ff8-42a2-f1e0-3d96fcbe5831"
      },
      "source": [
        "data.sample(5)"
      ],
      "execution_count": 157,
      "outputs": [
        {
          "output_type": "execute_result",
          "data": {
            "text/plain": [
              "     PassengerId  Survived  Pclass                              Name   Sex  \\\n",
              "121          122         0       3        Moore, Mr. Leonard Charles  male   \n",
              "478          479         0       3         Karlsson, Mr. Nils August  male   \n",
              "338          339         1       3             Dahl, Mr. Karl Edwart  male   \n",
              "818          819         0       3  Holm, Mr. John Fredrik Alexander  male   \n",
              "72            73         0       2              Hood, Mr. Ambrose Jr  male   \n",
              "\n",
              "      Age  SibSp  Parch        Ticket     Fare Cabin Embarked  \n",
              "121   NaN      0      0     A4. 54510   8.0500   NaN        S  \n",
              "478  22.0      0      0        350060   7.5208   NaN        S  \n",
              "338  45.0      0      0          7598   8.0500   NaN        S  \n",
              "818  43.0      0      0        C 7075   6.4500   NaN        S  \n",
              "72   21.0      0      0  S.O.C. 14879  73.5000   NaN        S  "
            ],
            "text/html": [
              "\n",
              "  <div id=\"df-6a318f99-b410-4fa7-9aeb-dee666c06cee\">\n",
              "    <div class=\"colab-df-container\">\n",
              "      <div>\n",
              "<style scoped>\n",
              "    .dataframe tbody tr th:only-of-type {\n",
              "        vertical-align: middle;\n",
              "    }\n",
              "\n",
              "    .dataframe tbody tr th {\n",
              "        vertical-align: top;\n",
              "    }\n",
              "\n",
              "    .dataframe thead th {\n",
              "        text-align: right;\n",
              "    }\n",
              "</style>\n",
              "<table border=\"1\" class=\"dataframe\">\n",
              "  <thead>\n",
              "    <tr style=\"text-align: right;\">\n",
              "      <th></th>\n",
              "      <th>PassengerId</th>\n",
              "      <th>Survived</th>\n",
              "      <th>Pclass</th>\n",
              "      <th>Name</th>\n",
              "      <th>Sex</th>\n",
              "      <th>Age</th>\n",
              "      <th>SibSp</th>\n",
              "      <th>Parch</th>\n",
              "      <th>Ticket</th>\n",
              "      <th>Fare</th>\n",
              "      <th>Cabin</th>\n",
              "      <th>Embarked</th>\n",
              "    </tr>\n",
              "  </thead>\n",
              "  <tbody>\n",
              "    <tr>\n",
              "      <th>121</th>\n",
              "      <td>122</td>\n",
              "      <td>0</td>\n",
              "      <td>3</td>\n",
              "      <td>Moore, Mr. Leonard Charles</td>\n",
              "      <td>male</td>\n",
              "      <td>NaN</td>\n",
              "      <td>0</td>\n",
              "      <td>0</td>\n",
              "      <td>A4. 54510</td>\n",
              "      <td>8.0500</td>\n",
              "      <td>NaN</td>\n",
              "      <td>S</td>\n",
              "    </tr>\n",
              "    <tr>\n",
              "      <th>478</th>\n",
              "      <td>479</td>\n",
              "      <td>0</td>\n",
              "      <td>3</td>\n",
              "      <td>Karlsson, Mr. Nils August</td>\n",
              "      <td>male</td>\n",
              "      <td>22.0</td>\n",
              "      <td>0</td>\n",
              "      <td>0</td>\n",
              "      <td>350060</td>\n",
              "      <td>7.5208</td>\n",
              "      <td>NaN</td>\n",
              "      <td>S</td>\n",
              "    </tr>\n",
              "    <tr>\n",
              "      <th>338</th>\n",
              "      <td>339</td>\n",
              "      <td>1</td>\n",
              "      <td>3</td>\n",
              "      <td>Dahl, Mr. Karl Edwart</td>\n",
              "      <td>male</td>\n",
              "      <td>45.0</td>\n",
              "      <td>0</td>\n",
              "      <td>0</td>\n",
              "      <td>7598</td>\n",
              "      <td>8.0500</td>\n",
              "      <td>NaN</td>\n",
              "      <td>S</td>\n",
              "    </tr>\n",
              "    <tr>\n",
              "      <th>818</th>\n",
              "      <td>819</td>\n",
              "      <td>0</td>\n",
              "      <td>3</td>\n",
              "      <td>Holm, Mr. John Fredrik Alexander</td>\n",
              "      <td>male</td>\n",
              "      <td>43.0</td>\n",
              "      <td>0</td>\n",
              "      <td>0</td>\n",
              "      <td>C 7075</td>\n",
              "      <td>6.4500</td>\n",
              "      <td>NaN</td>\n",
              "      <td>S</td>\n",
              "    </tr>\n",
              "    <tr>\n",
              "      <th>72</th>\n",
              "      <td>73</td>\n",
              "      <td>0</td>\n",
              "      <td>2</td>\n",
              "      <td>Hood, Mr. Ambrose Jr</td>\n",
              "      <td>male</td>\n",
              "      <td>21.0</td>\n",
              "      <td>0</td>\n",
              "      <td>0</td>\n",
              "      <td>S.O.C. 14879</td>\n",
              "      <td>73.5000</td>\n",
              "      <td>NaN</td>\n",
              "      <td>S</td>\n",
              "    </tr>\n",
              "  </tbody>\n",
              "</table>\n",
              "</div>\n",
              "      <button class=\"colab-df-convert\" onclick=\"convertToInteractive('df-6a318f99-b410-4fa7-9aeb-dee666c06cee')\"\n",
              "              title=\"Convert this dataframe to an interactive table.\"\n",
              "              style=\"display:none;\">\n",
              "        \n",
              "  <svg xmlns=\"http://www.w3.org/2000/svg\" height=\"24px\"viewBox=\"0 0 24 24\"\n",
              "       width=\"24px\">\n",
              "    <path d=\"M0 0h24v24H0V0z\" fill=\"none\"/>\n",
              "    <path d=\"M18.56 5.44l.94 2.06.94-2.06 2.06-.94-2.06-.94-.94-2.06-.94 2.06-2.06.94zm-11 1L8.5 8.5l.94-2.06 2.06-.94-2.06-.94L8.5 2.5l-.94 2.06-2.06.94zm10 10l.94 2.06.94-2.06 2.06-.94-2.06-.94-.94-2.06-.94 2.06-2.06.94z\"/><path d=\"M17.41 7.96l-1.37-1.37c-.4-.4-.92-.59-1.43-.59-.52 0-1.04.2-1.43.59L10.3 9.45l-7.72 7.72c-.78.78-.78 2.05 0 2.83L4 21.41c.39.39.9.59 1.41.59.51 0 1.02-.2 1.41-.59l7.78-7.78 2.81-2.81c.8-.78.8-2.07 0-2.86zM5.41 20L4 18.59l7.72-7.72 1.47 1.35L5.41 20z\"/>\n",
              "  </svg>\n",
              "      </button>\n",
              "      \n",
              "  <style>\n",
              "    .colab-df-container {\n",
              "      display:flex;\n",
              "      flex-wrap:wrap;\n",
              "      gap: 12px;\n",
              "    }\n",
              "\n",
              "    .colab-df-convert {\n",
              "      background-color: #E8F0FE;\n",
              "      border: none;\n",
              "      border-radius: 50%;\n",
              "      cursor: pointer;\n",
              "      display: none;\n",
              "      fill: #1967D2;\n",
              "      height: 32px;\n",
              "      padding: 0 0 0 0;\n",
              "      width: 32px;\n",
              "    }\n",
              "\n",
              "    .colab-df-convert:hover {\n",
              "      background-color: #E2EBFA;\n",
              "      box-shadow: 0px 1px 2px rgba(60, 64, 67, 0.3), 0px 1px 3px 1px rgba(60, 64, 67, 0.15);\n",
              "      fill: #174EA6;\n",
              "    }\n",
              "\n",
              "    [theme=dark] .colab-df-convert {\n",
              "      background-color: #3B4455;\n",
              "      fill: #D2E3FC;\n",
              "    }\n",
              "\n",
              "    [theme=dark] .colab-df-convert:hover {\n",
              "      background-color: #434B5C;\n",
              "      box-shadow: 0px 1px 3px 1px rgba(0, 0, 0, 0.15);\n",
              "      filter: drop-shadow(0px 1px 2px rgba(0, 0, 0, 0.3));\n",
              "      fill: #FFFFFF;\n",
              "    }\n",
              "  </style>\n",
              "\n",
              "      <script>\n",
              "        const buttonEl =\n",
              "          document.querySelector('#df-6a318f99-b410-4fa7-9aeb-dee666c06cee button.colab-df-convert');\n",
              "        buttonEl.style.display =\n",
              "          google.colab.kernel.accessAllowed ? 'block' : 'none';\n",
              "\n",
              "        async function convertToInteractive(key) {\n",
              "          const element = document.querySelector('#df-6a318f99-b410-4fa7-9aeb-dee666c06cee');\n",
              "          const dataTable =\n",
              "            await google.colab.kernel.invokeFunction('convertToInteractive',\n",
              "                                                     [key], {});\n",
              "          if (!dataTable) return;\n",
              "\n",
              "          const docLinkHtml = 'Like what you see? Visit the ' +\n",
              "            '<a target=\"_blank\" href=https://colab.research.google.com/notebooks/data_table.ipynb>data table notebook</a>'\n",
              "            + ' to learn more about interactive tables.';\n",
              "          element.innerHTML = '';\n",
              "          dataTable['output_type'] = 'display_data';\n",
              "          await google.colab.output.renderOutput(dataTable, element);\n",
              "          const docLink = document.createElement('div');\n",
              "          docLink.innerHTML = docLinkHtml;\n",
              "          element.appendChild(docLink);\n",
              "        }\n",
              "      </script>\n",
              "    </div>\n",
              "  </div>\n",
              "  "
            ]
          },
          "metadata": {},
          "execution_count": 157
        }
      ]
    },
    {
      "cell_type": "markdown",
      "metadata": {
        "id": "f4h84HxkNyob"
      },
      "source": [
        "* PassengerIdUnique ID of the passenger\n",
        "* SurvivedSurvived (1) or died (0)\n",
        "* PclassPassenger's class (1st, 2nd, or 3rd)\n",
        "* NamePassenger's name\n",
        "* SexPassenger's sex\n",
        "* AgePassenger's age\n",
        "* SibSpNumber of siblings/spouses aboard the Titanic\n",
        "* ParchNumber of parents/children aboard the Titanic\n",
        "* TicketTicket number\n",
        "* FareFare paid for ticket\n",
        "* CabinCabin number\n",
        "* EmbarkedWhere the passenger got on the ship (C - Cherbourg, S - Southampton, Q = Queenstown)"
      ]
    },
    {
      "cell_type": "markdown",
      "metadata": {
        "id": "8fcWnFYpO4UE"
      },
      "source": [
        "**Removamos algunas de las características que en principio no parecen ser importantes.**"
      ]
    },
    {
      "cell_type": "code",
      "metadata": {
        "id": "rDIPY51BO4UI"
      },
      "source": [
        "data.drop(['PassengerId','Name','Ticket','Cabin','Embarked'], axis=1, inplace=True)"
      ],
      "execution_count": 158,
      "outputs": []
    },
    {
      "cell_type": "code",
      "metadata": {
        "id": "nKEpw_YLO4UM",
        "colab": {
          "base_uri": "https://localhost:8080/",
          "height": 206
        },
        "outputId": "d7ef0772-cd0d-4a1b-89c2-acd939b6a90d"
      },
      "source": [
        "data.sample(5)"
      ],
      "execution_count": 159,
      "outputs": [
        {
          "output_type": "execute_result",
          "data": {
            "text/plain": [
              "     Survived  Pclass     Sex   Age  SibSp  Parch     Fare\n",
              "508         0       3    male  28.0      0      0  22.5250\n",
              "465         0       3    male  38.0      0      0   7.0500\n",
              "536         0       1    male  45.0      0      0  26.5500\n",
              "866         1       2  female  27.0      1      0  13.8583\n",
              "637         0       2    male  31.0      1      1  26.2500"
            ],
            "text/html": [
              "\n",
              "  <div id=\"df-60be5767-b1ab-40ff-b8ba-473b39856b6e\">\n",
              "    <div class=\"colab-df-container\">\n",
              "      <div>\n",
              "<style scoped>\n",
              "    .dataframe tbody tr th:only-of-type {\n",
              "        vertical-align: middle;\n",
              "    }\n",
              "\n",
              "    .dataframe tbody tr th {\n",
              "        vertical-align: top;\n",
              "    }\n",
              "\n",
              "    .dataframe thead th {\n",
              "        text-align: right;\n",
              "    }\n",
              "</style>\n",
              "<table border=\"1\" class=\"dataframe\">\n",
              "  <thead>\n",
              "    <tr style=\"text-align: right;\">\n",
              "      <th></th>\n",
              "      <th>Survived</th>\n",
              "      <th>Pclass</th>\n",
              "      <th>Sex</th>\n",
              "      <th>Age</th>\n",
              "      <th>SibSp</th>\n",
              "      <th>Parch</th>\n",
              "      <th>Fare</th>\n",
              "    </tr>\n",
              "  </thead>\n",
              "  <tbody>\n",
              "    <tr>\n",
              "      <th>508</th>\n",
              "      <td>0</td>\n",
              "      <td>3</td>\n",
              "      <td>male</td>\n",
              "      <td>28.0</td>\n",
              "      <td>0</td>\n",
              "      <td>0</td>\n",
              "      <td>22.5250</td>\n",
              "    </tr>\n",
              "    <tr>\n",
              "      <th>465</th>\n",
              "      <td>0</td>\n",
              "      <td>3</td>\n",
              "      <td>male</td>\n",
              "      <td>38.0</td>\n",
              "      <td>0</td>\n",
              "      <td>0</td>\n",
              "      <td>7.0500</td>\n",
              "    </tr>\n",
              "    <tr>\n",
              "      <th>536</th>\n",
              "      <td>0</td>\n",
              "      <td>1</td>\n",
              "      <td>male</td>\n",
              "      <td>45.0</td>\n",
              "      <td>0</td>\n",
              "      <td>0</td>\n",
              "      <td>26.5500</td>\n",
              "    </tr>\n",
              "    <tr>\n",
              "      <th>866</th>\n",
              "      <td>1</td>\n",
              "      <td>2</td>\n",
              "      <td>female</td>\n",
              "      <td>27.0</td>\n",
              "      <td>1</td>\n",
              "      <td>0</td>\n",
              "      <td>13.8583</td>\n",
              "    </tr>\n",
              "    <tr>\n",
              "      <th>637</th>\n",
              "      <td>0</td>\n",
              "      <td>2</td>\n",
              "      <td>male</td>\n",
              "      <td>31.0</td>\n",
              "      <td>1</td>\n",
              "      <td>1</td>\n",
              "      <td>26.2500</td>\n",
              "    </tr>\n",
              "  </tbody>\n",
              "</table>\n",
              "</div>\n",
              "      <button class=\"colab-df-convert\" onclick=\"convertToInteractive('df-60be5767-b1ab-40ff-b8ba-473b39856b6e')\"\n",
              "              title=\"Convert this dataframe to an interactive table.\"\n",
              "              style=\"display:none;\">\n",
              "        \n",
              "  <svg xmlns=\"http://www.w3.org/2000/svg\" height=\"24px\"viewBox=\"0 0 24 24\"\n",
              "       width=\"24px\">\n",
              "    <path d=\"M0 0h24v24H0V0z\" fill=\"none\"/>\n",
              "    <path d=\"M18.56 5.44l.94 2.06.94-2.06 2.06-.94-2.06-.94-.94-2.06-.94 2.06-2.06.94zm-11 1L8.5 8.5l.94-2.06 2.06-.94-2.06-.94L8.5 2.5l-.94 2.06-2.06.94zm10 10l.94 2.06.94-2.06 2.06-.94-2.06-.94-.94-2.06-.94 2.06-2.06.94z\"/><path d=\"M17.41 7.96l-1.37-1.37c-.4-.4-.92-.59-1.43-.59-.52 0-1.04.2-1.43.59L10.3 9.45l-7.72 7.72c-.78.78-.78 2.05 0 2.83L4 21.41c.39.39.9.59 1.41.59.51 0 1.02-.2 1.41-.59l7.78-7.78 2.81-2.81c.8-.78.8-2.07 0-2.86zM5.41 20L4 18.59l7.72-7.72 1.47 1.35L5.41 20z\"/>\n",
              "  </svg>\n",
              "      </button>\n",
              "      \n",
              "  <style>\n",
              "    .colab-df-container {\n",
              "      display:flex;\n",
              "      flex-wrap:wrap;\n",
              "      gap: 12px;\n",
              "    }\n",
              "\n",
              "    .colab-df-convert {\n",
              "      background-color: #E8F0FE;\n",
              "      border: none;\n",
              "      border-radius: 50%;\n",
              "      cursor: pointer;\n",
              "      display: none;\n",
              "      fill: #1967D2;\n",
              "      height: 32px;\n",
              "      padding: 0 0 0 0;\n",
              "      width: 32px;\n",
              "    }\n",
              "\n",
              "    .colab-df-convert:hover {\n",
              "      background-color: #E2EBFA;\n",
              "      box-shadow: 0px 1px 2px rgba(60, 64, 67, 0.3), 0px 1px 3px 1px rgba(60, 64, 67, 0.15);\n",
              "      fill: #174EA6;\n",
              "    }\n",
              "\n",
              "    [theme=dark] .colab-df-convert {\n",
              "      background-color: #3B4455;\n",
              "      fill: #D2E3FC;\n",
              "    }\n",
              "\n",
              "    [theme=dark] .colab-df-convert:hover {\n",
              "      background-color: #434B5C;\n",
              "      box-shadow: 0px 1px 3px 1px rgba(0, 0, 0, 0.15);\n",
              "      filter: drop-shadow(0px 1px 2px rgba(0, 0, 0, 0.3));\n",
              "      fill: #FFFFFF;\n",
              "    }\n",
              "  </style>\n",
              "\n",
              "      <script>\n",
              "        const buttonEl =\n",
              "          document.querySelector('#df-60be5767-b1ab-40ff-b8ba-473b39856b6e button.colab-df-convert');\n",
              "        buttonEl.style.display =\n",
              "          google.colab.kernel.accessAllowed ? 'block' : 'none';\n",
              "\n",
              "        async function convertToInteractive(key) {\n",
              "          const element = document.querySelector('#df-60be5767-b1ab-40ff-b8ba-473b39856b6e');\n",
              "          const dataTable =\n",
              "            await google.colab.kernel.invokeFunction('convertToInteractive',\n",
              "                                                     [key], {});\n",
              "          if (!dataTable) return;\n",
              "\n",
              "          const docLinkHtml = 'Like what you see? Visit the ' +\n",
              "            '<a target=\"_blank\" href=https://colab.research.google.com/notebooks/data_table.ipynb>data table notebook</a>'\n",
              "            + ' to learn more about interactive tables.';\n",
              "          element.innerHTML = '';\n",
              "          dataTable['output_type'] = 'display_data';\n",
              "          await google.colab.output.renderOutput(dataTable, element);\n",
              "          const docLink = document.createElement('div');\n",
              "          docLink.innerHTML = docLinkHtml;\n",
              "          element.appendChild(docLink);\n",
              "        }\n",
              "      </script>\n",
              "    </div>\n",
              "  </div>\n",
              "  "
            ]
          },
          "metadata": {},
          "execution_count": 159
        }
      ]
    },
    {
      "cell_type": "markdown",
      "metadata": {
        "id": "lcv4J-n1O4UP"
      },
      "source": [
        "Llenemos los valores faltantes en la columna ‘Age’ usando el promedio"
      ]
    },
    {
      "cell_type": "code",
      "metadata": {
        "id": "9f9-IassO4UQ"
      },
      "source": [
        "from sklearn.impute import SimpleImputer"
      ],
      "execution_count": 160,
      "outputs": []
    },
    {
      "cell_type": "code",
      "metadata": {
        "id": "u9RG-RV3O4UU"
      },
      "source": [
        "imp = SimpleImputer(missing_values=np.nan, strategy='mean')"
      ],
      "execution_count": 161,
      "outputs": []
    },
    {
      "cell_type": "code",
      "metadata": {
        "id": "HKPCEY59O4UW"
      },
      "source": [
        "data.loc[data['Survived']==1,['Age']]=imp.fit_transform(data.loc[data['Survived']==1,['Age']])\n",
        "data.loc[data['Survived']==0,['Age']]=imp.fit_transform(data.loc[data['Survived']==0,['Age']])"
      ],
      "execution_count": 162,
      "outputs": []
    },
    {
      "cell_type": "code",
      "metadata": {
        "id": "ScjiZZ3nO4UY",
        "colab": {
          "base_uri": "https://localhost:8080/"
        },
        "outputId": "089a2016-a3d0-4037-f023-b26cd8307f7b"
      },
      "source": [
        "data.isnull().any()"
      ],
      "execution_count": 163,
      "outputs": [
        {
          "output_type": "execute_result",
          "data": {
            "text/plain": [
              "Survived    False\n",
              "Pclass      False\n",
              "Sex         False\n",
              "Age         False\n",
              "SibSp       False\n",
              "Parch       False\n",
              "Fare        False\n",
              "dtype: bool"
            ]
          },
          "metadata": {},
          "execution_count": 163
        }
      ]
    },
    {
      "cell_type": "markdown",
      "metadata": {
        "id": "sUOOAwcCQLZE"
      },
      "source": [
        "Apliquemos one-hot-encoding a la caracteristica categorica ***sex*** y ademas creemos una nueva columna que se llamada \"Family_size\"."
      ]
    },
    {
      "cell_type": "code",
      "metadata": {
        "id": "30DgrUhwQLZL"
      },
      "source": [
        "data=pd.get_dummies(data)"
      ],
      "execution_count": 164,
      "outputs": []
    },
    {
      "cell_type": "code",
      "metadata": {
        "id": "JyG70aOZQLZP",
        "colab": {
          "base_uri": "https://localhost:8080/",
          "height": 206
        },
        "outputId": "0bfef813-4f48-471f-abc2-5b9d7ea7da08"
      },
      "source": [
        "data['Family_size']=data['SibSp'] + data['Parch']\n",
        "data.drop(['SibSp', 'Parch'] ,axis=1, inplace=True)\n",
        "data.head()"
      ],
      "execution_count": 165,
      "outputs": [
        {
          "output_type": "execute_result",
          "data": {
            "text/plain": [
              "   Survived  Pclass   Age     Fare  Sex_female  Sex_male  Family_size\n",
              "0         0       3  22.0   7.2500           0         1            1\n",
              "1         1       1  38.0  71.2833           1         0            1\n",
              "2         1       3  26.0   7.9250           1         0            0\n",
              "3         1       1  35.0  53.1000           1         0            1\n",
              "4         0       3  35.0   8.0500           0         1            0"
            ],
            "text/html": [
              "\n",
              "  <div id=\"df-ef9943c1-c890-4dfc-8b85-c90e92e1896c\">\n",
              "    <div class=\"colab-df-container\">\n",
              "      <div>\n",
              "<style scoped>\n",
              "    .dataframe tbody tr th:only-of-type {\n",
              "        vertical-align: middle;\n",
              "    }\n",
              "\n",
              "    .dataframe tbody tr th {\n",
              "        vertical-align: top;\n",
              "    }\n",
              "\n",
              "    .dataframe thead th {\n",
              "        text-align: right;\n",
              "    }\n",
              "</style>\n",
              "<table border=\"1\" class=\"dataframe\">\n",
              "  <thead>\n",
              "    <tr style=\"text-align: right;\">\n",
              "      <th></th>\n",
              "      <th>Survived</th>\n",
              "      <th>Pclass</th>\n",
              "      <th>Age</th>\n",
              "      <th>Fare</th>\n",
              "      <th>Sex_female</th>\n",
              "      <th>Sex_male</th>\n",
              "      <th>Family_size</th>\n",
              "    </tr>\n",
              "  </thead>\n",
              "  <tbody>\n",
              "    <tr>\n",
              "      <th>0</th>\n",
              "      <td>0</td>\n",
              "      <td>3</td>\n",
              "      <td>22.0</td>\n",
              "      <td>7.2500</td>\n",
              "      <td>0</td>\n",
              "      <td>1</td>\n",
              "      <td>1</td>\n",
              "    </tr>\n",
              "    <tr>\n",
              "      <th>1</th>\n",
              "      <td>1</td>\n",
              "      <td>1</td>\n",
              "      <td>38.0</td>\n",
              "      <td>71.2833</td>\n",
              "      <td>1</td>\n",
              "      <td>0</td>\n",
              "      <td>1</td>\n",
              "    </tr>\n",
              "    <tr>\n",
              "      <th>2</th>\n",
              "      <td>1</td>\n",
              "      <td>3</td>\n",
              "      <td>26.0</td>\n",
              "      <td>7.9250</td>\n",
              "      <td>1</td>\n",
              "      <td>0</td>\n",
              "      <td>0</td>\n",
              "    </tr>\n",
              "    <tr>\n",
              "      <th>3</th>\n",
              "      <td>1</td>\n",
              "      <td>1</td>\n",
              "      <td>35.0</td>\n",
              "      <td>53.1000</td>\n",
              "      <td>1</td>\n",
              "      <td>0</td>\n",
              "      <td>1</td>\n",
              "    </tr>\n",
              "    <tr>\n",
              "      <th>4</th>\n",
              "      <td>0</td>\n",
              "      <td>3</td>\n",
              "      <td>35.0</td>\n",
              "      <td>8.0500</td>\n",
              "      <td>0</td>\n",
              "      <td>1</td>\n",
              "      <td>0</td>\n",
              "    </tr>\n",
              "  </tbody>\n",
              "</table>\n",
              "</div>\n",
              "      <button class=\"colab-df-convert\" onclick=\"convertToInteractive('df-ef9943c1-c890-4dfc-8b85-c90e92e1896c')\"\n",
              "              title=\"Convert this dataframe to an interactive table.\"\n",
              "              style=\"display:none;\">\n",
              "        \n",
              "  <svg xmlns=\"http://www.w3.org/2000/svg\" height=\"24px\"viewBox=\"0 0 24 24\"\n",
              "       width=\"24px\">\n",
              "    <path d=\"M0 0h24v24H0V0z\" fill=\"none\"/>\n",
              "    <path d=\"M18.56 5.44l.94 2.06.94-2.06 2.06-.94-2.06-.94-.94-2.06-.94 2.06-2.06.94zm-11 1L8.5 8.5l.94-2.06 2.06-.94-2.06-.94L8.5 2.5l-.94 2.06-2.06.94zm10 10l.94 2.06.94-2.06 2.06-.94-2.06-.94-.94-2.06-.94 2.06-2.06.94z\"/><path d=\"M17.41 7.96l-1.37-1.37c-.4-.4-.92-.59-1.43-.59-.52 0-1.04.2-1.43.59L10.3 9.45l-7.72 7.72c-.78.78-.78 2.05 0 2.83L4 21.41c.39.39.9.59 1.41.59.51 0 1.02-.2 1.41-.59l7.78-7.78 2.81-2.81c.8-.78.8-2.07 0-2.86zM5.41 20L4 18.59l7.72-7.72 1.47 1.35L5.41 20z\"/>\n",
              "  </svg>\n",
              "      </button>\n",
              "      \n",
              "  <style>\n",
              "    .colab-df-container {\n",
              "      display:flex;\n",
              "      flex-wrap:wrap;\n",
              "      gap: 12px;\n",
              "    }\n",
              "\n",
              "    .colab-df-convert {\n",
              "      background-color: #E8F0FE;\n",
              "      border: none;\n",
              "      border-radius: 50%;\n",
              "      cursor: pointer;\n",
              "      display: none;\n",
              "      fill: #1967D2;\n",
              "      height: 32px;\n",
              "      padding: 0 0 0 0;\n",
              "      width: 32px;\n",
              "    }\n",
              "\n",
              "    .colab-df-convert:hover {\n",
              "      background-color: #E2EBFA;\n",
              "      box-shadow: 0px 1px 2px rgba(60, 64, 67, 0.3), 0px 1px 3px 1px rgba(60, 64, 67, 0.15);\n",
              "      fill: #174EA6;\n",
              "    }\n",
              "\n",
              "    [theme=dark] .colab-df-convert {\n",
              "      background-color: #3B4455;\n",
              "      fill: #D2E3FC;\n",
              "    }\n",
              "\n",
              "    [theme=dark] .colab-df-convert:hover {\n",
              "      background-color: #434B5C;\n",
              "      box-shadow: 0px 1px 3px 1px rgba(0, 0, 0, 0.15);\n",
              "      filter: drop-shadow(0px 1px 2px rgba(0, 0, 0, 0.3));\n",
              "      fill: #FFFFFF;\n",
              "    }\n",
              "  </style>\n",
              "\n",
              "      <script>\n",
              "        const buttonEl =\n",
              "          document.querySelector('#df-ef9943c1-c890-4dfc-8b85-c90e92e1896c button.colab-df-convert');\n",
              "        buttonEl.style.display =\n",
              "          google.colab.kernel.accessAllowed ? 'block' : 'none';\n",
              "\n",
              "        async function convertToInteractive(key) {\n",
              "          const element = document.querySelector('#df-ef9943c1-c890-4dfc-8b85-c90e92e1896c');\n",
              "          const dataTable =\n",
              "            await google.colab.kernel.invokeFunction('convertToInteractive',\n",
              "                                                     [key], {});\n",
              "          if (!dataTable) return;\n",
              "\n",
              "          const docLinkHtml = 'Like what you see? Visit the ' +\n",
              "            '<a target=\"_blank\" href=https://colab.research.google.com/notebooks/data_table.ipynb>data table notebook</a>'\n",
              "            + ' to learn more about interactive tables.';\n",
              "          element.innerHTML = '';\n",
              "          dataTable['output_type'] = 'display_data';\n",
              "          await google.colab.output.renderOutput(dataTable, element);\n",
              "          const docLink = document.createElement('div');\n",
              "          docLink.innerHTML = docLinkHtml;\n",
              "          element.appendChild(docLink);\n",
              "        }\n",
              "      </script>\n",
              "    </div>\n",
              "  </div>\n",
              "  "
            ]
          },
          "metadata": {},
          "execution_count": 165
        }
      ]
    },
    {
      "cell_type": "markdown",
      "metadata": {
        "id": "j9qvyIm-SBHU"
      },
      "source": [
        "Dividamos el Dataset en una parte de entrenamiento y en otra de testeo usando Sklearn"
      ]
    },
    {
      "cell_type": "code",
      "metadata": {
        "id": "xI8ORyTzR_hP"
      },
      "source": [
        "from sklearn.model_selection import train_test_split"
      ],
      "execution_count": 166,
      "outputs": []
    },
    {
      "cell_type": "code",
      "metadata": {
        "id": "TtUsbQN0R_hX"
      },
      "source": [
        "X_train, X_test, y_train, y_test = train_test_split(data.iloc[:,1:], data.iloc[:,0],test_size = 0.2, random_state=0)"
      ],
      "execution_count": 167,
      "outputs": []
    },
    {
      "cell_type": "code",
      "metadata": {
        "id": "qNVeolLZR_hZ",
        "colab": {
          "base_uri": "https://localhost:8080/"
        },
        "outputId": "79fcd86d-e8d5-4170-c906-62d3682ce7ea"
      },
      "source": [
        "X_train.shape"
      ],
      "execution_count": 168,
      "outputs": [
        {
          "output_type": "execute_result",
          "data": {
            "text/plain": [
              "(712, 6)"
            ]
          },
          "metadata": {},
          "execution_count": 168
        }
      ]
    },
    {
      "cell_type": "code",
      "metadata": {
        "id": "o3re0ELQR1Pb"
      },
      "source": [
        "scaler = StandardScaler()\n",
        "X_train_scaled = scaler.fit_transform(X_train)\n",
        "X_test_scaled = scaler.transform(X_test)"
      ],
      "execution_count": 169,
      "outputs": []
    },
    {
      "cell_type": "code",
      "metadata": {
        "id": "6bhot4xMaQOV",
        "colab": {
          "base_uri": "https://localhost:8080/"
        },
        "outputId": "1fe70580-b412-4ebe-e6d5-e9b68b1cdc92"
      },
      "source": [
        "X_train_scaled.shape"
      ],
      "execution_count": 170,
      "outputs": [
        {
          "output_type": "execute_result",
          "data": {
            "text/plain": [
              "(712, 6)"
            ]
          },
          "metadata": {},
          "execution_count": 170
        }
      ]
    },
    {
      "cell_type": "markdown",
      "metadata": {
        "id": "we43gKqfQihi"
      },
      "source": [
        "Ahora creemos nuestra red neuronal usando keras "
      ]
    },
    {
      "cell_type": "code",
      "metadata": {
        "id": "0DkSu7ggQaH8"
      },
      "source": [
        "from tensorflow import keras"
      ],
      "execution_count": 171,
      "outputs": []
    },
    {
      "cell_type": "code",
      "metadata": {
        "id": "OMN0SD_gQlhp"
      },
      "source": [
        "keras.backend.clear_session()"
      ],
      "execution_count": 172,
      "outputs": []
    },
    {
      "cell_type": "markdown",
      "metadata": {
        "id": "Kx23tRSMQtTl"
      },
      "source": [
        "Creemos nuestro modelo usa la API Squential"
      ]
    },
    {
      "cell_type": "code",
      "metadata": {
        "id": "bl7CehCwQq9r"
      },
      "source": [
        "model = keras.models.Sequential([\n",
        "                                 keras.layers.Dense(16,activation='relu', input_shape=(6,)),\n",
        "                                 keras.layers.Dense(16,activation='relu'),\n",
        "                                 keras.layers.Dense(1, activation='sigmoid')\n",
        "])"
      ],
      "execution_count": 173,
      "outputs": []
    },
    {
      "cell_type": "code",
      "metadata": {
        "id": "v8sffjjGSgcV",
        "colab": {
          "base_uri": "https://localhost:8080/",
          "height": 422
        },
        "outputId": "972aea19-0210-4cbd-d913-25d17e7970b1"
      },
      "source": [
        "keras.utils.plot_model(model, show_shapes=True)"
      ],
      "execution_count": 174,
      "outputs": [
        {
          "output_type": "execute_result",
          "data": {
            "text/plain": [
              "<IPython.core.display.Image object>"
            ],
            "image/png": "[encoded data removed]"
          },
          "metadata": {},
          "execution_count": 174
        }
      ]
    },
    {
      "cell_type": "markdown",
      "metadata": {
        "id": "FvyBEKneRLAj"
      },
      "source": [
        "Ahora compilemos el modelo"
      ]
    },
    {
      "cell_type": "code",
      "metadata": {
        "id": "cLt5E-XNRICG"
      },
      "source": [
        "model.compile(optimizer='sgd', loss='binary_crossentropy', metrics=['accuracy'])"
      ],
      "execution_count": 175,
      "outputs": []
    },
    {
      "cell_type": "markdown",
      "metadata": {
        "id": "JdvW5ekORaO-"
      },
      "source": [
        "Ahora entrenemos nuestro modelo "
      ]
    },
    {
      "cell_type": "code",
      "metadata": {
        "id": "39xE3fLGRzsd"
      },
      "source": [
        "y_train=np.array(y_train)\n",
        "y_test=np.array(y_test)"
      ],
      "execution_count": 176,
      "outputs": []
    },
    {
      "cell_type": "code",
      "metadata": {
        "id": "nijZqlV9RY9b",
        "colab": {
          "base_uri": "https://localhost:8080/"
        },
        "outputId": "d25cf261-873f-40bc-cebc-6a664f6dae15"
      },
      "source": [
        "history=model.fit(X_train_scaled,y_train, epochs=50, validation_split=0.2)"
      ],
      "execution_count": 177,
      "outputs": [
        {
          "output_type": "stream",
          "name": "stdout",
          "text": [
            "Epoch 1/50\n",
            "18/18 [==============================] - 1s 14ms/step - loss: 0.7201 - accuracy: 0.4482 - val_loss: 0.7129 - val_accuracy: 0.4545\n",
            "Epoch 2/50\n",
            "18/18 [==============================] - 0s 3ms/step - loss: 0.6961 - accuracy: 0.5852 - val_loss: 0.6934 - val_accuracy: 0.5874\n",
            "Epoch 3/50\n",
            "18/18 [==============================] - 0s 4ms/step - loss: 0.6758 - accuracy: 0.6591 - val_loss: 0.6760 - val_accuracy: 0.6014\n",
            "Epoch 4/50\n",
            "18/18 [==============================] - 0s 4ms/step - loss: 0.6581 - accuracy: 0.6714 - val_loss: 0.6601 - val_accuracy: 0.6084\n",
            "Epoch 5/50\n",
            "18/18 [==============================] - 0s 3ms/step - loss: 0.6420 - accuracy: 0.6854 - val_loss: 0.6456 - val_accuracy: 0.6294\n",
            "Epoch 6/50\n",
            "18/18 [==============================] - 0s 4ms/step - loss: 0.6273 - accuracy: 0.6872 - val_loss: 0.6320 - val_accuracy: 0.6434\n",
            "Epoch 7/50\n",
            "18/18 [==============================] - 0s 3ms/step - loss: 0.6134 - accuracy: 0.7065 - val_loss: 0.6189 - val_accuracy: 0.6713\n",
            "Epoch 8/50\n",
            "18/18 [==============================] - 0s 3ms/step - loss: 0.6000 - accuracy: 0.7311 - val_loss: 0.6066 - val_accuracy: 0.6643\n",
            "Epoch 9/50\n",
            "18/18 [==============================] - 0s 4ms/step - loss: 0.5878 - accuracy: 0.7487 - val_loss: 0.5948 - val_accuracy: 0.6713\n",
            "Epoch 10/50\n",
            "18/18 [==============================] - 0s 4ms/step - loss: 0.5761 - accuracy: 0.7575 - val_loss: 0.5835 - val_accuracy: 0.6923\n",
            "Epoch 11/50\n",
            "18/18 [==============================] - 0s 3ms/step - loss: 0.5655 - accuracy: 0.7733 - val_loss: 0.5731 - val_accuracy: 0.7552\n",
            "Epoch 12/50\n",
            "18/18 [==============================] - 0s 3ms/step - loss: 0.5556 - accuracy: 0.7803 - val_loss: 0.5633 - val_accuracy: 0.7552\n",
            "Epoch 13/50\n",
            "18/18 [==============================] - 0s 4ms/step - loss: 0.5463 - accuracy: 0.7891 - val_loss: 0.5539 - val_accuracy: 0.7692\n",
            "Epoch 14/50\n",
            "18/18 [==============================] - 0s 3ms/step - loss: 0.5376 - accuracy: 0.7873 - val_loss: 0.5451 - val_accuracy: 0.7622\n",
            "Epoch 15/50\n",
            "18/18 [==============================] - 0s 4ms/step - loss: 0.5298 - accuracy: 0.7961 - val_loss: 0.5366 - val_accuracy: 0.7832\n",
            "Epoch 16/50\n",
            "18/18 [==============================] - 0s 4ms/step - loss: 0.5223 - accuracy: 0.7979 - val_loss: 0.5287 - val_accuracy: 0.7972\n",
            "Epoch 17/50\n",
            "18/18 [==============================] - 0s 4ms/step - loss: 0.5156 - accuracy: 0.7944 - val_loss: 0.5210 - val_accuracy: 0.7972\n",
            "Epoch 18/50\n",
            "18/18 [==============================] - 0s 3ms/step - loss: 0.5093 - accuracy: 0.7979 - val_loss: 0.5137 - val_accuracy: 0.7902\n",
            "Epoch 19/50\n",
            "18/18 [==============================] - 0s 4ms/step - loss: 0.5036 - accuracy: 0.8014 - val_loss: 0.5072 - val_accuracy: 0.7902\n",
            "Epoch 20/50\n",
            "18/18 [==============================] - 0s 4ms/step - loss: 0.4986 - accuracy: 0.8014 - val_loss: 0.5011 - val_accuracy: 0.7902\n",
            "Epoch 21/50\n",
            "18/18 [==============================] - 0s 4ms/step - loss: 0.4939 - accuracy: 0.8049 - val_loss: 0.4956 - val_accuracy: 0.7972\n",
            "Epoch 22/50\n",
            "18/18 [==============================] - 0s 3ms/step - loss: 0.4897 - accuracy: 0.8049 - val_loss: 0.4905 - val_accuracy: 0.7972\n",
            "Epoch 23/50\n",
            "18/18 [==============================] - 0s 4ms/step - loss: 0.4858 - accuracy: 0.8014 - val_loss: 0.4861 - val_accuracy: 0.7972\n",
            "Epoch 24/50\n",
            "18/18 [==============================] - 0s 4ms/step - loss: 0.4823 - accuracy: 0.8014 - val_loss: 0.4819 - val_accuracy: 0.8042\n",
            "Epoch 25/50\n",
            "18/18 [==============================] - 0s 3ms/step - loss: 0.4790 - accuracy: 0.8014 - val_loss: 0.4780 - val_accuracy: 0.8042\n",
            "Epoch 26/50\n",
            "18/18 [==============================] - 0s 3ms/step - loss: 0.4762 - accuracy: 0.8014 - val_loss: 0.4745 - val_accuracy: 0.8112\n",
            "Epoch 27/50\n",
            "18/18 [==============================] - 0s 3ms/step - loss: 0.4735 - accuracy: 0.8014 - val_loss: 0.4713 - val_accuracy: 0.8112\n",
            "Epoch 28/50\n",
            "18/18 [==============================] - 0s 3ms/step - loss: 0.4712 - accuracy: 0.8014 - val_loss: 0.4687 - val_accuracy: 0.8112\n",
            "Epoch 29/50\n",
            "18/18 [==============================] - 0s 3ms/step - loss: 0.4689 - accuracy: 0.7996 - val_loss: 0.4660 - val_accuracy: 0.8112\n",
            "Epoch 30/50\n",
            "18/18 [==============================] - 0s 4ms/step - loss: 0.4669 - accuracy: 0.8014 - val_loss: 0.4637 - val_accuracy: 0.8112\n",
            "Epoch 31/50\n",
            "18/18 [==============================] - 0s 4ms/step - loss: 0.4651 - accuracy: 0.8014 - val_loss: 0.4616 - val_accuracy: 0.8182\n",
            "Epoch 32/50\n",
            "18/18 [==============================] - 0s 3ms/step - loss: 0.4635 - accuracy: 0.7996 - val_loss: 0.4596 - val_accuracy: 0.8182\n",
            "Epoch 33/50\n",
            "18/18 [==============================] - 0s 3ms/step - loss: 0.4620 - accuracy: 0.8014 - val_loss: 0.4579 - val_accuracy: 0.8182\n",
            "Epoch 34/50\n",
            "18/18 [==============================] - 0s 3ms/step - loss: 0.4605 - accuracy: 0.8014 - val_loss: 0.4561 - val_accuracy: 0.8182\n",
            "Epoch 35/50\n",
            "18/18 [==============================] - 0s 4ms/step - loss: 0.4592 - accuracy: 0.8014 - val_loss: 0.4547 - val_accuracy: 0.8182\n",
            "Epoch 36/50\n",
            "18/18 [==============================] - 0s 3ms/step - loss: 0.4580 - accuracy: 0.8032 - val_loss: 0.4535 - val_accuracy: 0.8182\n",
            "Epoch 37/50\n",
            "18/18 [==============================] - 0s 4ms/step - loss: 0.4567 - accuracy: 0.8032 - val_loss: 0.4523 - val_accuracy: 0.8182\n",
            "Epoch 38/50\n",
            "18/18 [==============================] - 0s 4ms/step - loss: 0.4556 - accuracy: 0.8032 - val_loss: 0.4513 - val_accuracy: 0.8182\n",
            "Epoch 39/50\n",
            "18/18 [==============================] - 0s 4ms/step - loss: 0.4545 - accuracy: 0.8032 - val_loss: 0.4502 - val_accuracy: 0.8182\n",
            "Epoch 40/50\n",
            "18/18 [==============================] - 0s 3ms/step - loss: 0.4538 - accuracy: 0.8032 - val_loss: 0.4494 - val_accuracy: 0.8182\n",
            "Epoch 41/50\n",
            "18/18 [==============================] - 0s 4ms/step - loss: 0.4527 - accuracy: 0.8032 - val_loss: 0.4486 - val_accuracy: 0.8182\n",
            "Epoch 42/50\n",
            "18/18 [==============================] - 0s 3ms/step - loss: 0.4518 - accuracy: 0.8032 - val_loss: 0.4477 - val_accuracy: 0.8182\n",
            "Epoch 43/50\n",
            "18/18 [==============================] - 0s 3ms/step - loss: 0.4509 - accuracy: 0.8032 - val_loss: 0.4470 - val_accuracy: 0.8182\n",
            "Epoch 44/50\n",
            "18/18 [==============================] - 0s 4ms/step - loss: 0.4501 - accuracy: 0.8032 - val_loss: 0.4463 - val_accuracy: 0.8182\n",
            "Epoch 45/50\n",
            "18/18 [==============================] - 0s 3ms/step - loss: 0.4492 - accuracy: 0.8032 - val_loss: 0.4457 - val_accuracy: 0.8182\n",
            "Epoch 46/50\n",
            "18/18 [==============================] - 0s 3ms/step - loss: 0.4485 - accuracy: 0.8032 - val_loss: 0.4450 - val_accuracy: 0.8182\n",
            "Epoch 47/50\n",
            "18/18 [==============================] - 0s 4ms/step - loss: 0.4478 - accuracy: 0.8049 - val_loss: 0.4444 - val_accuracy: 0.8182\n",
            "Epoch 48/50\n",
            "18/18 [==============================] - 0s 3ms/step - loss: 0.4470 - accuracy: 0.8049 - val_loss: 0.4441 - val_accuracy: 0.8252\n",
            "Epoch 49/50\n",
            "18/18 [==============================] - 0s 3ms/step - loss: 0.4462 - accuracy: 0.8049 - val_loss: 0.4436 - val_accuracy: 0.8252\n",
            "Epoch 50/50\n",
            "18/18 [==============================] - 0s 3ms/step - loss: 0.4457 - accuracy: 0.8049 - val_loss: 0.4432 - val_accuracy: 0.8252\n"
          ]
        }
      ]
    },
    {
      "cell_type": "markdown",
      "metadata": {
        "id": "VFupqnm7V9H9"
      },
      "source": [
        "Ahora utilicemos nuestro modelo ya entrenado sobre los datos de testeo"
      ]
    },
    {
      "cell_type": "code",
      "metadata": {
        "id": "9TRdioPYS3Lr",
        "colab": {
          "base_uri": "https://localhost:8080/"
        },
        "outputId": "4037148e-8d02-4792-e063-1346e580e04f"
      },
      "source": [
        "model.evaluate(X_test_scaled,y_test)"
      ],
      "execution_count": 178,
      "outputs": [
        {
          "output_type": "stream",
          "name": "stdout",
          "text": [
            "6/6 [==============================] - 0s 2ms/step - loss: 0.4081 - accuracy: 0.8101\n"
          ]
        },
        {
          "output_type": "execute_result",
          "data": {
            "text/plain": [
              "[0.40810632705688477, 0.8100558519363403]"
            ]
          },
          "metadata": {},
          "execution_count": 178
        }
      ]
    },
    {
      "cell_type": "markdown",
      "metadata": {
        "id": "utXNK-OmXFc4"
      },
      "source": [
        "visualicemos nuestros resultados "
      ]
    },
    {
      "cell_type": "code",
      "metadata": {
        "id": "Y__SpciuU_B6",
        "colab": {
          "base_uri": "https://localhost:8080/",
          "height": 449
        },
        "outputId": "42423c51-a765-4cc0-eb5b-b2c2214dd216"
      },
      "source": [
        "pd.DataFrame(history.history).plot(figsize=(7,7))"
      ],
      "execution_count": 179,
      "outputs": [
        {
          "output_type": "execute_result",
          "data": {
            "text/plain": [
              "<matplotlib.axes._subplots.AxesSubplot at 0x7f5884789590>"
            ]
          },
          "metadata": {},
          "execution_count": 179
        },
        {
          "output_type": "display_data",
          "data": {
            "text/plain": [
              "<Figure size 504x504 with 1 Axes>"
            ],
            "image/png": "[encoded data removed]"
          },
          "metadata": {}
        }
      ]
    },
    {
      "cell_type": "code",
      "metadata": {
        "id": "ORJvdBkn2_ug"
      },
      "source": [
        ""
      ],
      "execution_count": 179,
      "outputs": []
    }
  ]
}